{
 "cells": [
  {
   "cell_type": "markdown",
   "id": "3d58440b-3620-437c-9191-8b9105981ee9",
   "metadata": {},
   "source": [
    "# Chapter 6. AI 기초 - Preprocessing & Hyper Parameter\n",
    "* 교재 : 으뜸 머신러닝(생능출판)\n",
    "* 출처 : https://www.booksr.co.kr/product/9788970503691/"
   ]
  },
  {
   "cell_type": "code",
   "execution_count": 2,
   "id": "d6c9e4c7-9384-4f36-bae6-8544cf93f7c1",
   "metadata": {},
   "outputs": [],
   "source": [
    "import numpy as np\n",
    "import pandas as pd\n",
    "\n",
    "import matplotlib.pyplot as plt\n",
    "import seaborn as sns\n",
    "\n",
    "import warnings\n",
    "warnings.filterwarnings('ignore')"
   ]
  },
  {
   "cell_type": "markdown",
   "id": "14e8dcb4-c3f4-479c-90de-93cc25944c05",
   "metadata": {},
   "source": [
    "# 1. Validation Dataset"
   ]
  },
  {
   "cell_type": "markdown",
   "id": "05d4cf57-bee0-457a-b879-f125ddf197c3",
   "metadata": {},
   "source": [
    "## Ex) Breast cancer"
   ]
  },
  {
   "cell_type": "markdown",
   "id": "fa81f2e8-cdcd-4db8-86fa-52db9174294a",
   "metadata": {},
   "source": [
    "### Data"
   ]
  },
  {
   "cell_type": "code",
   "execution_count": 3,
   "id": "bb55b883-4c4e-410a-9bf5-532517cc9ed6",
   "metadata": {},
   "outputs": [],
   "source": [
    "from sklearn.datasets import load_breast_cancer"
   ]
  },
  {
   "cell_type": "code",
   "execution_count": 4,
   "id": "b3c50726-9131-4874-8506-b1db776b60e4",
   "metadata": {},
   "outputs": [
    {
     "data": {
      "text/html": [
       "<div>\n",
       "<style scoped>\n",
       "    .dataframe tbody tr th:only-of-type {\n",
       "        vertical-align: middle;\n",
       "    }\n",
       "\n",
       "    .dataframe tbody tr th {\n",
       "        vertical-align: top;\n",
       "    }\n",
       "\n",
       "    .dataframe thead th {\n",
       "        text-align: right;\n",
       "    }\n",
       "</style>\n",
       "<table border=\"1\" class=\"dataframe\">\n",
       "  <thead>\n",
       "    <tr style=\"text-align: right;\">\n",
       "      <th></th>\n",
       "      <th>mean radius</th>\n",
       "      <th>mean texture</th>\n",
       "      <th>mean perimeter</th>\n",
       "      <th>mean area</th>\n",
       "      <th>mean smoothness</th>\n",
       "      <th>mean compactness</th>\n",
       "      <th>mean concavity</th>\n",
       "      <th>mean concave points</th>\n",
       "      <th>mean symmetry</th>\n",
       "      <th>mean fractal dimension</th>\n",
       "      <th>...</th>\n",
       "      <th>worst texture</th>\n",
       "      <th>worst perimeter</th>\n",
       "      <th>worst area</th>\n",
       "      <th>worst smoothness</th>\n",
       "      <th>worst compactness</th>\n",
       "      <th>worst concavity</th>\n",
       "      <th>worst concave points</th>\n",
       "      <th>worst symmetry</th>\n",
       "      <th>worst fractal dimension</th>\n",
       "      <th>Target</th>\n",
       "    </tr>\n",
       "  </thead>\n",
       "  <tbody>\n",
       "    <tr>\n",
       "      <th>0</th>\n",
       "      <td>17.99</td>\n",
       "      <td>10.38</td>\n",
       "      <td>122.8</td>\n",
       "      <td>1001.0</td>\n",
       "      <td>0.11840</td>\n",
       "      <td>0.27760</td>\n",
       "      <td>0.3001</td>\n",
       "      <td>0.14710</td>\n",
       "      <td>0.2419</td>\n",
       "      <td>0.07871</td>\n",
       "      <td>...</td>\n",
       "      <td>17.33</td>\n",
       "      <td>184.6</td>\n",
       "      <td>2019.0</td>\n",
       "      <td>0.1622</td>\n",
       "      <td>0.6656</td>\n",
       "      <td>0.7119</td>\n",
       "      <td>0.2654</td>\n",
       "      <td>0.4601</td>\n",
       "      <td>0.11890</td>\n",
       "      <td>0</td>\n",
       "    </tr>\n",
       "    <tr>\n",
       "      <th>1</th>\n",
       "      <td>20.57</td>\n",
       "      <td>17.77</td>\n",
       "      <td>132.9</td>\n",
       "      <td>1326.0</td>\n",
       "      <td>0.08474</td>\n",
       "      <td>0.07864</td>\n",
       "      <td>0.0869</td>\n",
       "      <td>0.07017</td>\n",
       "      <td>0.1812</td>\n",
       "      <td>0.05667</td>\n",
       "      <td>...</td>\n",
       "      <td>23.41</td>\n",
       "      <td>158.8</td>\n",
       "      <td>1956.0</td>\n",
       "      <td>0.1238</td>\n",
       "      <td>0.1866</td>\n",
       "      <td>0.2416</td>\n",
       "      <td>0.1860</td>\n",
       "      <td>0.2750</td>\n",
       "      <td>0.08902</td>\n",
       "      <td>0</td>\n",
       "    </tr>\n",
       "    <tr>\n",
       "      <th>2</th>\n",
       "      <td>19.69</td>\n",
       "      <td>21.25</td>\n",
       "      <td>130.0</td>\n",
       "      <td>1203.0</td>\n",
       "      <td>0.10960</td>\n",
       "      <td>0.15990</td>\n",
       "      <td>0.1974</td>\n",
       "      <td>0.12790</td>\n",
       "      <td>0.2069</td>\n",
       "      <td>0.05999</td>\n",
       "      <td>...</td>\n",
       "      <td>25.53</td>\n",
       "      <td>152.5</td>\n",
       "      <td>1709.0</td>\n",
       "      <td>0.1444</td>\n",
       "      <td>0.4245</td>\n",
       "      <td>0.4504</td>\n",
       "      <td>0.2430</td>\n",
       "      <td>0.3613</td>\n",
       "      <td>0.08758</td>\n",
       "      <td>0</td>\n",
       "    </tr>\n",
       "  </tbody>\n",
       "</table>\n",
       "<p>3 rows × 31 columns</p>\n",
       "</div>"
      ],
      "text/plain": [
       "   mean radius  mean texture  mean perimeter  mean area  mean smoothness  \\\n",
       "0        17.99         10.38           122.8     1001.0          0.11840   \n",
       "1        20.57         17.77           132.9     1326.0          0.08474   \n",
       "2        19.69         21.25           130.0     1203.0          0.10960   \n",
       "\n",
       "   mean compactness  mean concavity  mean concave points  mean symmetry  \\\n",
       "0           0.27760          0.3001              0.14710         0.2419   \n",
       "1           0.07864          0.0869              0.07017         0.1812   \n",
       "2           0.15990          0.1974              0.12790         0.2069   \n",
       "\n",
       "   mean fractal dimension  ...  worst texture  worst perimeter  worst area  \\\n",
       "0                 0.07871  ...          17.33            184.6      2019.0   \n",
       "1                 0.05667  ...          23.41            158.8      1956.0   \n",
       "2                 0.05999  ...          25.53            152.5      1709.0   \n",
       "\n",
       "   worst smoothness  worst compactness  worst concavity  worst concave points  \\\n",
       "0            0.1622             0.6656           0.7119                0.2654   \n",
       "1            0.1238             0.1866           0.2416                0.1860   \n",
       "2            0.1444             0.4245           0.4504                0.2430   \n",
       "\n",
       "   worst symmetry  worst fractal dimension  Target  \n",
       "0          0.4601                  0.11890       0  \n",
       "1          0.2750                  0.08902       0  \n",
       "2          0.3613                  0.08758       0  \n",
       "\n",
       "[3 rows x 31 columns]"
      ]
     },
     "execution_count": 4,
     "metadata": {},
     "output_type": "execute_result"
    }
   ],
   "source": [
    "data = load_breast_cancer()\n",
    "df = pd.DataFrame(data.data, columns= data.feature_names)\n",
    "df['Target'] = data.target\n",
    "df.head(3)"
   ]
  },
  {
   "cell_type": "code",
   "execution_count": 5,
   "id": "bc77dea6-5b6c-42dc-aa32-c3e2b658aa11",
   "metadata": {},
   "outputs": [
    {
     "data": {
      "text/plain": [
       "1    357\n",
       "0    212\n",
       "Name: Target, dtype: int64"
      ]
     },
     "execution_count": 5,
     "metadata": {},
     "output_type": "execute_result"
    }
   ],
   "source": [
    "df['Target'].value_counts()"
   ]
  },
  {
   "cell_type": "markdown",
   "id": "c14e3cc1-4397-4e19-985d-ade14d886cec",
   "metadata": {},
   "source": [
    "### Data Split"
   ]
  },
  {
   "cell_type": "code",
   "execution_count": 6,
   "id": "1a78ce9f-5dde-47d6-b47f-1a21b2fd1325",
   "metadata": {},
   "outputs": [],
   "source": [
    "from sklearn.model_selection import train_test_split"
   ]
  },
  {
   "cell_type": "code",
   "execution_count": 7,
   "id": "2f2445d6-8c73-4e4d-9957-948fd43f9c9a",
   "metadata": {},
   "outputs": [
    {
     "name": "stdout",
     "output_type": "stream",
     "text": [
      "(569, 30) (569,)\n"
     ]
    }
   ],
   "source": [
    "X = df.iloc[:,:-1].values\n",
    "Y = df.iloc[:,-1].values\n",
    "print(X.shape, Y.shape)"
   ]
  },
  {
   "cell_type": "code",
   "execution_count": 8,
   "id": "587760ca-058b-4858-abeb-8f74f0b26379",
   "metadata": {},
   "outputs": [],
   "source": [
    "X_train, X_test, Y_train, Y_test = train_test_split(X, Y,\n",
    "                                                    test_size= 0.2,\n",
    "                                                    stratify= Y,\n",
    "                                                    random_state= 1)"
   ]
  },
  {
   "cell_type": "markdown",
   "id": "65f4a758-e568-4662-9259-c8f54f060a83",
   "metadata": {},
   "source": [
    "* columns가 31개이므로 10^31개의 데이터가 있어야 학습이 잘 된다고 볼 수 있다."
   ]
  },
  {
   "cell_type": "markdown",
   "id": "8a74da35-f1a9-4ff6-a0d9-99b945cb7666",
   "metadata": {},
   "source": [
    "### Validation Dataset"
   ]
  },
  {
   "cell_type": "code",
   "execution_count": 9,
   "id": "88161fa9-6ce9-4812-9837-728130eea574",
   "metadata": {},
   "outputs": [],
   "source": [
    "# X_train, X_val, Y_train, Y_val = train_test_split(X_train, Y_train,\n",
    "#                                                   test_size= 0.2,\n",
    "#                                                   stratify= Y_train,\n",
    "#                                                   random_state= 1)"
   ]
  },
  {
   "cell_type": "markdown",
   "id": "02aef0fb-9ad7-440f-a4ed-efce30da6abe",
   "metadata": {},
   "source": [
    "### K-Fold Validation"
   ]
  },
  {
   "cell_type": "code",
   "execution_count": 10,
   "id": "0ca41976-497c-4183-bbb2-5e953ae28266",
   "metadata": {},
   "outputs": [],
   "source": [
    "from sklearn.model_selection import StratifiedKFold"
   ]
  },
  {
   "cell_type": "code",
   "execution_count": 11,
   "id": "9c503740-71f6-4346-96e8-d7205ab54c5b",
   "metadata": {},
   "outputs": [],
   "source": [
    "X = df.iloc[:,:-1].values\n",
    "Y = df.iloc[:,-1].values\n",
    "\n",
    "X_train, X_test, Y_train, Y_test = train_test_split(X, Y,\n",
    "                                                    test_size= 0.2,\n",
    "                                                    stratify= Y,\n",
    "                                                    random_state= 1)\n",
    "kfold = StratifiedKFold(n_splits= 10,\n",
    "                        shuffle= True,\n",
    "                        random_state= 1).split(X_train, Y_train)"
   ]
  },
  {
   "cell_type": "code",
   "execution_count": 12,
   "id": "91c5aa0a-8e2f-45d2-b4cf-5e233535e3d9",
   "metadata": {},
   "outputs": [
    {
     "data": {
      "text/plain": [
       "<generator object _BaseKFold.split at 0x000001515959D850>"
      ]
     },
     "execution_count": 12,
     "metadata": {},
     "output_type": "execute_result"
    }
   ],
   "source": [
    "kfold"
   ]
  },
  {
   "cell_type": "code",
   "execution_count": 13,
   "id": "6877b2d3-8e11-472b-97f7-0d7899f7fb3c",
   "metadata": {},
   "outputs": [],
   "source": [
    "# for train, val in kfold :\n",
    "#     X_train_scaled = scaler.fit_transform(X_train[train])\n",
    "#     X_val_scaled = scaler.transform(X_train[val])\n",
    "    \n",
    "#     model.fit(X_train_scaled, Y_train[traain])\n",
    "#     pred = model.predict(X_val_scaled)\n",
    "    \n",
    "#     score(Y_train[val], pred)"
   ]
  },
  {
   "cell_type": "code",
   "execution_count": 14,
   "id": "44175920-b1bd-4ea5-8357-aef40f5a4bad",
   "metadata": {},
   "outputs": [],
   "source": [
    "from sklearn.preprocessing import StandardScaler\n",
    "from sklearn.decomposition import PCA\n",
    "from sklearn.linear_model import LogisticRegression\n",
    "from sklearn.metrics import accuracy_score"
   ]
  },
  {
   "cell_type": "code",
   "execution_count": 15,
   "id": "35b56343-5f7c-424c-a0f7-69b62b7f122f",
   "metadata": {},
   "outputs": [
    {
     "name": "stdout",
     "output_type": "stream",
     "text": [
      "Fold 1 정확도 : 1.0000\n",
      "Fold 2 정확도 : 0.9348\n",
      "Fold 3 정확도 : 0.9130\n",
      "Fold 4 정확도 : 0.9348\n",
      "Fold 5 정확도 : 0.9783\n",
      "Fold 6 정확도 : 0.9333\n",
      "Fold 7 정확도 : 0.9333\n",
      "Fold 8 정확도 : 0.9778\n",
      "Fold 9 정확도 : 0.9556\n",
      "Fold 10 정확도 : 0.9333\n",
      "\n",
      "Cross Validation 정확도 : 0.9494\n"
     ]
    }
   ],
   "source": [
    "kfold = StratifiedKFold(n_splits= 10,\n",
    "                        shuffle= True,\n",
    "                        random_state= 1).split(X_train, Y_train)\n",
    "\n",
    "cv_score = []\n",
    "for i, (train, val) in enumerate(kfold) :\n",
    "    scaler = StandardScaler()\n",
    "    X_train_scaled = scaler.fit_transform(X_train[train])\n",
    "    X_val_scaled = scaler.transform(X_train[val])\n",
    "    \n",
    "    pca = PCA(n_components= 2)\n",
    "    X_train_scaled = pca.fit_transform(X_train_scaled)\n",
    "    X_val_scaled = pca.transform(X_val_scaled)\n",
    "        \n",
    "    model = LogisticRegression(solver= 'liblinear',\n",
    "                               random_state= 1)\n",
    "    model.fit(X_train_scaled, Y_train[train])\n",
    "    pred = model.predict(X_val_scaled)\n",
    "    \n",
    "    # score 확인 방법 1\n",
    "    score1 = accuracy_score(Y_train[val], pred)\n",
    "    \n",
    "    # score 확인 방법 2\n",
    "    score2 = model.score(X_val_scaled, Y_train[val])\n",
    "    \n",
    "    # 결과 저장\n",
    "    # cv_score.append(score1)\n",
    "    cv_score.append(score2)\n",
    "    print('Fold {} 정확도 : {:.4f}'.format(i+1, score2))\n",
    "    \n",
    "print('\\nCross Validation 정확도 : {:.4f}'.format(np.mean(cv_score)))"
   ]
  },
  {
   "cell_type": "markdown",
   "id": "0dff1550-cdec-4b37-b25a-3d5da4e75418",
   "metadata": {},
   "source": [
    "# 2. cross_val_score(with pipeline)"
   ]
  },
  {
   "cell_type": "code",
   "execution_count": 16,
   "id": "6eb75660-64bd-42de-aa75-89aaeb30de51",
   "metadata": {},
   "outputs": [],
   "source": [
    "X = df.iloc[:,:-1].values\n",
    "Y = df.iloc[:,-1].values\n",
    "\n",
    "X_train, X_test, Y_train, Y_test = train_test_split(X, Y,\n",
    "                                                    test_size= 0.2,\n",
    "                                                    stratify= Y,\n",
    "                                                    random_state= 1)"
   ]
  },
  {
   "cell_type": "code",
   "execution_count": 17,
   "id": "48a17beb-a1d0-4416-ad9b-e11f104de088",
   "metadata": {},
   "outputs": [],
   "source": [
    "from sklearn.model_selection import cross_val_score\n",
    "from sklearn.pipeline import make_pipeline"
   ]
  },
  {
   "cell_type": "code",
   "execution_count": 18,
   "id": "619fc8d6-9cec-4731-85e6-9503ac2f9f5f",
   "metadata": {},
   "outputs": [
    {
     "name": "stdout",
     "output_type": "stream",
     "text": [
      "CV 정확도 : 0.9451\n"
     ]
    }
   ],
   "source": [
    "lr_pipe = make_pipeline(\n",
    "                        StandardScaler(),\n",
    "                        PCA(n_components= 2),\n",
    "                        LogisticRegression(solver= 'liblinear',\n",
    "                                           random_state= 1)\n",
    "                        )\n",
    "# lr_pipe.fit(X_rain, Y_train)\n",
    "# lr_pipe.predict(X_test)\n",
    "\n",
    "cvscore = cross_val_score(estimator= lr_pipe, \n",
    "                          X= X_train,\n",
    "                          y= Y_train,\n",
    "                          # scoring= f1_score, # recall_score etc\n",
    "                          cv= 10,\n",
    "                          n_jobs= -1)\n",
    "\n",
    "print('CV 정확도 : {:.4f}'.format(np.mean(cvscore)))"
   ]
  },
  {
   "cell_type": "markdown",
   "id": "a9a7d9a8-b490-46f8-9c51-fe8d5de8e1eb",
   "metadata": {},
   "source": [
    "# 3. Overfitting"
   ]
  },
  {
   "cell_type": "markdown",
   "id": "831f7148-24db-4213-a187-e078b033052c",
   "metadata": {},
   "source": [
    "## Learning Curve"
   ]
  },
  {
   "cell_type": "code",
   "execution_count": 19,
   "id": "37133556-fca7-4ba9-95a4-e6468fe84d0e",
   "metadata": {},
   "outputs": [],
   "source": [
    "from sklearn.model_selection import learning_curve"
   ]
  },
  {
   "cell_type": "code",
   "execution_count": 20,
   "id": "fcacc064-5baa-40a9-9f79-a568adc03c73",
   "metadata": {},
   "outputs": [],
   "source": [
    "lr_pipe = make_pipeline(\n",
    "                        StandardScaler(),\n",
    "                        # PCA(n_components= 2),\n",
    "                        LogisticRegression(solver= 'liblinear',\n",
    "                                           random_state= 1)\n",
    "                        )\n",
    "\n",
    "sizes, train_score, val_score = learning_curve(estimator= lr_pipe,\n",
    "                                               X= X_train,\n",
    "                                               y= Y_train,\n",
    "                                               train_sizes= np.linspace(0.1,1,10),\n",
    "                                               cv= 10,\n",
    "                                               n_jobs = -1)"
   ]
  },
  {
   "cell_type": "code",
   "execution_count": 21,
   "id": "f80e4e75-ad8a-4d16-885f-9c28f62eb570",
   "metadata": {},
   "outputs": [
    {
     "data": {
      "image/png": "[encoded data removed]",
      "text/plain": [
       "<Figure size 640x480 with 1 Axes>"
      ]
     },
     "metadata": {},
     "output_type": "display_data"
    }
   ],
   "source": [
    "train_mean = np.mean(train_score, axis= 1)\n",
    "val_mean = np.mean(val_score, axis= 1)\n",
    "\n",
    "train_std = np.std(train_score, axis= 1)\n",
    "val_std = np.std(val_score, axis= 1)\n",
    "\n",
    "plt.figure()\n",
    "\n",
    "plt.plot(sizes, train_mean)\n",
    "plt.fill_between(sizes, train_mean+train_std, train_mean-train_std,\n",
    "                 alpha= 0.25)\n",
    "\n",
    "plt.plot(sizes, val_mean)\n",
    "plt.fill_between(sizes, val_mean+val_std, val_mean-val_std,\n",
    "                 alpha= 0.25)\n",
    "\n",
    "plt.show()"
   ]
  },
  {
   "cell_type": "markdown",
   "id": "4a2b95e2-f23d-4564-86e6-50b42b8d393b",
   "metadata": {},
   "source": [
    "## Validation Curve"
   ]
  },
  {
   "cell_type": "code",
   "execution_count": 22,
   "id": "e9b65598-13a1-43dd-b62c-5d767631d2f2",
   "metadata": {},
   "outputs": [],
   "source": [
    "from sklearn.model_selection import validation_curve"
   ]
  },
  {
   "cell_type": "code",
   "execution_count": 23,
   "id": "979fb9d3-0521-4e3c-bbf4-81cdc7c34ae4",
   "metadata": {},
   "outputs": [],
   "source": [
    "C_range = np.logspace(-3, 2, 6)\n",
    "\n",
    "lr_pipe = make_pipeline(StandardScaler(),\n",
    "                        # PCA(n_components= 2),\n",
    "                        LogisticRegression(solver= 'liblinear',\n",
    "                                           penalty= 'l2',\n",
    "                                           random_state= 1))\n",
    "\n",
    "train_score, val_score = validation_curve(estimator= lr_pipe,\n",
    "                                          X= X_train,\n",
    "                                          y= Y_train,\n",
    "                                          param_name= 'logisticregression__C',\n",
    "                                          param_range= C_range,\n",
    "                                          cv= 10,\n",
    "                                          n_jobs= -1)"
   ]
  },
  {
   "cell_type": "code",
   "execution_count": 24,
   "id": "5c033b94-36d3-458f-9f9f-980752bf1690",
   "metadata": {},
   "outputs": [
    {
     "data": {
      "image/png": "[encoded data removed]",
      "text/plain": [
       "<Figure size 640x480 with 1 Axes>"
      ]
     },
     "metadata": {},
     "output_type": "display_data"
    }
   ],
   "source": [
    "train_mean = np.mean(train_score, axis= 1)\n",
    "val_mean = np.mean(val_score, axis= 1)\n",
    "\n",
    "train_std = np.std(train_score, axis= 1)\n",
    "val_std = np.std(val_score, axis= 1)\n",
    "\n",
    "plt.figure()\n",
    "\n",
    "plt.plot(C_range, train_mean)\n",
    "plt.fill_between(C_range, train_mean+train_std, train_mean-train_std,\n",
    "                 alpha= 0.25)\n",
    "\n",
    "plt.plot(C_range, val_mean)\n",
    "plt.fill_between(C_range, val_mean+val_std, val_mean-val_std,\n",
    "                 alpha= 0.25)\n",
    "\n",
    "plt.xscale('log')\n",
    "plt.show()"
   ]
  },
  {
   "cell_type": "markdown",
   "id": "59088215-365f-4209-82a7-2f56d7d18ca3",
   "metadata": {},
   "source": [
    "# 4. GridSearchCV"
   ]
  },
  {
   "cell_type": "code",
   "execution_count": 25,
   "id": "f2987719-d8d8-40ee-8fcc-4b9f3b9b8c2a",
   "metadata": {},
   "outputs": [],
   "source": [
    "from sklearn.model_selection import GridSearchCV\n",
    "from sklearn.svm import SVC"
   ]
  },
  {
   "cell_type": "code",
   "execution_count": 26,
   "id": "90fa8a3a-5a96-4296-a936-00d81cd98111",
   "metadata": {},
   "outputs": [],
   "source": [
    "X = df.iloc[:,:-1].values\n",
    "Y = df.iloc[:,-1].values\n",
    "\n",
    "X_train, X_test, Y_train, Y_test = train_test_split(X, Y,\n",
    "                                                    test_size= 0.2,\n",
    "                                                    stratify= Y,\n",
    "                                                    random_state= 1)"
   ]
  },
  {
   "cell_type": "code",
   "execution_count": 27,
   "id": "bf3d9077-d9ae-4018-9682-16a8d157af51",
   "metadata": {},
   "outputs": [
    {
     "name": "stdout",
     "output_type": "stream",
     "text": [
      "수행 시간 : 0 분 3 초\n",
      "\n",
      "best estimator model: \n",
      "Pipeline(steps=[('standardscaler', StandardScaler()),\n",
      "                ('svc', SVC(C=10.0, gamma=0.001, random_state=1))])\n",
      "\n",
      "best parameter: \n",
      "{'svc__C': 10.0, 'svc__gamma': 0.001, 'svc__kernel': 'rbf'}\n",
      "\n",
      "best score: \n",
      "0.9758\n"
     ]
    }
   ],
   "source": [
    "svc_pipe = make_pipeline(StandardScaler(),\n",
    "                         SVC(random_state= 1))\n",
    "\n",
    "C_range = np.logspace(-4, 3, 8)\n",
    "gamma_range = np.logspace(-4, 3, 8)\n",
    "param_grid = [{'svc__C' : C_range,\n",
    "               'svc__kernel' : ['linear']},\n",
    "              {'svc__C' : C_range,\n",
    "               'svc__gamma' : gamma_range,\n",
    "               'svc__kernel' : ['rbf']}]\n",
    "\n",
    "# 시작 시간 설정\n",
    "import time\n",
    "start_time = time.time()\n",
    "\n",
    "svc_grid = GridSearchCV(estimator= svc_pipe,\n",
    "                        param_grid= param_grid,\n",
    "                        scoring= 'accuracy',\n",
    "                        cv= 10,\n",
    "                        n_jobs= -1)\n",
    "svc_grid = svc_grid.fit(X_train, Y_train)\n",
    "\n",
    "# 결과 확인\n",
    "print('수행 시간 : {:.0f} 분 {:.0f} 초\\n'.format((time.time() - start_time) // 60, (time.time() - start_time) % 60))\n",
    "print('best estimator model: \\n{}'.format(svc_grid.best_estimator_))\n",
    "print('\\nbest parameter: \\n{}'.format(svc_grid.best_params_))\n",
    "print('\\nbest score: \\n{:.4f}'.format(svc_grid.best_score_))"
   ]
  },
  {
   "cell_type": "code",
   "execution_count": 28,
   "id": "e9d4d39a-131d-4383-a828-327c6b25b25c",
   "metadata": {},
   "outputs": [],
   "source": [
    "# lr_grid = GridSearchCV(estimator= LogisticRegression(), cv= 2)\n",
    "# svc_grid = GridSearchCV(estimator= SVC())\n",
    "# rf_grid = GridSearchCV(estimator= RandomForestClassifier())\n",
    "\n",
    "# lr_score = cross_val_score(estimator= lr_grid, cv= 5)\n",
    "# svc_score = cross_val_score(estimator= svc_grid)\n",
    "# rf_score = cross_val_score(estimator= rf_grid)\n",
    "\n",
    "# score 3개를 비교해서 점수가 더 좋은 모델을 선택한다.\n",
    "# 단 이 때 cross_val_score와 gridsearch에 모두 cv가 포함되기 때문에 둘 중 한 곳의 cv를 줄여준다."
   ]
  }
 ],
 "metadata": {
  "kernelspec": {
   "display_name": "Python 3 (ipykernel)",
   "language": "python",
   "name": "python3"
  },
  "language_info": {
   "codemirror_mode": {
    "name": "ipython",
    "version": 3
   },
   "file_extension": ".py",
   "mimetype": "text/x-python",
   "name": "python",
   "nbconvert_exporter": "python",
   "pygments_lexer": "ipython3",
   "version": "3.10.11"
  }
 },
 "nbformat": 4,
 "nbformat_minor": 5
}
