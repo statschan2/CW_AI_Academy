{
 "cells": [
  {
   "cell_type": "markdown",
   "id": "7604c3bc-5c99-4735-8bc2-55f73a82812f",
   "metadata": {},
   "source": [
    "# Chapter 6. AI 기초 - 개요\n",
    "* 교재 : 으뜸 머신러닝(생능출판)\n",
    "* 출처 : https://www.booksr.co.kr/product/9788970503691/"
   ]
  },
  {
   "cell_type": "markdown",
   "id": "734152c5-8ac2-45e8-bf20-c6224b6668ab",
   "metadata": {},
   "source": [
    "# 1. Perceptron(퍼셉트론)\n",
    "* 인공 신경망의 구성 요소로서 다수의 값을 입력받아 하나의 값으로 출력하는 알고리즘\n",
    "* 이해를 위한 간단한 퍼셉트론  \n",
    "1차 방정식 : y = ax + b → 벡터 표현 : y = WX + b"
   ]
  },
  {
   "cell_type": "markdown",
   "id": "207a5f71-2632-4442-9d90-8676bb40b224",
   "metadata": {},
   "source": [
    "## Ex) 간단한 퍼셉트론 Class 구현"
   ]
  },
  {
   "cell_type": "markdown",
   "id": "cb613a0b-a102-402a-be73-13c6d0389a2a",
   "metadata": {},
   "source": [
    "### 학습 능력이 없는 1차 방정식"
   ]
  },
  {
   "cell_type": "code",
   "execution_count": 1,
   "id": "a1fb480f-31e9-4136-9159-15cd4fcb6b78",
   "metadata": {},
   "outputs": [],
   "source": [
    "class Perceptron :\n",
    "    def __init__(self) :\n",
    "        self.w = 1\n",
    "        self.b = 0\n",
    "    def predict(self, x) :\n",
    "        return x * self.w + self.b"
   ]
  },
  {
   "cell_type": "code",
   "execution_count": 2,
   "id": "3909fe8c-5e09-4f8c-bcb3-3bbd2c281b45",
   "metadata": {},
   "outputs": [
    {
     "data": {
      "text/plain": [
       "7"
      ]
     },
     "execution_count": 2,
     "metadata": {},
     "output_type": "execute_result"
    }
   ],
   "source": [
    "p = Perceptron()\n",
    "p.predict(7)"
   ]
  },
  {
   "cell_type": "markdown",
   "id": "cfae36bb-a7f3-440a-8fa4-1971f168bdc5",
   "metadata": {},
   "source": [
    "### 학습 능력을 부여"
   ]
  },
  {
   "cell_type": "code",
   "execution_count": 3,
   "id": "e91f6070-6ddb-4f18-a52e-e7303b6edbc1",
   "metadata": {},
   "outputs": [],
   "source": [
    "class Perceptron :\n",
    "    def __init__(self) :\n",
    "        self.w = 1\n",
    "        self.b = 0\n",
    "    \n",
    "    def fit(self, x, y) : # x : input, y : answer\n",
    "        p = self.predict(x) # P : output\n",
    "        e = y - p # e : error(예측값과 정답의 차이)\n",
    "        self.w += e # w 를 error 만큼 조정\n",
    "        self.b += e # b 를 error 만큼 조정\n",
    "    \n",
    "    def predict(self, x) :\n",
    "        return x * self.w + self.b"
   ]
  },
  {
   "cell_type": "code",
   "execution_count": 4,
   "id": "f7dee75a-844b-49a8-b76d-cde64753161f",
   "metadata": {},
   "outputs": [],
   "source": [
    "import numpy as np"
   ]
  },
  {
   "cell_type": "code",
   "execution_count": 5,
   "id": "1a9ccce4-2e43-49e4-bd9e-da9a11f1235d",
   "metadata": {},
   "outputs": [
    {
     "data": {
      "text/plain": [
       "array([ 1.81118223,  2.07157952,  2.6518573 ,  6.77151888, -0.94613095,\n",
       "       -3.56215727,  4.87824454,  0.67772202, -0.57269024, -2.05659173,\n",
       "        2.62232199,  4.13173508,  1.61012513, -1.24214388,  1.97883638,\n",
       "        6.61565508,  1.6199983 ,  3.68677086,  0.78270116,  4.57554742,\n",
       "       -4.04327376,  0.65789654,  2.15560664, -0.0580773 ,  3.18573822,\n",
       "       -0.96003525,  4.92914246, -3.97427931, -0.21511427,  2.67162769])"
      ]
     },
     "execution_count": 5,
     "metadata": {},
     "output_type": "execute_result"
    }
   ],
   "source": [
    "X = np.random.randn(30)\n",
    "Y = 3*X + 1\n",
    "Y"
   ]
  },
  {
   "cell_type": "code",
   "execution_count": 6,
   "id": "9ca2b07f-5234-4701-a506-8670a75d6853",
   "metadata": {},
   "outputs": [
    {
     "name": "stdout",
     "output_type": "stream",
     "text": [
      "w : 2.5408, b : 1.5408\n",
      "w : 2.1640, b : 1.1640\n",
      "w : 2.4603, b : 1.4603\n",
      "w : 3.0383, b : 2.0383\n",
      "w : 2.0248, b : 1.0248\n",
      "w : 0.5171, b : -0.4829\n",
      "w : 5.2098, b : 4.2098\n",
      "w : 2.2374, b : 1.2374\n",
      "w : 1.6002, b : 0.6002\n",
      "w : 0.5738, b : -0.4262\n",
      "w : 3.3120, b : 2.3120\n",
      "w : 1.6743, b : 0.6743\n",
      "w : 2.2696, b : 1.2696\n",
      "w : 1.4541, b : 0.4541\n",
      "w : 2.5044, b : 1.5044\n",
      "w : 2.9277, b : 1.9277\n",
      "w : 2.0149, b : 1.0149\n",
      "w : 2.8822, b : 1.8822\n",
      "w : 1.9915, b : 0.9915\n",
      "w : 3.2020, b : 2.2020\n",
      "w : 2.3396, b : 1.3396\n",
      "w : 1.9247, b : 0.9247\n",
      "w : 2.4142, b : 1.4142\n",
      "w : 1.7934, b : 0.7934\n",
      "w : 2.8791, b : 1.8791\n",
      "w : 1.9210, b : 0.9210\n",
      "w : 3.4132, b : 2.4132\n",
      "w : 2.6851, b : 1.6851\n",
      "w : 1.8724, b : 0.8724\n",
      "w : 2.6283, b : 1.6283\n"
     ]
    }
   ],
   "source": [
    "perc = Perceptron()\n",
    "\n",
    "for x, y in zip(X, Y) :\n",
    "    perc.fit(x, y)\n",
    "    print('w : {:.4f}, b : {:.4f}'.format(perc.w, perc.b))"
   ]
  },
  {
   "cell_type": "markdown",
   "id": "7da96931-0325-414c-ab50-3966e24b3a64",
   "metadata": {},
   "source": [
    "* 예측한 값의 차이가 많이 나는 것을 확인"
   ]
  },
  {
   "cell_type": "markdown",
   "id": "c842b0bc-080c-49e3-bab9-f255833ccece",
   "metadata": {},
   "source": [
    "#### 모델 조정 1\n",
    "w가 x에 영향을 미치기 때문에 error에 x를 곱해서 조정해준다."
   ]
  },
  {
   "cell_type": "code",
   "execution_count": 7,
   "id": "71cce25c-b2c7-44d8-b4e2-2554d88b053f",
   "metadata": {},
   "outputs": [],
   "source": [
    "class Perceptron :\n",
    "    def __init__(self) :\n",
    "        self.w = 1\n",
    "        self.b = 0\n",
    "    \n",
    "    def fit(self, x, y) : # x : input, y : answer\n",
    "        # p : output\n",
    "        p = self.predict(x) \n",
    "        \n",
    "        # e : error(예측값과 정답의 차이)\n",
    "        e = y - p \n",
    "        \n",
    "        # w 를 error 만큼 조정\n",
    "        self.w += e * x\n",
    "        \n",
    "        # b 를 error 만큼 조정\n",
    "        self.b += e \n",
    "    \n",
    "    def predict(self, x) :\n",
    "        return x * self.w + self.b"
   ]
  },
  {
   "cell_type": "code",
   "execution_count": 8,
   "id": "d1364963-3531-4226-85de-d4f7efebbc70",
   "metadata": {},
   "outputs": [
    {
     "name": "stdout",
     "output_type": "stream",
     "text": [
      "w : 1.4166, b : 1.5408\n",
      "w : 1.4255, b : 1.5656\n",
      "w : 1.5914, b : 1.8670\n",
      "w : 5.1369, b : 3.7099\n",
      "w : 5.9956, b : 2.3862\n",
      "w : 1.1761, b : 5.5554\n",
      "w : -1.6648, b : 3.3578\n",
      "w : -1.3577, b : 0.4989\n",
      "w : -0.4228, b : -1.2844\n",
      "w : 0.8028, b : -2.4874\n",
      "w : 3.3313, b : 2.1882\n",
      "w : 1.7299, b : 0.6542\n",
      "w : 1.8528, b : 1.2583\n",
      "w : 2.6866, b : 0.1426\n",
      "w : 2.9998, b : 1.1022\n",
      "w : 2.8092, b : 1.0005\n",
      "w : 2.8173, b : 1.0394\n",
      "w : 2.9285, b : 1.1636\n",
      "w : 2.9408, b : 0.9948\n",
      "w : 3.0311, b : 1.0706\n",
      "w : 3.0619, b : 1.0523\n",
      "w : 3.0671, b : 1.0071\n",
      "w : 3.0544, b : 0.9742\n",
      "w : 3.0385, b : 1.0192\n",
      "w : 3.0041, b : 0.9719\n",
      "w : 2.9840, b : 1.0027\n",
      "w : 3.0079, b : 1.0210\n",
      "w : 3.0209, b : 1.0132\n",
      "w : 3.0228, b : 1.0084\n",
      "w : 3.0110, b : 0.9873\n"
     ]
    }
   ],
   "source": [
    "perc = Perceptron()\n",
    "\n",
    "# 벡터의 요소를 하나씩 꺼내서 학습\n",
    "for x, y in zip(X, Y) :\n",
    "    perc.fit(x, y)\n",
    "    print('w : {:.4f}, b : {:.4f}'.format(perc.w, perc.b))"
   ]
  },
  {
   "cell_type": "markdown",
   "id": "ba104888-4749-4bff-9fa7-be5de88cacfe",
   "metadata": {},
   "source": [
    "* 예측한 값이 반복을 거듭하며 잘 찾아가는 것을 확인"
   ]
  },
  {
   "cell_type": "markdown",
   "id": "26c7b5ec-2b19-4657-a8cb-d66e51311afb",
   "metadata": {},
   "source": [
    "#### 모델 조정 2\n",
    "앞선 모델처럼 벡터의 요소를 출력하여 학습을 진행하는 것이 아닌 벡터로 바로 연산이 가능하도록 모델을 조정해준다."
   ]
  },
  {
   "cell_type": "code",
   "execution_count": 9,
   "id": "4def0fdb-12fe-4398-9778-2f9160df8d12",
   "metadata": {},
   "outputs": [],
   "source": [
    "class Perceptron :\n",
    "    def __init__(self) :\n",
    "        self.w = 1\n",
    "        self.b = 0\n",
    "    \n",
    "    def fit(self, x, y) : # x : input, y : answer\n",
    "        # p : output\n",
    "        p = self.predict(x) \n",
    "        \n",
    "        # e : error(예측값과 정답의 차이)\n",
    "        e = y - p \n",
    "        \n",
    "        # w 를 error 만큼 조정\n",
    "        # np.dot() : 하나하나 곱한 후 더해서 값을 전달하여 벡터 연산을 가능하도록 하기 위함\n",
    "        self.w += np.dot(e, x)\n",
    "        \n",
    "        # b 를 error 만큼 조정\n",
    "        # np.sum() : 더해서 값을 전달하여 벡터 연산을 가능하도록 하기 위함\n",
    "        self.b += np.sum(e)\n",
    "    \n",
    "    def predict(self, x) :\n",
    "        return x * self.w + self.b"
   ]
  },
  {
   "cell_type": "code",
   "execution_count": 10,
   "id": "6625ec27-a15e-458d-945c-2940c99c97d1",
   "metadata": {},
   "outputs": [
    {
     "name": "stdout",
     "output_type": "stream",
     "text": [
      "w : 58.7635, b : 38.3035\n",
      "w : -1590.9015, b : -1312.3201\n",
      "w : 46587.6171, b : 44704.7959\n",
      "w : -1387753.4294, b : -1489817.7515\n",
      "w : 41997649.3079, b : 48966391.9306\n",
      "w : -1287082980.2794, b : -1594389953.2004\n",
      "w : 39833836316.2128, b : 51580982698.1658\n",
      "w : -1242099174068.0325, b : -1661229471473.6726\n",
      "w : 38950492434333.2812, b : 53332566215862.7812\n",
      "w : -1226575892152658.5000, b : -1708357951865958.2500\n"
     ]
    }
   ],
   "source": [
    "perc = Perceptron()\n",
    "\n",
    "# 예측의 정확도를 높이기 위해 반복 학습\n",
    "for _ in range(10) :\n",
    "    perc.fit(X, Y)\n",
    "    print('w : {:.4f}, b : {:.4f}'.format(perc.w, perc.b))"
   ]
  },
  {
   "cell_type": "markdown",
   "id": "e2740eb2-961e-4449-a8ff-6b9c67772e72",
   "metadata": {},
   "source": [
    "* 예측한 값이 많이 튀는 것을 확인"
   ]
  },
  {
   "cell_type": "markdown",
   "id": "8ef808bd-7d00-4f0e-9226-fdd407e1f4b5",
   "metadata": {},
   "source": [
    "#### 모델 조정 3\n",
    "x의 길이만큼 줄여 평균 error가 반환되어 값을 예측할 수 있도록 조정해준다."
   ]
  },
  {
   "cell_type": "code",
   "execution_count": 11,
   "id": "b710f99c-0fec-4497-91ba-a6dad3a7d37f",
   "metadata": {},
   "outputs": [],
   "source": [
    "class Perceptron :\n",
    "    def __init__(self) :\n",
    "        self.w = 1\n",
    "        self.b = 0\n",
    "    \n",
    "    def fit(self, x, y) : # x : input, y : answer\n",
    "        # p : output\n",
    "        p = self.predict(x) \n",
    "        \n",
    "        # e : error(예측값과 정답의 차이)\n",
    "        # len(x) : x의 길이를 줄여 error가 평균 error로 변환\n",
    "        e = (y - p) / len(x)\n",
    "        \n",
    "        # w 를 error 만큼 조정\n",
    "        # np.dot() : 하나하나 곱한 후 더해서 값을 전달하여 벡터 연산을 가능하도록 하기 위함\n",
    "        self.w += np.dot(e, x)\n",
    "        \n",
    "        # b 를 error 만큼 조정\n",
    "        # np.sum() : 더해서 값을 전달하여 벡터 연산을 가능하도록 하기 위함\n",
    "        self.b += np.sum(e)\n",
    "    \n",
    "    def predict(self, x) :\n",
    "        return x * self.w + self.b"
   ]
  },
  {
   "cell_type": "code",
   "execution_count": 12,
   "id": "8a2ea8c3-8445-43db-add4-017fa379b468",
   "metadata": {},
   "outputs": [
    {
     "name": "stdout",
     "output_type": "stream",
     "text": [
      "w : 2.9255, b : 1.2768\n",
      "w : 2.9538, b : 1.0103\n",
      "w : 2.9936, b : 1.0064\n",
      "w : 2.9984, b : 1.0009\n",
      "w : 2.9997, b : 1.0002\n",
      "w : 2.9999, b : 1.0000\n",
      "w : 3.0000, b : 1.0000\n",
      "w : 3.0000, b : 1.0000\n",
      "w : 3.0000, b : 1.0000\n",
      "w : 3.0000, b : 1.0000\n"
     ]
    }
   ],
   "source": [
    "perc = Perceptron()\n",
    "\n",
    "# 예측의 정확도를 높이기 위해 반복 학습\n",
    "for _ in range(10) :\n",
    "    perc.fit(X, Y)\n",
    "    print('w : {:.4f}, b : {:.4f}'.format(perc.w, perc.b))"
   ]
  },
  {
   "cell_type": "markdown",
   "id": "63fcf86a-085c-4444-9b77-848e0c19ab30",
   "metadata": {},
   "source": [
    "* 예측한 값이 반복을 거듭하며 잘 찾아가는 것을 확인"
   ]
  },
  {
   "cell_type": "markdown",
   "id": "1b874859-8a67-4e19-a6c9-177aeb9d5e50",
   "metadata": {},
   "source": [
    "#### 모델 조정 4\n",
    "learning rate를 설정해준다.  \n",
    "\n",
    "* learning rate : 학습의 속도와 정확도에 영향  \n",
    "\n",
    "* Learing Rate 적정 값  \n",
    "ML에서 0.01 을 기준으로 +-  \n",
    "DL에서 0.0001 또는 0.00001 을 기준으로 +-  "
   ]
  },
  {
   "cell_type": "code",
   "execution_count": 13,
   "id": "df80e23a-bfc8-4467-a172-40b6040f969c",
   "metadata": {},
   "outputs": [],
   "source": [
    "class Perceptron :\n",
    "    def __init__(self, lr = 0.1) :\n",
    "        self.w = 1\n",
    "        self.b = 0\n",
    "        self.lr = lr # learning_rate : 학습률\n",
    "    \n",
    "    def fit(self, x, y) : # x : input, y : answer\n",
    "        # P : output\n",
    "        p = self.predict(x)\n",
    "        \n",
    "        # e : error(예측값과 정답의 차이)\n",
    "        # len(x) : x의 길이를 줄여 error가 평균 error로 변환\n",
    "        e = (y - p) / len(x)\n",
    "        \n",
    "        # w 를 error * x 만큼 조정 : w는 x에 영향을 미치기 때문\n",
    "        # np.dot() : 하나하나 곱한 후 더해서 값을 전달하여 벡터 연산을 가능하도록 하기 위함\n",
    "        self.w += self.lr * np.dot(e, x)\n",
    "        \n",
    "        # b 를 error 만큼 조정\n",
    "        # np.sum() : 더해서 값을 전달하여 벡터 연산을 가능하도록 하기 위함\n",
    "        self.b += self.lr * np.sum(e)\n",
    "    \n",
    "    def predict(self, x) :\n",
    "        return x * self.w + self.b"
   ]
  },
  {
   "cell_type": "code",
   "execution_count": 14,
   "id": "6a2338bc-e3b3-4e40-8490-85b63ad5dfac",
   "metadata": {},
   "outputs": [
    {
     "name": "stdout",
     "output_type": "stream",
     "text": [
      "w : 1.3851, b : 0.2554\n",
      "w : 1.6943, b : 0.4490\n",
      "w : 1.9429, b : 0.5953\n",
      "w : 2.1430, b : 0.7055\n",
      "w : 2.3043, b : 0.7881\n",
      "w : 2.4345, b : 0.8498\n",
      "w : 2.5397, b : 0.8955\n",
      "w : 2.6249, b : 0.9291\n",
      "w : 2.6939, b : 0.9537\n",
      "w : 2.7499, b : 0.9714\n",
      "w : 2.7953, b : 0.9841\n",
      "w : 2.8324, b : 0.9929\n",
      "w : 2.8625, b : 0.9990\n",
      "w : 2.8871, b : 1.0030\n",
      "w : 2.9072, b : 1.0055\n",
      "w : 2.9236, b : 1.0070\n",
      "w : 2.9371, b : 1.0077\n",
      "w : 2.9481, b : 1.0079\n",
      "w : 2.9572, b : 1.0078\n",
      "w : 2.9646, b : 1.0074\n",
      "w : 2.9707, b : 1.0069\n",
      "w : 2.9758, b : 1.0063\n",
      "w : 2.9799, b : 1.0057\n",
      "w : 2.9834, b : 1.0051\n",
      "w : 2.9862, b : 1.0046\n",
      "w : 2.9885, b : 1.0040\n",
      "w : 2.9905, b : 1.0035\n",
      "w : 2.9921, b : 1.0031\n",
      "w : 2.9934, b : 1.0027\n",
      "w : 2.9945, b : 1.0023\n"
     ]
    }
   ],
   "source": [
    "perc = Perceptron(lr = 0.2)\n",
    "\n",
    "for _ in range(30) :\n",
    "    perc.fit(X, Y)\n",
    "    print('w : {:.4f}, b : {:.4f}'.format(perc.w, perc.b))"
   ]
  },
  {
   "cell_type": "markdown",
   "id": "81c71953-f31c-4976-a2ea-f809357a2a78",
   "metadata": {},
   "source": [
    "# 2. Iris Data로 Perceptron 구현"
   ]
  },
  {
   "cell_type": "code",
   "execution_count": 15,
   "id": "70bade3c-1820-4b8e-9a35-baf083fb0ec5",
   "metadata": {},
   "outputs": [],
   "source": [
    "import pandas as pd\n",
    "import matplotlib\n",
    "matplotlib.rc('font', family = 'Malgun Gothic')\n",
    "matplotlib.rc('axes', unicode_minus = False)\n",
    "import matplotlib.pyplot as plt\n",
    "import seaborn as sns\n",
    "\n",
    "import warnings\n",
    "warnings.filterwarnings('ignore')"
   ]
  },
  {
   "cell_type": "code",
   "execution_count": 16,
   "id": "afb0b962-1fb3-4c94-b3ac-47ce47deb46c",
   "metadata": {},
   "outputs": [
    {
     "data": {
      "text/html": [
       "<div>\n",
       "<style scoped>\n",
       "    .dataframe tbody tr th:only-of-type {\n",
       "        vertical-align: middle;\n",
       "    }\n",
       "\n",
       "    .dataframe tbody tr th {\n",
       "        vertical-align: top;\n",
       "    }\n",
       "\n",
       "    .dataframe thead th {\n",
       "        text-align: right;\n",
       "    }\n",
       "</style>\n",
       "<table border=\"1\" class=\"dataframe\">\n",
       "  <thead>\n",
       "    <tr style=\"text-align: right;\">\n",
       "      <th></th>\n",
       "      <th>0</th>\n",
       "      <th>1</th>\n",
       "      <th>2</th>\n",
       "      <th>3</th>\n",
       "      <th>4</th>\n",
       "    </tr>\n",
       "  </thead>\n",
       "  <tbody>\n",
       "    <tr>\n",
       "      <th>0</th>\n",
       "      <td>5.1</td>\n",
       "      <td>3.5</td>\n",
       "      <td>1.4</td>\n",
       "      <td>0.2</td>\n",
       "      <td>Iris-setosa</td>\n",
       "    </tr>\n",
       "    <tr>\n",
       "      <th>1</th>\n",
       "      <td>4.9</td>\n",
       "      <td>3.0</td>\n",
       "      <td>1.4</td>\n",
       "      <td>0.2</td>\n",
       "      <td>Iris-setosa</td>\n",
       "    </tr>\n",
       "    <tr>\n",
       "      <th>2</th>\n",
       "      <td>4.7</td>\n",
       "      <td>3.2</td>\n",
       "      <td>1.3</td>\n",
       "      <td>0.2</td>\n",
       "      <td>Iris-setosa</td>\n",
       "    </tr>\n",
       "  </tbody>\n",
       "</table>\n",
       "</div>"
      ],
      "text/plain": [
       "     0    1    2    3            4\n",
       "0  5.1  3.5  1.4  0.2  Iris-setosa\n",
       "1  4.9  3.0  1.4  0.2  Iris-setosa\n",
       "2  4.7  3.2  1.3  0.2  Iris-setosa"
      ]
     },
     "execution_count": 16,
     "metadata": {},
     "output_type": "execute_result"
    }
   ],
   "source": [
    "data_url = 'https://archive.ics.uci.edu/ml/machine-learning-databases/iris/iris.data'\n",
    "data = pd.read_csv(data_url, header = None)\n",
    "data.head(3)"
   ]
  },
  {
   "cell_type": "markdown",
   "id": "98c26da6-987e-4c55-a9d4-4957ab02b412",
   "metadata": {},
   "source": [
    "## Setosa 분류\n",
    "* Setosa면 -1\n",
    "* Setosa가 아니면 1"
   ]
  },
  {
   "cell_type": "code",
   "execution_count": 17,
   "id": "2e5ad916-d630-42f8-a9d0-05ac0aa16d93",
   "metadata": {},
   "outputs": [],
   "source": [
    "X = data.iloc[:,:4].values\n",
    "Y = data.iloc[:,4:].values\n",
    "\n",
    "X = X[:,[0,2]]\n",
    "Y = np.where(Y == 'Iris-setosa', -1, 1)"
   ]
  },
  {
   "cell_type": "code",
   "execution_count": 18,
   "id": "7190ce14-5a39-44fe-b05b-56e46c7530ff",
   "metadata": {},
   "outputs": [
    {
     "data": {
      "text/plain": [
       "array([5.1, 4.9, 4.7, 4.6, 5. , 5.4, 4.6, 5. , 4.4, 4.9, 5.4, 4.8, 4.8,\n",
       "       4.3, 5.8, 5.7, 5.4, 5.1, 5.7, 5.1, 5.4, 5.1, 4.6, 5.1, 4.8, 5. ,\n",
       "       5. , 5.2, 5.2, 4.7, 4.8, 5.4, 5.2, 5.5, 4.9, 5. , 5.5, 4.9, 4.4,\n",
       "       5.1, 5. , 4.5, 4.4, 5. , 5.1, 4.8, 5.1, 4.6, 5.3, 5. ])"
      ]
     },
     "execution_count": 18,
     "metadata": {},
     "output_type": "execute_result"
    }
   ],
   "source": [
    "X[np.ravel([Y == -1]),0]"
   ]
  },
  {
   "cell_type": "code",
   "execution_count": 19,
   "id": "67e6b51b-985b-4da3-b2c6-d88dc5e7dc25",
   "metadata": {},
   "outputs": [
    {
     "data": {
      "text/plain": [
       "array([-1, -1, -1, -1, -1, -1, -1, -1, -1, -1, -1, -1, -1, -1, -1, -1, -1,\n",
       "       -1, -1, -1, -1, -1, -1, -1, -1, -1, -1, -1, -1, -1, -1, -1, -1, -1,\n",
       "       -1, -1, -1, -1, -1, -1, -1, -1, -1, -1, -1, -1, -1, -1, -1, -1,  1,\n",
       "        1,  1,  1,  1,  1,  1,  1,  1,  1,  1,  1,  1,  1,  1,  1,  1,  1,\n",
       "        1,  1,  1,  1,  1,  1,  1,  1,  1,  1,  1,  1,  1,  1,  1,  1,  1,\n",
       "        1,  1,  1,  1,  1,  1,  1,  1,  1,  1,  1,  1,  1,  1,  1,  1,  1,\n",
       "        1,  1,  1,  1,  1,  1,  1,  1,  1,  1,  1,  1,  1,  1,  1,  1,  1,\n",
       "        1,  1,  1,  1,  1,  1,  1,  1,  1,  1,  1,  1,  1,  1,  1,  1,  1,\n",
       "        1,  1,  1,  1,  1,  1,  1,  1,  1,  1,  1,  1,  1,  1])"
      ]
     },
     "execution_count": 19,
     "metadata": {},
     "output_type": "execute_result"
    }
   ],
   "source": [
    "np.ravel(Y)"
   ]
  },
  {
   "cell_type": "markdown",
   "id": "69773646-dd16-4203-87de-ba63dcc9b485",
   "metadata": {},
   "source": [
    "### Scatter Plot 1"
   ]
  },
  {
   "cell_type": "code",
   "execution_count": 20,
   "id": "90f904e8-6f47-4a42-bd14-2c9924af45c6",
   "metadata": {},
   "outputs": [
    {
     "data": {
      "image/png": "[encoded data removed]",
      "text/plain": [
       "<Figure size 640x480 with 1 Axes>"
      ]
     },
     "metadata": {},
     "output_type": "display_data"
    }
   ],
   "source": [
    "plt.figure()\n",
    "\n",
    "# plt.scatter(X[:,0], X[:,1])\n",
    "plt.scatter(X[np.ravel([Y == -1]),0], X[np.ravel([Y == -1]),1])\n",
    "plt.scatter(X[np.ravel([Y == 1]),0], X[np.ravel([Y == 1]),1])\n",
    "\n",
    "plt.show()"
   ]
  },
  {
   "cell_type": "markdown",
   "id": "fe9f48bc-9c41-40d8-bef7-18105043c53a",
   "metadata": {},
   "source": [
    "### Perceptron"
   ]
  },
  {
   "cell_type": "code",
   "execution_count": 21,
   "id": "c474a05b-e391-44f3-ae45-874dc7539286",
   "metadata": {},
   "outputs": [],
   "source": [
    "class Perceptron(object): \n",
    "    \"\"\"Perceptron classifier.\n",
    "\n",
    "    Parameters\n",
    "    ------------\n",
    "    eta : float\n",
    "      Learning rate (between 0.0 and 1.0)\n",
    "    n_iter : int\n",
    "      Passes over the training dataset.\n",
    "    random_state : int\n",
    "      Random number generator seed for random weight\n",
    "      initialization.\n",
    "\n",
    "    Attributes\n",
    "    -----------\n",
    "    w_ : 1d-array\n",
    "      Weights after fitting.\n",
    "    errors_ : list\n",
    "      Number of misclassifications (updates) in each epoch.\n",
    "\n",
    "    \"\"\"\n",
    "    def __init__(self, eta=0.01, n_iter=50, shuffle=False, random_state=1):\n",
    "        self.eta = eta\n",
    "        self.n_iter = n_iter\n",
    "        self.shuffle = shuffle\n",
    "        self.random_state = random_state\n",
    "\n",
    "    def fit(self, X, y):\n",
    "        \"\"\"Fit training data.\n",
    "\n",
    "        Parameters\n",
    "        ----------\n",
    "        X : {array-like}, shape = [n_samples, n_features]\n",
    "          Training vectors, where n_samples is the number of samples and\n",
    "          n_features is the number of features.\n",
    "        y : array-like, shape = [n_samples]\n",
    "          Target values.\n",
    "\n",
    "        Returns\n",
    "        -------\n",
    "        self : object\n",
    "\n",
    "        \"\"\"\n",
    "        rgen = np.random.RandomState(self.random_state)\n",
    "        self.w_ = rgen.normal(loc=0.0, scale=0.01, size=1 + X.shape[1])\n",
    "        self.errors_ = []\n",
    "\n",
    "        for _ in range(self.n_iter):\n",
    "            errors = 0\n",
    "            if self.shuffle:\n",
    "                X, y = self._shuffle(X, y)\n",
    "                \n",
    "            for xi, target in zip(X, y):\n",
    "                update = self.eta * (target - self.predict(xi))\n",
    "                self.w_[1:] += update * xi\n",
    "                self.w_[0] += update\n",
    "                errors += int(update != 0.0)\n",
    "            self.errors_.append(errors)\n",
    "        return self\n",
    "\n",
    "    def _shuffle(self, X, y):\n",
    "        \"\"\"Shuffle training data\"\"\"\n",
    "        r = np.random.permutation(len(y))\n",
    "        return X[r], y[r]\n",
    "\n",
    "    def net_input(self, X):\n",
    "        \"\"\"Calculate net input\"\"\"\n",
    "        return np.dot(X, self.w_[1:]) + self.w_[0]\n",
    "\n",
    "    def predict(self, X):\n",
    "        \"\"\"Return class label after unit step\"\"\"\n",
    "        return np.where(self.net_input(X) >= 0.0, 1, -1)"
   ]
  },
  {
   "cell_type": "code",
   "execution_count": 22,
   "id": "c9859308-7a0f-45e3-8578-8bd1b6fbb3ad",
   "metadata": {},
   "outputs": [
    {
     "data": {
      "text/plain": [
       "<__main__.Perceptron at 0x1e36d6c52a0>"
      ]
     },
     "execution_count": 22,
     "metadata": {},
     "output_type": "execute_result"
    }
   ],
   "source": [
    "perc = Perceptron(eta = 0.1, n_iter = 10, shuffle = True)\n",
    "perc.fit(X, Y)"
   ]
  },
  {
   "cell_type": "code",
   "execution_count": 23,
   "id": "1c703d41-00e7-44e2-9bc1-9ef05bfadbe1",
   "metadata": {},
   "outputs": [
    {
     "data": {
      "text/plain": [
       "[12, 0, 0, 0, 0, 0, 0, 0, 0, 0]"
      ]
     },
     "execution_count": 23,
     "metadata": {},
     "output_type": "execute_result"
    }
   ],
   "source": [
    "perc.errors_"
   ]
  },
  {
   "cell_type": "code",
   "execution_count": 24,
   "id": "8db884e5-742e-48d0-b4bf-6d01c71aab39",
   "metadata": {},
   "outputs": [
    {
     "data": {
      "text/plain": [
       "array([-0.38375655, -1.08611756,  2.73471828])"
      ]
     },
     "execution_count": 24,
     "metadata": {},
     "output_type": "execute_result"
    }
   ],
   "source": [
    "perc.w_"
   ]
  },
  {
   "cell_type": "code",
   "execution_count": null,
   "id": "47901bb3-f1f1-4597-b0be-a31f0f7b7cf0",
   "metadata": {},
   "outputs": [],
   "source": []
  },
  {
   "cell_type": "markdown",
   "id": "dc075ad1-fe6c-4e69-805a-8bf871cc37da",
   "metadata": {},
   "source": [
    "### Scatter Plot 2"
   ]
  },
  {
   "cell_type": "code",
   "execution_count": 25,
   "id": "6e5b28a9-a20c-408b-b8f3-d411793ad145",
   "metadata": {},
   "outputs": [],
   "source": [
    "from matplotlib.colors import ListedColormap"
   ]
  },
  {
   "cell_type": "code",
   "execution_count": 26,
   "id": "d5687e3e-6ec3-4f31-b82b-5eb7f6f9d4c6",
   "metadata": {},
   "outputs": [],
   "source": [
    "def plot_decision_regions(X, y, classifier, resolution=0.02):\n",
    "\n",
    "    # setup marker generator and color map\n",
    "    markers = ('s', 'x', 'o', '^', 'v')\n",
    "    colors = ('red', 'blue', 'lightgreen', 'gray', 'cyan')\n",
    "    cmap = ListedColormap(colors[:len(np.unique(y))])\n",
    "\n",
    "    # plot the decision surface\n",
    "    x1_min, x1_max = X[:, 0].min() - 1, X[:, 0].max() + 1\n",
    "    x2_min, x2_max = X[:, 1].min() - 1, X[:, 1].max() + 1\n",
    "    xx1, xx2 = np.meshgrid(np.arange(x1_min, x1_max, resolution),\n",
    "                           np.arange(x2_min, x2_max, resolution))\n",
    "    #print(xx1)\n",
    "    #print(xx2)\n",
    "    #print(np.array([xx1.ravel(), xx2.ravel()]).T)\n",
    "    \n",
    "    Z = classifier.predict(np.array([xx1.ravel(), xx2.ravel()]).T)\n",
    "    Z = Z.reshape(xx1.shape)\n",
    "    plt.contourf(xx1, xx2, Z, alpha=0.4, cmap=cmap)\n",
    "    plt.xlim(xx1.min(), xx1.max())\n",
    "    plt.ylim(xx2.min(), xx2.max())\n",
    "\n",
    "    # plot class samples\n",
    "    for idx, cl in enumerate(np.unique(y)):\n",
    "        plt.scatter(x=X[np.ravel([y == cl]), 0],\n",
    "                    y=X[np.ravel([y == cl]), 1],\n",
    "                    alpha=0.8,\n",
    "                    c=cmap(idx),\n",
    "                    edgecolor='black',\n",
    "                    marker=markers[idx], \n",
    "                    label=cl)\n",
    "    plt.xlabel('sepal length(cm)')\n",
    "    plt.ylabel('petal length(cm)')\n",
    "\n",
    "    plt.legend()\n",
    "    plt.show()"
   ]
  },
  {
   "cell_type": "code",
   "execution_count": 27,
   "id": "e64b9fe4-b735-4ce5-a11a-65de7db94300",
   "metadata": {},
   "outputs": [
    {
     "data": {
      "image/png": "[encoded data removed]",
      "text/plain": [
       "<Figure size 640x480 with 1 Axes>"
      ]
     },
     "metadata": {},
     "output_type": "display_data"
    }
   ],
   "source": [
    "plot_decision_regions(X, Y, perc)"
   ]
  },
  {
   "cell_type": "code",
   "execution_count": null,
   "id": "7577784a-a157-42ca-b8f3-046649345115",
   "metadata": {},
   "outputs": [],
   "source": []
  }
 ],
 "metadata": {
  "kernelspec": {
   "display_name": "Python 3 (ipykernel)",
   "language": "python",
   "name": "python3"
  },
  "language_info": {
   "codemirror_mode": {
    "name": "ipython",
    "version": 3
   },
   "file_extension": ".py",
   "mimetype": "text/x-python",
   "name": "python",
   "nbconvert_exporter": "python",
   "pygments_lexer": "ipython3",
   "version": "3.10.11"
  }
 },
 "nbformat": 4,
 "nbformat_minor": 5
}
