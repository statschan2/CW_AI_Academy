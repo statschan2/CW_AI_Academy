{
 "cells": [
  {
   "cell_type": "markdown",
   "id": "7604c3bc-5c99-4735-8bc2-55f73a82812f",
   "metadata": {},
   "source": [
    "# Chapter 6. AI 기초 - Perceeptron\n",
    "* 교재 : 으뜸 머신러닝(생능출판)\n",
    "* 출처 : https://www.booksr.co.kr/product/9788970503691/"
   ]
  },
  {
   "cell_type": "markdown",
   "id": "734152c5-8ac2-45e8-bf20-c6224b6668ab",
   "metadata": {},
   "source": [
    "# 1. Perceptron(퍼셉트론)\n",
    "* 인공 신경망의 구성 요소로서 다수의 값을 입력받아 하나의 값으로 출력하는 알고리즘\n",
    "* 이해를 위한 간단한 퍼셉트론  \n",
    "1차 방정식 : y = ax + b → 벡터 표현 : y = WX + b"
   ]
  },
  {
   "cell_type": "markdown",
   "id": "207a5f71-2632-4442-9d90-8676bb40b224",
   "metadata": {},
   "source": [
    "## Ex) 간단한 퍼셉트론 Class 구현"
   ]
  },
  {
   "cell_type": "markdown",
   "id": "cb613a0b-a102-402a-be73-13c6d0389a2a",
   "metadata": {},
   "source": [
    "### 학습 능력이 없는 1차 방정식"
   ]
  },
  {
   "cell_type": "code",
   "execution_count": 1,
   "id": "a1fb480f-31e9-4136-9159-15cd4fcb6b78",
   "metadata": {},
   "outputs": [],
   "source": [
    "class Perceptron :\n",
    "    def __init__(self) :\n",
    "        self.w = 1\n",
    "        self.b = 0\n",
    "    def predict(self, x) :\n",
    "        return x * self.w + self.b"
   ]
  },
  {
   "cell_type": "code",
   "execution_count": 2,
   "id": "3909fe8c-5e09-4f8c-bcb3-3bbd2c281b45",
   "metadata": {},
   "outputs": [
    {
     "data": {
      "text/plain": [
       "7"
      ]
     },
     "execution_count": 2,
     "metadata": {},
     "output_type": "execute_result"
    }
   ],
   "source": [
    "p = Perceptron()\n",
    "p.predict(7)"
   ]
  },
  {
   "cell_type": "markdown",
   "id": "cfae36bb-a7f3-440a-8fa4-1971f168bdc5",
   "metadata": {},
   "source": [
    "### 학습 능력을 부여"
   ]
  },
  {
   "cell_type": "code",
   "execution_count": 3,
   "id": "e91f6070-6ddb-4f18-a52e-e7303b6edbc1",
   "metadata": {},
   "outputs": [],
   "source": [
    "class Perceptron :\n",
    "    def __init__(self) :\n",
    "        self.w = 1\n",
    "        self.b = 0\n",
    "    \n",
    "    def fit(self, x, y) : # x : input, y : answer\n",
    "        p = self.predict(x) # P : output\n",
    "        e = y - p # e : error(예측값과 정답의 차이)\n",
    "        self.w += e # w 를 error 만큼 조정\n",
    "        self.b += e # b 를 error 만큼 조정\n",
    "    \n",
    "    def predict(self, x) :\n",
    "        return x * self.w + self.b"
   ]
  },
  {
   "cell_type": "code",
   "execution_count": 4,
   "id": "f7dee75a-844b-49a8-b76d-cde64753161f",
   "metadata": {},
   "outputs": [],
   "source": [
    "import numpy as np"
   ]
  },
  {
   "cell_type": "code",
   "execution_count": 5,
   "id": "1a9ccce4-2e43-49e4-bd9e-da9a11f1235d",
   "metadata": {},
   "outputs": [
    {
     "data": {
      "text/plain": [
       "array([ 0.01243601,  2.57883434,  3.22303005,  1.32917758,  4.61059527,\n",
       "        1.17783158,  1.19517316, -3.08335224,  1.50127363, -0.21549731,\n",
       "        2.02643098,  0.7140078 , -2.97893002,  2.22534076,  1.8404101 ,\n",
       "        4.08528809,  0.69286494,  0.07311354,  2.25175399, -2.7290361 ,\n",
       "        0.34750986,  1.53161072,  4.14930804,  2.93369405, -0.83932577,\n",
       "        4.89747289,  7.67821313,  1.57982936,  1.55756861, -5.20043421])"
      ]
     },
     "execution_count": 5,
     "metadata": {},
     "output_type": "execute_result"
    }
   ],
   "source": [
    "X = np.random.randn(30)\n",
    "Y = 3*X + 1\n",
    "Y"
   ]
  },
  {
   "cell_type": "code",
   "execution_count": 6,
   "id": "9ca2b07f-5234-4701-a506-8670a75d6853",
   "metadata": {},
   "outputs": [
    {
     "name": "stdout",
     "output_type": "stream",
     "text": [
      "w : 1.3416, b : 0.3416\n",
      "w : 2.8728, b : 1.8728\n",
      "w : 2.0943, b : 1.0943\n",
      "w : 2.0994, b : 1.0994\n",
      "w : 3.0839, b : 2.0839\n",
      "w : 1.9950, b : 0.9950\n",
      "w : 2.0654, b : 1.0654\n",
      "w : 0.7279, b : -0.2721\n",
      "w : 2.3797, b : 1.3797\n",
      "w : 1.7487, b : 0.7487\n",
      "w : 2.4281, b : 1.4281\n",
      "w : 1.9455, b : 0.9455\n",
      "w : 0.6014, b : -0.3986\n",
      "w : 2.9797, b : 1.9797\n",
      "w : 2.0057, b : 1.0057\n",
      "w : 3.0226, b : 2.0226\n",
      "w : 2.0023, b : 1.0023\n",
      "w : 1.6918, b : 0.6918\n",
      "w : 2.5459, b : 1.5459\n",
      "w : 1.4355, b : 0.4355\n",
      "w : 1.6597, b : 0.6597\n",
      "w : 2.2375, b : 1.2375\n",
      "w : 2.8004, b : 1.8004\n",
      "w : 2.1286, b : 1.1286\n",
      "w : 1.4658, b : 0.4658\n",
      "w : 3.9932, b : 2.9932\n",
      "w : -0.2110, b : -1.2110\n",
      "w : 2.6206, b : 1.6206\n",
      "w : 2.0705, b : 1.0705\n",
      "w : 0.0789, b : -0.9211\n"
     ]
    }
   ],
   "source": [
    "perc = Perceptron()\n",
    "\n",
    "for x, y in zip(X, Y) :\n",
    "    perc.fit(x, y)\n",
    "    print('w : {:.4f}, b : {:.4f}'.format(perc.w, perc.b))"
   ]
  },
  {
   "cell_type": "markdown",
   "id": "7da96931-0325-414c-ab50-3966e24b3a64",
   "metadata": {},
   "source": [
    "* 예측한 값의 차이가 많이 나는 것을 확인"
   ]
  },
  {
   "cell_type": "markdown",
   "id": "c842b0bc-080c-49e3-bab9-f255833ccece",
   "metadata": {},
   "source": [
    "#### 모델 조정 1\n",
    "w가 x에 영향을 미치기 때문에 error에 x를 곱해서 조정해준다."
   ]
  },
  {
   "cell_type": "code",
   "execution_count": 7,
   "id": "71cce25c-b2c7-44d8-b4e2-2554d88b053f",
   "metadata": {},
   "outputs": [],
   "source": [
    "class Perceptron :\n",
    "    def __init__(self) :\n",
    "        self.w = 1\n",
    "        self.b = 0\n",
    "    \n",
    "    def fit(self, x, y) : # x : input, y : answer\n",
    "        # p : output\n",
    "        p = self.predict(x) \n",
    "        \n",
    "        # e : error(예측값과 정답의 차이)\n",
    "        e = y - p \n",
    "        \n",
    "        # w 를 error 만큼 조정\n",
    "        self.w += e * x\n",
    "        \n",
    "        # b 를 error 만큼 조정\n",
    "        self.b += e \n",
    "    \n",
    "    def predict(self, x) :\n",
    "        return x * self.w + self.b"
   ]
  },
  {
   "cell_type": "code",
   "execution_count": 8,
   "id": "d1364963-3531-4226-85de-d4f7efebbc70",
   "metadata": {},
   "outputs": [
    {
     "name": "stdout",
     "output_type": "stream",
     "text": [
      "w : 0.8875, b : 0.3416\n",
      "w : 1.8191, b : 2.1117\n",
      "w : 1.6437, b : 1.8750\n",
      "w : 1.5640, b : 1.1488\n",
      "w : 3.4649, b : 2.7282\n",
      "w : 3.3608, b : 0.9724\n",
      "w : 3.3611, b : 0.9765\n",
      "w : 2.6602, b : 1.4915\n",
      "w : 2.5875, b : 1.0568\n",
      "w : 2.6782, b : 0.8329\n",
      "w : 2.7731, b : 1.1101\n",
      "w : 2.7856, b : 0.9784\n",
      "w : 3.1340, b : 0.7157\n",
      "w : 3.2278, b : 0.9453\n",
      "w : 3.2252, b : 0.9362\n",
      "w : 3.0526, b : 0.7684\n",
      "w : 3.0284, b : 1.0054\n",
      "w : 3.0273, b : 1.0088\n",
      "w : 3.0189, b : 0.9886\n",
      "w : 2.9755, b : 1.0235\n",
      "w : 2.9818, b : 0.9947\n",
      "w : 2.9833, b : 1.0032\n",
      "w : 2.9983, b : 1.0175\n",
      "w : 2.9877, b : 1.0011\n",
      "w : 2.9930, b : 0.9925\n",
      "w : 3.0146, b : 1.0091\n",
      "w : 2.9220, b : 0.9675\n",
      "w : 2.9312, b : 1.0151\n",
      "w : 2.9308, b : 1.0128\n",
      "w : 3.2528, b : 0.8570\n"
     ]
    }
   ],
   "source": [
    "perc = Perceptron()\n",
    "\n",
    "# 벡터의 요소를 하나씩 꺼내서 학습\n",
    "for x, y in zip(X, Y) :\n",
    "    perc.fit(x, y)\n",
    "    print('w : {:.4f}, b : {:.4f}'.format(perc.w, perc.b))"
   ]
  },
  {
   "cell_type": "markdown",
   "id": "ba104888-4749-4bff-9fa7-be5de88cacfe",
   "metadata": {},
   "source": [
    "* 예측한 값이 반복을 거듭하며 잘 찾아가는 것을 확인"
   ]
  },
  {
   "cell_type": "markdown",
   "id": "26c7b5ec-2b19-4657-a8cb-d66e51311afb",
   "metadata": {},
   "source": [
    "#### 모델 조정 2\n",
    "앞선 모델처럼 벡터의 요소를 출력하여 학습을 진행하는 것이 아닌 벡터로 바로 연산이 가능하도록 모델을 조정해준다."
   ]
  },
  {
   "cell_type": "code",
   "execution_count": 9,
   "id": "4def0fdb-12fe-4398-9778-2f9160df8d12",
   "metadata": {},
   "outputs": [],
   "source": [
    "class Perceptron :\n",
    "    def __init__(self) :\n",
    "        self.w = 1\n",
    "        self.b = 0\n",
    "    \n",
    "    def fit(self, x, y) : # x : input, y : answer\n",
    "        # p : output\n",
    "        p = self.predict(x) \n",
    "        \n",
    "        # e : error(예측값과 정답의 차이)\n",
    "        e = y - p \n",
    "        \n",
    "        # w 를 error 만큼 조정\n",
    "        # np.dot() : 하나하나 곱한 후 더해서 값을 전달하여 벡터 연산을 가능하도록 하기 위함\n",
    "        self.w += np.dot(e, x)\n",
    "        \n",
    "        # b 를 error 만큼 조정\n",
    "        # np.sum() : 더해서 값을 전달하여 벡터 연산을 가능하도록 하기 위함\n",
    "        self.b += np.sum(e)\n",
    "    \n",
    "    def predict(self, x) :\n",
    "        return x * self.w + self.b"
   ]
  },
  {
   "cell_type": "code",
   "execution_count": 10,
   "id": "6625ec27-a15e-458d-945c-2940c99c97d1",
   "metadata": {},
   "outputs": [
    {
     "name": "stdout",
     "output_type": "stream",
     "text": [
      "w : 48.8947, b : 36.1108\n",
      "w : -1087.3266, b : -1157.4397\n",
      "w : 26896.9168, b : 36927.1314\n",
      "w : -688879.5316, b : -1153028.4210\n",
      "w : 18278595.0391, b : 35542664.2510\n",
      "w : -500118168.0751, b : -1086585599.7153\n",
      "w : 14032311577.2336, b : 33039042286.4951\n",
      "w : -401514735319.3783, b : -1001006517528.6929\n",
      "w : 11658781509016.5703, b : 30255976171150.1797\n",
      "w : -342171157892426.5625, b : -913045522124506.3750\n"
     ]
    }
   ],
   "source": [
    "perc = Perceptron()\n",
    "\n",
    "# 예측의 정확도를 높이기 위해 반복 학습\n",
    "for _ in range(10) :\n",
    "    perc.fit(X, Y)\n",
    "    print('w : {:.4f}, b : {:.4f}'.format(perc.w, perc.b))"
   ]
  },
  {
   "cell_type": "markdown",
   "id": "e2740eb2-961e-4449-a8ff-6b9c67772e72",
   "metadata": {},
   "source": [
    "* 예측한 값이 많이 튀는 것을 확인"
   ]
  },
  {
   "cell_type": "markdown",
   "id": "8ef808bd-7d00-4f0e-9226-fdd407e1f4b5",
   "metadata": {},
   "source": [
    "#### 모델 조정 3\n",
    "x의 길이만큼 줄여 평균 error가 반환되어 값을 예측할 수 있도록 조정해준다."
   ]
  },
  {
   "cell_type": "code",
   "execution_count": 11,
   "id": "b710f99c-0fec-4497-91ba-a6dad3a7d37f",
   "metadata": {},
   "outputs": [],
   "source": [
    "class Perceptron :\n",
    "    def __init__(self) :\n",
    "        self.w = 1\n",
    "        self.b = 0\n",
    "    \n",
    "    def fit(self, x, y) : # x : input, y : answer\n",
    "        # p : output\n",
    "        p = self.predict(x) \n",
    "        \n",
    "        # e : error(예측값과 정답의 차이)\n",
    "        # len(x) : x의 길이를 줄여 error가 평균 error로 변환\n",
    "        e = (y - p) / len(x)\n",
    "        \n",
    "        # w 를 error 만큼 조정\n",
    "        # np.dot() : 하나하나 곱한 후 더해서 값을 전달하여 벡터 연산을 가능하도록 하기 위함\n",
    "        self.w += np.dot(e, x)\n",
    "        \n",
    "        # b 를 error 만큼 조정\n",
    "        # np.sum() : 더해서 값을 전달하여 벡터 연산을 가능하도록 하기 위함\n",
    "        self.b += np.sum(e)\n",
    "    \n",
    "    def predict(self, x) :\n",
    "        return x * self.w + self.b"
   ]
  },
  {
   "cell_type": "code",
   "execution_count": 12,
   "id": "8a2ea8c3-8445-43db-add4-017fa379b468",
   "metadata": {},
   "outputs": [
    {
     "name": "stdout",
     "output_type": "stream",
     "text": [
      "w : 2.5965, b : 1.2037\n",
      "w : 2.8773, b : 1.0411\n",
      "w : 2.9648, b : 1.0125\n",
      "w : 2.9898, b : 1.0036\n",
      "w : 2.9971, b : 1.0010\n",
      "w : 2.9992, b : 1.0003\n",
      "w : 2.9998, b : 1.0001\n",
      "w : 2.9999, b : 1.0000\n",
      "w : 3.0000, b : 1.0000\n",
      "w : 3.0000, b : 1.0000\n"
     ]
    }
   ],
   "source": [
    "perc = Perceptron()\n",
    "\n",
    "# 예측의 정확도를 높이기 위해 반복 학습\n",
    "for _ in range(10) :\n",
    "    perc.fit(X, Y)\n",
    "    print('w : {:.4f}, b : {:.4f}'.format(perc.w, perc.b))"
   ]
  },
  {
   "cell_type": "markdown",
   "id": "63fcf86a-085c-4444-9b77-848e0c19ab30",
   "metadata": {},
   "source": [
    "* 예측한 값이 반복을 거듭하며 잘 찾아가는 것을 확인"
   ]
  },
  {
   "cell_type": "markdown",
   "id": "1b874859-8a67-4e19-a6c9-177aeb9d5e50",
   "metadata": {},
   "source": [
    "#### 모델 조정 4\n",
    "learning rate를 설정해준다.  \n",
    "\n",
    "* learning rate : 학습의 속도와 정확도에 영향  \n",
    "\n",
    "* Learing Rate 적정 값  \n",
    "ML에서 0.01 을 기준으로 +-  \n",
    "DL에서 0.0001 또는 0.00001 을 기준으로 +-  "
   ]
  },
  {
   "cell_type": "code",
   "execution_count": 13,
   "id": "df80e23a-bfc8-4467-a172-40b6040f969c",
   "metadata": {},
   "outputs": [],
   "source": [
    "class Perceptron :\n",
    "    def __init__(self, lr = 0.1) :\n",
    "        self.w = 1\n",
    "        self.b = 0\n",
    "        self.lr = lr # learning_rate : 학습률\n",
    "    \n",
    "    def fit(self, x, y) : # x : input, y : answer\n",
    "        # P : output\n",
    "        p = self.predict(x)\n",
    "        \n",
    "        # e : error(예측값과 정답의 차이)\n",
    "        # len(x) : x의 길이를 줄여 error가 평균 error로 변환\n",
    "        e = (y - p) / len(x)\n",
    "        \n",
    "        # w 를 error * x 만큼 조정 : w는 x에 영향을 미치기 때문\n",
    "        # np.dot() : 하나하나 곱한 후 더해서 값을 전달하여 벡터 연산을 가능하도록 하기 위함\n",
    "        self.w += self.lr * np.dot(e, x)\n",
    "        \n",
    "        # b 를 error 만큼 조정\n",
    "        # np.sum() : 더해서 값을 전달하여 벡터 연산을 가능하도록 하기 위함\n",
    "        self.b += self.lr * np.sum(e)\n",
    "    \n",
    "    def predict(self, x) :\n",
    "        return x * self.w + self.b"
   ]
  },
  {
   "cell_type": "code",
   "execution_count": 14,
   "id": "6a2338bc-e3b3-4e40-8490-85b63ad5dfac",
   "metadata": {},
   "outputs": [
    {
     "name": "stdout",
     "output_type": "stream",
     "text": [
      "w : 1.3193, b : 0.2407\n",
      "w : 1.5860, b : 0.4268\n",
      "w : 1.8090, b : 0.5703\n",
      "w : 1.9958, b : 0.6805\n",
      "w : 2.1524, b : 0.7648\n",
      "w : 2.2838, b : 0.8291\n",
      "w : 2.3944, b : 0.8779\n",
      "w : 2.4874, b : 0.9147\n",
      "w : 2.5657, b : 0.9422\n",
      "w : 2.6318, b : 0.9626\n",
      "w : 2.6876, b : 0.9776\n",
      "w : 2.7348, b : 0.9884\n",
      "w : 2.7746, b : 0.9961\n",
      "w : 2.8084, b : 1.0015\n",
      "w : 2.8370, b : 1.0051\n",
      "w : 2.8613, b : 1.0074\n",
      "w : 2.8819, b : 1.0087\n",
      "w : 2.8993, b : 1.0094\n",
      "w : 2.9142, b : 1.0096\n",
      "w : 2.9268, b : 1.0094\n",
      "w : 2.9376, b : 1.0090\n",
      "w : 2.9467, b : 1.0085\n",
      "w : 2.9545, b : 1.0079\n",
      "w : 2.9611, b : 1.0072\n",
      "w : 2.9668, b : 1.0066\n",
      "w : 2.9716, b : 1.0059\n",
      "w : 2.9758, b : 1.0053\n",
      "w : 2.9793, b : 1.0048\n",
      "w : 2.9823, b : 1.0042\n",
      "w : 2.9848, b : 1.0037\n"
     ]
    }
   ],
   "source": [
    "perc = Perceptron(lr = 0.2)\n",
    "\n",
    "for _ in range(30) :\n",
    "    perc.fit(X, Y)\n",
    "    print('w : {:.4f}, b : {:.4f}'.format(perc.w, perc.b))"
   ]
  },
  {
   "cell_type": "markdown",
   "id": "81c71953-f31c-4976-a2ea-f809357a2a78",
   "metadata": {},
   "source": [
    "# 2. Iris Data로 Perceptron 구현"
   ]
  },
  {
   "cell_type": "code",
   "execution_count": 15,
   "id": "70bade3c-1820-4b8e-9a35-baf083fb0ec5",
   "metadata": {},
   "outputs": [],
   "source": [
    "import pandas as pd\n",
    "import matplotlib\n",
    "matplotlib.rc('font', family = 'Malgun Gothic')\n",
    "matplotlib.rc('axes', unicode_minus = False)\n",
    "import matplotlib.pyplot as plt\n",
    "import seaborn as sns\n",
    "\n",
    "import warnings\n",
    "warnings.filterwarnings('ignore')"
   ]
  },
  {
   "cell_type": "code",
   "execution_count": 16,
   "id": "afb0b962-1fb3-4c94-b3ac-47ce47deb46c",
   "metadata": {},
   "outputs": [
    {
     "data": {
      "text/html": [
       "<div>\n",
       "<style scoped>\n",
       "    .dataframe tbody tr th:only-of-type {\n",
       "        vertical-align: middle;\n",
       "    }\n",
       "\n",
       "    .dataframe tbody tr th {\n",
       "        vertical-align: top;\n",
       "    }\n",
       "\n",
       "    .dataframe thead th {\n",
       "        text-align: right;\n",
       "    }\n",
       "</style>\n",
       "<table border=\"1\" class=\"dataframe\">\n",
       "  <thead>\n",
       "    <tr style=\"text-align: right;\">\n",
       "      <th></th>\n",
       "      <th>0</th>\n",
       "      <th>1</th>\n",
       "      <th>2</th>\n",
       "      <th>3</th>\n",
       "      <th>4</th>\n",
       "    </tr>\n",
       "  </thead>\n",
       "  <tbody>\n",
       "    <tr>\n",
       "      <th>0</th>\n",
       "      <td>5.1</td>\n",
       "      <td>3.5</td>\n",
       "      <td>1.4</td>\n",
       "      <td>0.2</td>\n",
       "      <td>Iris-setosa</td>\n",
       "    </tr>\n",
       "    <tr>\n",
       "      <th>1</th>\n",
       "      <td>4.9</td>\n",
       "      <td>3.0</td>\n",
       "      <td>1.4</td>\n",
       "      <td>0.2</td>\n",
       "      <td>Iris-setosa</td>\n",
       "    </tr>\n",
       "    <tr>\n",
       "      <th>2</th>\n",
       "      <td>4.7</td>\n",
       "      <td>3.2</td>\n",
       "      <td>1.3</td>\n",
       "      <td>0.2</td>\n",
       "      <td>Iris-setosa</td>\n",
       "    </tr>\n",
       "  </tbody>\n",
       "</table>\n",
       "</div>"
      ],
      "text/plain": [
       "     0    1    2    3            4\n",
       "0  5.1  3.5  1.4  0.2  Iris-setosa\n",
       "1  4.9  3.0  1.4  0.2  Iris-setosa\n",
       "2  4.7  3.2  1.3  0.2  Iris-setosa"
      ]
     },
     "execution_count": 16,
     "metadata": {},
     "output_type": "execute_result"
    }
   ],
   "source": [
    "data_url = 'https://archive.ics.uci.edu/ml/machine-learning-databases/iris/iris.data'\n",
    "data = pd.read_csv(data_url, header = None)\n",
    "data.head(3)"
   ]
  },
  {
   "cell_type": "markdown",
   "id": "98c26da6-987e-4c55-a9d4-4957ab02b412",
   "metadata": {},
   "source": [
    "## Setosa 분류\n",
    "* Setosa면 -1\n",
    "* Setosa가 아니면 1"
   ]
  },
  {
   "cell_type": "code",
   "execution_count": 17,
   "id": "2e5ad916-d630-42f8-a9d0-05ac0aa16d93",
   "metadata": {},
   "outputs": [],
   "source": [
    "X = data.iloc[:,:4].values\n",
    "Y = data.iloc[:,4].values\n",
    "\n",
    "X = X[:,[0,2]]\n",
    "Y = np.where(Y == 'Iris-setosa', -1, 1)"
   ]
  },
  {
   "cell_type": "code",
   "execution_count": 18,
   "id": "7190ce14-5a39-44fe-b05b-56e46c7530ff",
   "metadata": {},
   "outputs": [
    {
     "data": {
      "text/plain": [
       "array([5.1, 4.9, 4.7, 4.6, 5. , 5.4, 4.6, 5. , 4.4, 4.9, 5.4, 4.8, 4.8,\n",
       "       4.3, 5.8, 5.7, 5.4, 5.1, 5.7, 5.1, 5.4, 5.1, 4.6, 5.1, 4.8, 5. ,\n",
       "       5. , 5.2, 5.2, 4.7, 4.8, 5.4, 5.2, 5.5, 4.9, 5. , 5.5, 4.9, 4.4,\n",
       "       5.1, 5. , 4.5, 4.4, 5. , 5.1, 4.8, 5.1, 4.6, 5.3, 5. ])"
      ]
     },
     "execution_count": 18,
     "metadata": {},
     "output_type": "execute_result"
    }
   ],
   "source": [
    "X[np.ravel([Y == -1]),0]"
   ]
  },
  {
   "cell_type": "code",
   "execution_count": 19,
   "id": "67e6b51b-985b-4da3-b2c6-d88dc5e7dc25",
   "metadata": {},
   "outputs": [
    {
     "data": {
      "text/plain": [
       "array([-1, -1, -1, -1, -1, -1, -1, -1, -1, -1, -1, -1, -1, -1, -1, -1, -1,\n",
       "       -1, -1, -1, -1, -1, -1, -1, -1, -1, -1, -1, -1, -1, -1, -1, -1, -1,\n",
       "       -1, -1, -1, -1, -1, -1, -1, -1, -1, -1, -1, -1, -1, -1, -1, -1,  1,\n",
       "        1,  1,  1,  1,  1,  1,  1,  1,  1,  1,  1,  1,  1,  1,  1,  1,  1,\n",
       "        1,  1,  1,  1,  1,  1,  1,  1,  1,  1,  1,  1,  1,  1,  1,  1,  1,\n",
       "        1,  1,  1,  1,  1,  1,  1,  1,  1,  1,  1,  1,  1,  1,  1,  1,  1,\n",
       "        1,  1,  1,  1,  1,  1,  1,  1,  1,  1,  1,  1,  1,  1,  1,  1,  1,\n",
       "        1,  1,  1,  1,  1,  1,  1,  1,  1,  1,  1,  1,  1,  1,  1,  1,  1,\n",
       "        1,  1,  1,  1,  1,  1,  1,  1,  1,  1,  1,  1,  1,  1])"
      ]
     },
     "execution_count": 19,
     "metadata": {},
     "output_type": "execute_result"
    }
   ],
   "source": [
    "np.ravel(Y)"
   ]
  },
  {
   "cell_type": "markdown",
   "id": "69773646-dd16-4203-87de-ba63dcc9b485",
   "metadata": {},
   "source": [
    "### Scatter Plot 1"
   ]
  },
  {
   "cell_type": "code",
   "execution_count": 20,
   "id": "90f904e8-6f47-4a42-bd14-2c9924af45c6",
   "metadata": {},
   "outputs": [
    {
     "data": {
      "image/png": "[encoded data removed]",
      "text/plain": [
       "<Figure size 640x480 with 1 Axes>"
      ]
     },
     "metadata": {},
     "output_type": "display_data"
    }
   ],
   "source": [
    "plt.figure()\n",
    "\n",
    "# plt.scatter(X[:,0], X[:,1])\n",
    "plt.scatter(X[np.ravel([Y == -1]),0], X[np.ravel([Y == -1]),1])\n",
    "plt.scatter(X[np.ravel([Y == 1]),0], X[np.ravel([Y == 1]),1])\n",
    "\n",
    "plt.show()"
   ]
  },
  {
   "cell_type": "markdown",
   "id": "fe9f48bc-9c41-40d8-bef7-18105043c53a",
   "metadata": {},
   "source": [
    "### Perceptron"
   ]
  },
  {
   "cell_type": "code",
   "execution_count": 21,
   "id": "c474a05b-e391-44f3-ae45-874dc7539286",
   "metadata": {},
   "outputs": [],
   "source": [
    "class Perceptron(object): \n",
    "    \"\"\"Perceptron classifier.\n",
    "\n",
    "    Parameters\n",
    "    ------------\n",
    "    eta : float\n",
    "      Learning rate (between 0.0 and 1.0)\n",
    "    n_iter : int\n",
    "      Passes over the training dataset.\n",
    "    random_state : int\n",
    "      Random number generator seed for random weight\n",
    "      initialization.\n",
    "\n",
    "    Attributes\n",
    "    -----------\n",
    "    w_ : 1d-array\n",
    "      Weights after fitting.\n",
    "    errors_ : list\n",
    "      Number of misclassifications (updates) in each epoch.\n",
    "\n",
    "    \"\"\"\n",
    "    def __init__(self, eta=0.01, n_iter=50, shuffle=False, random_state=1):\n",
    "        self.eta = eta\n",
    "        self.n_iter = n_iter\n",
    "        self.shuffle = shuffle\n",
    "        self.random_state = random_state\n",
    "\n",
    "    def fit(self, X, y):\n",
    "        \"\"\"Fit training data.\n",
    "\n",
    "        Parameters\n",
    "        ----------\n",
    "        X : {array-like}, shape = [n_samples, n_features]\n",
    "          Training vectors, where n_samples is the number of samples and\n",
    "          n_features is the number of features.\n",
    "        y : array-like, shape = [n_samples]\n",
    "          Target values.\n",
    "\n",
    "        Returns\n",
    "        -------\n",
    "        self : object\n",
    "\n",
    "        \"\"\"\n",
    "        rgen = np.random.RandomState(self.random_state)\n",
    "        self.w_ = rgen.normal(loc=0.0, scale=0.01, size=1 + X.shape[1])\n",
    "        self.errors_ = []\n",
    "\n",
    "        for _ in range(self.n_iter):\n",
    "            errors = 0\n",
    "            if self.shuffle:\n",
    "                X, y = self._shuffle(X, y)\n",
    "                \n",
    "            for xi, target in zip(X, y):\n",
    "                update = self.eta * (target - self.predict(xi))\n",
    "                self.w_[1:] += update * xi\n",
    "                self.w_[0] += update\n",
    "                errors += int(update != 0.0)\n",
    "            self.errors_.append(errors)\n",
    "        return self\n",
    "\n",
    "    def _shuffle(self, X, y):\n",
    "        \"\"\"Shuffle training data\"\"\"\n",
    "        r = np.random.permutation(len(y))\n",
    "        return X[r], y[r]\n",
    "\n",
    "    def net_input(self, X):\n",
    "        \"\"\"Calculate net input\"\"\"\n",
    "        return np.dot(X, self.w_[1:]) + self.w_[0]\n",
    "\n",
    "    def predict(self, X):\n",
    "        \"\"\"Return class label after unit step\"\"\"\n",
    "        return np.where(self.net_input(X) >= 0.0, 1, -1)"
   ]
  },
  {
   "cell_type": "code",
   "execution_count": 22,
   "id": "c9859308-7a0f-45e3-8578-8bd1b6fbb3ad",
   "metadata": {},
   "outputs": [
    {
     "data": {
      "text/plain": [
       "<__main__.Perceptron at 0x17b88b648e0>"
      ]
     },
     "execution_count": 22,
     "metadata": {},
     "output_type": "execute_result"
    }
   ],
   "source": [
    "perc = Perceptron(eta = 0.1, n_iter = 10, shuffle = True)\n",
    "perc.fit(X, Y)"
   ]
  },
  {
   "cell_type": "code",
   "execution_count": 23,
   "id": "1c703d41-00e7-44e2-9bc1-9ef05bfadbe1",
   "metadata": {},
   "outputs": [
    {
     "data": {
      "text/plain": [
       "[9, 0, 0, 0, 0, 0, 0, 0, 0, 0]"
      ]
     },
     "execution_count": 23,
     "metadata": {},
     "output_type": "execute_result"
    }
   ],
   "source": [
    "perc.errors_"
   ]
  },
  {
   "cell_type": "code",
   "execution_count": 24,
   "id": "8db884e5-742e-48d0-b4bf-6d01c71aab39",
   "metadata": {},
   "outputs": [
    {
     "data": {
      "text/plain": [
       "array([-0.18375655, -0.68611756,  1.77471828])"
      ]
     },
     "execution_count": 24,
     "metadata": {},
     "output_type": "execute_result"
    }
   ],
   "source": [
    "perc.w_"
   ]
  },
  {
   "cell_type": "markdown",
   "id": "dc075ad1-fe6c-4e69-805a-8bf871cc37da",
   "metadata": {},
   "source": [
    "### Scatter Plot 2"
   ]
  },
  {
   "cell_type": "code",
   "execution_count": 25,
   "id": "6e5b28a9-a20c-408b-b8f3-d411793ad145",
   "metadata": {},
   "outputs": [],
   "source": [
    "from matplotlib.colors import ListedColormap"
   ]
  },
  {
   "cell_type": "code",
   "execution_count": 26,
   "id": "d5687e3e-6ec3-4f31-b82b-5eb7f6f9d4c6",
   "metadata": {},
   "outputs": [],
   "source": [
    "def plot_decision_regions(X, y, classifier, resolution=0.02):\n",
    "\n",
    "    # setup marker generator and color map\n",
    "    markers = ('s', 'x', 'o', '^', 'v')\n",
    "    colors = ('red', 'blue', 'lightgreen', 'gray', 'cyan')\n",
    "    cmap = ListedColormap(colors[:len(np.unique(y))])\n",
    "\n",
    "    # plot the decision surface\n",
    "    x1_min, x1_max = X[:, 0].min() - 1, X[:, 0].max() + 1\n",
    "    x2_min, x2_max = X[:, 1].min() - 1, X[:, 1].max() + 1\n",
    "    xx1, xx2 = np.meshgrid(np.arange(x1_min, x1_max, resolution),\n",
    "                           np.arange(x2_min, x2_max, resolution))\n",
    "    #print(xx1)\n",
    "    #print(xx2)\n",
    "    #print(np.array([xx1.ravel(), xx2.ravel()]).T)\n",
    "    \n",
    "    Z = classifier.predict(np.array([xx1.ravel(), xx2.ravel()]).T)\n",
    "    Z = Z.reshape(xx1.shape)\n",
    "    plt.contourf(xx1, xx2, Z, alpha=0.4, cmap=cmap)\n",
    "    plt.xlim(xx1.min(), xx1.max())\n",
    "    plt.ylim(xx2.min(), xx2.max())\n",
    "\n",
    "    # plot class samples\n",
    "    for idx, cl in enumerate(np.unique(y)):\n",
    "        plt.scatter(x=X[np.ravel([y == cl]), 0],\n",
    "                    y=X[np.ravel([y == cl]), 1],\n",
    "                    alpha=0.8,\n",
    "                    c=cmap(idx),\n",
    "                    edgecolor='black',\n",
    "                    marker=markers[idx], \n",
    "                    label=cl)\n",
    "    plt.xlabel('sepal length(cm)')\n",
    "    plt.ylabel('petal length(cm)')\n",
    "\n",
    "    plt.legend()\n",
    "    plt.show()"
   ]
  },
  {
   "cell_type": "code",
   "execution_count": 27,
   "id": "e64b9fe4-b735-4ce5-a11a-65de7db94300",
   "metadata": {},
   "outputs": [
    {
     "data": {
      "image/png": "[encoded data removed]",
      "text/plain": [
       "<Figure size 640x480 with 1 Axes>"
      ]
     },
     "metadata": {},
     "output_type": "display_data"
    }
   ],
   "source": [
    "plot_decision_regions(X, Y, perc)"
   ]
  },
  {
   "cell_type": "code",
   "execution_count": null,
   "id": "7577784a-a157-42ca-b8f3-046649345115",
   "metadata": {},
   "outputs": [],
   "source": []
  }
 ],
 "metadata": {
  "kernelspec": {
   "display_name": "Python 3 (ipykernel)",
   "language": "python",
   "name": "python3"
  },
  "language_info": {
   "codemirror_mode": {
    "name": "ipython",
    "version": 3
   },
   "file_extension": ".py",
   "mimetype": "text/x-python",
   "name": "python",
   "nbconvert_exporter": "python",
   "pygments_lexer": "ipython3",
   "version": "3.10.11"
  }
 },
 "nbformat": 4,
 "nbformat_minor": 5
}
