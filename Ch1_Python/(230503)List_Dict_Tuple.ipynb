{
 "cells": [
  {
   "cell_type": "markdown",
   "id": "758e0367-f2ba-4be4-b9ac-8e2548c5c63c",
   "metadata": {
    "jp-MarkdownHeadingCollapsed": true,
    "tags": []
   },
   "source": [
    "# Cahpter 1. Python 개요 - 변수, 상수, 자료형\n",
    "* 교재 : 으뜸 파이썬(생능출판)\n",
    "* 출처 : https://www.booksr.co.kr/product/9788970503691/"
   ]
  },
  {
   "cell_type": "markdown",
   "id": "d513d1ce-4eea-4c4a-b277-d5261ea7aa6f",
   "metadata": {
    "jp-MarkdownHeadingCollapsed": true,
    "tags": []
   },
   "source": [
    "# 1. 변수와 상수"
   ]
  },
  {
   "cell_type": "markdown",
   "id": "bcb612fb-2a4e-4981-8789-0abd009bc1af",
   "metadata": {
    "jp-MarkdownHeadingCollapsed": true,
    "tags": []
   },
   "source": [
    "## p.104"
   ]
  },
  {
   "cell_type": "markdown",
   "id": "1734b3cd-215c-4586-8aa2-c84b34f79fea",
   "metadata": {
    "jp-MarkdownHeadingCollapsed": true,
    "tags": []
   },
   "source": [
    "### 코드 2-15"
   ]
  },
  {
   "cell_type": "code",
   "execution_count": 1,
   "id": "c6fba7e4-8726-4d5a-a8c5-19f1cfec4286",
   "metadata": {},
   "outputs": [
    {
     "name": "stdin",
     "output_type": "stream",
     "text": [
      "이름을 입력하시오 :  이찬\n",
      "나이를 입력하시오 :  29\n"
     ]
    },
    {
     "name": "stdout",
     "output_type": "stream",
     "text": [
      "\n",
      "이름은 이찬이고, 나이는 29살입니다.\n",
      "10년 후 제 나이는 39살입니다.\n"
     ]
    }
   ],
   "source": [
    "name = input('이름을 입력하시오 : ')\n",
    "age = int(input('나이를 입력하시오 : '))\n",
    "\n",
    "print('\\n이름은 {}이고, 나이는 {}살입니다.'.format(name, age))\n",
    "print('10년 후 제 나이는 {}살입니다.'.format(age+10))"
   ]
  },
  {
   "cell_type": "markdown",
   "id": "b6c86dc2-200b-45b0-b96e-f08658864df1",
   "metadata": {},
   "source": [
    "#### + alpha\n",
    "* 각 변수의 주소"
   ]
  },
  {
   "cell_type": "code",
   "execution_count": 2,
   "id": "0ee4c50e-d9ed-462f-ba7a-a8249643e377",
   "metadata": {},
   "outputs": [
    {
     "name": "stdout",
     "output_type": "stream",
     "text": [
      "2206290920112\n",
      "2206211507312\n"
     ]
    }
   ],
   "source": [
    "print(id(name))\n",
    "print(id(age))"
   ]
  },
  {
   "cell_type": "markdown",
   "id": "06400169-2e28-4ec0-9c93-8391b116f533",
   "metadata": {
    "jp-MarkdownHeadingCollapsed": true,
    "tags": []
   },
   "source": [
    "## p.105"
   ]
  },
  {
   "cell_type": "markdown",
   "id": "021838ed-0c0e-484b-82c7-76af2e871f25",
   "metadata": {
    "jp-MarkdownHeadingCollapsed": true,
    "tags": []
   },
   "source": [
    "### 2.3"
   ]
  },
  {
   "cell_type": "code",
   "execution_count": 3,
   "id": "6402337e-e353-44e0-8a41-dda6125f6944",
   "metadata": {},
   "outputs": [
    {
     "name": "stdin",
     "output_type": "stream",
     "text": [
      " 30\n",
      " 60\n"
     ]
    },
    {
     "name": "stdout",
     "output_type": "stream",
     "text": [
      "사각형의 면적 : 1800\n"
     ]
    }
   ],
   "source": [
    "def get_rect_area(w, h) :\n",
    "    return w * h\n",
    "\n",
    "weight = int(input())\n",
    "height = int(input())\n",
    "\n",
    "print('사각형의 면적 : {}'.format(get_rect_area(weight, height)))"
   ]
  },
  {
   "cell_type": "markdown",
   "id": "a3f8ed79-1b43-443d-bf08-0a5a4964d328",
   "metadata": {
    "jp-MarkdownHeadingCollapsed": true,
    "tags": []
   },
   "source": [
    "## p.108"
   ]
  },
  {
   "cell_type": "markdown",
   "id": "3819081c-2ee4-48b9-b52d-ddaa9b735942",
   "metadata": {
    "jp-MarkdownHeadingCollapsed": true,
    "tags": []
   },
   "source": [
    "### 2.13"
   ]
  },
  {
   "cell_type": "code",
   "execution_count": 4,
   "id": "c738827a-d2a0-4e3b-8722-5885d21f7b00",
   "metadata": {},
   "outputs": [
    {
     "name": "stdin",
     "output_type": "stream",
     "text": [
      " 11\n"
     ]
    },
    {
     "name": "stdout",
     "output_type": "stream",
     "text": [
      "원의 둘레 :  69.115038\n",
      "원의 면적 : 380.132711\n"
     ]
    }
   ],
   "source": [
    "r = int(input())\n",
    "\n",
    "import math\n",
    "math.pi*(r**2)\n",
    "print('원의 둘레 : {:10.6f}\\n원의 면적 : {:10.6f}'.format(2*math.pi*r,math.pi*(r**2)))"
   ]
  },
  {
   "cell_type": "markdown",
   "id": "cb4cdf4d-69c8-4600-a69b-9941306f950a",
   "metadata": {
    "jp-MarkdownHeadingCollapsed": true,
    "tags": []
   },
   "source": [
    "## p.111"
   ]
  },
  {
   "cell_type": "markdown",
   "id": "30c3653c-5a03-4a39-b4c7-9f5a06d11ddd",
   "metadata": {
    "jp-MarkdownHeadingCollapsed": true,
    "tags": []
   },
   "source": [
    "### 2.22"
   ]
  },
  {
   "cell_type": "code",
   "execution_count": 5,
   "id": "cd0e472d-a773-40c5-84dc-def123e52324",
   "metadata": {},
   "outputs": [
    {
     "name": "stdin",
     "output_type": "stream",
     "text": [
      " 202 50\n"
     ]
    },
    {
     "name": "stdout",
     "output_type": "stream",
     "text": [
      "a / b의 몫 : 4\n",
      "a / b의 나머지 : 2\n"
     ]
    }
   ],
   "source": [
    "a, b = map(int, input().split())\n",
    "\n",
    "print('a / b의 몫 : {}\\na / b의 나머지 : {}'.format(a//b, a%b))"
   ]
  },
  {
   "cell_type": "markdown",
   "id": "432f2e6a-c62f-4384-9ed9-c62863da6e1c",
   "metadata": {
    "jp-MarkdownHeadingCollapsed": true,
    "tags": []
   },
   "source": [
    "# 2. 자료형 - List"
   ]
  },
  {
   "cell_type": "markdown",
   "id": "9faee51e-f534-4c5a-b69e-834715fbdbe1",
   "metadata": {
    "jp-MarkdownHeadingCollapsed": true,
    "tags": []
   },
   "source": [
    "## p.276"
   ]
  },
  {
   "cell_type": "code",
   "execution_count": 6,
   "id": "a50f5d41-4af7-4504-a912-1cc44de8d146",
   "metadata": {},
   "outputs": [
    {
     "data": {
      "text/plain": [
       "[1, 2, 3, 4, 5, 6, 7, 8, 9]"
      ]
     },
     "execution_count": 6,
     "metadata": {},
     "output_type": "execute_result"
    }
   ],
   "source": [
    "list01 = list(range(1,10))\n",
    "list01"
   ]
  },
  {
   "cell_type": "code",
   "execution_count": 7,
   "id": "0f8328bf-aeb5-47a2-a16b-9fa7b0afefc1",
   "metadata": {},
   "outputs": [
    {
     "data": {
      "text/plain": [
       "['A', 'B', 'C', 'D', 'E', 'F']"
      ]
     },
     "execution_count": 7,
     "metadata": {},
     "output_type": "execute_result"
    }
   ],
   "source": [
    "list02 = list('ABCDEF')\n",
    "list02"
   ]
  },
  {
   "cell_type": "markdown",
   "id": "0a8ad25e-53e4-42cd-adb4-8e694d485a5f",
   "metadata": {},
   "source": [
    "## p.291"
   ]
  },
  {
   "cell_type": "markdown",
   "id": "e3682b1a-7c0c-4463-9d73-99a327ca25c7",
   "metadata": {},
   "source": [
    "### index"
   ]
  },
  {
   "cell_type": "code",
   "execution_count": 8,
   "id": "05ae2ff8-0245-443a-996f-ed8d5254204c",
   "metadata": {},
   "outputs": [
    {
     "data": {
      "text/plain": [
       "0"
      ]
     },
     "execution_count": 8,
     "metadata": {},
     "output_type": "execute_result"
    }
   ],
   "source": [
    "list03 = ['a','b','c','d','e']\n",
    "list03.index('a')"
   ]
  },
  {
   "cell_type": "markdown",
   "id": "26799806-9fe4-438e-bf78-b1d8aa5c3f82",
   "metadata": {},
   "source": [
    "### count"
   ]
  },
  {
   "cell_type": "code",
   "execution_count": 9,
   "id": "62b87113-c200-4adf-aa62-8095db3e9f9e",
   "metadata": {},
   "outputs": [
    {
     "data": {
      "text/plain": [
       "1"
      ]
     },
     "execution_count": 9,
     "metadata": {},
     "output_type": "execute_result"
    }
   ],
   "source": [
    "list03.count('a')"
   ]
  },
  {
   "cell_type": "markdown",
   "id": "fb2b956d-8bf2-482a-9589-b791ec0bb866",
   "metadata": {},
   "source": [
    "### extend"
   ]
  },
  {
   "cell_type": "code",
   "execution_count": 10,
   "id": "2da89274-3a71-4329-ab67-0c1c216b0ffa",
   "metadata": {},
   "outputs": [
    {
     "data": {
      "text/plain": [
       "['a', 'b', 'c', 1, 2, 3]"
      ]
     },
     "execution_count": 10,
     "metadata": {},
     "output_type": "execute_result"
    }
   ],
   "source": [
    "list04 = ['a','b','c']\n",
    "list05 = [1,2,3]\n",
    "\n",
    "list04.extend(list05)\n",
    "list04"
   ]
  },
  {
   "cell_type": "markdown",
   "id": "6b455d21-a48c-431d-b112-4cd69f377cc5",
   "metadata": {},
   "source": [
    "## p.292"
   ]
  },
  {
   "cell_type": "markdown",
   "id": "fa69ddc0-ab02-4159-9139-739c58509a3b",
   "metadata": {},
   "source": [
    "### insert"
   ]
  },
  {
   "cell_type": "code",
   "execution_count": 11,
   "id": "67143918-f83d-4b1d-bc23-8a94415ceeae",
   "metadata": {},
   "outputs": [
    {
     "data": {
      "text/plain": [
       "['a', 'b', 'c', 'd']"
      ]
     },
     "execution_count": 11,
     "metadata": {},
     "output_type": "execute_result"
    }
   ],
   "source": [
    "list06 = ['a','c','d']\n",
    "list06.insert(1,'b')\n",
    "list06"
   ]
  },
  {
   "cell_type": "markdown",
   "id": "ac3a2260-d693-4135-8415-210990503322",
   "metadata": {},
   "source": [
    "## p.293"
   ]
  },
  {
   "cell_type": "markdown",
   "id": "d2bc889a-ba0e-4826-80df-a3ea5aba45a1",
   "metadata": {},
   "source": [
    "### remove"
   ]
  },
  {
   "cell_type": "code",
   "execution_count": 12,
   "id": "13be2a1c-088d-4688-a6a2-b5effcc4c4b1",
   "metadata": {},
   "outputs": [
    {
     "data": {
      "text/plain": [
       "['a', 'c', 'b', 'd']"
      ]
     },
     "execution_count": 12,
     "metadata": {},
     "output_type": "execute_result"
    }
   ],
   "source": [
    "list07 = ['a','b','c','b','d']\n",
    "list07.remove('b')\n",
    "list07"
   ]
  },
  {
   "cell_type": "markdown",
   "id": "c52a5e02-da13-4355-91b2-f434e89849a0",
   "metadata": {},
   "source": [
    "### pop"
   ]
  },
  {
   "cell_type": "code",
   "execution_count": 13,
   "id": "07c9381e-8975-4e5a-bacc-503422a34053",
   "metadata": {},
   "outputs": [
    {
     "data": {
      "text/plain": [
       "['a', 'b', 'c']"
      ]
     },
     "execution_count": 13,
     "metadata": {},
     "output_type": "execute_result"
    }
   ],
   "source": [
    "list08 = ['a','b','c','d']\n",
    "list08.pop()\n",
    "list08"
   ]
  },
  {
   "cell_type": "markdown",
   "id": "d40245f8-be33-4332-bc75-be0d96955f46",
   "metadata": {},
   "source": [
    "### remove VS pop"
   ]
  },
  {
   "cell_type": "code",
   "execution_count": 14,
   "id": "e4031bf5-ac48-4cb1-bf4b-93e459a83fe5",
   "metadata": {},
   "outputs": [
    {
     "data": {
      "text/plain": [
       "['a', 'b', 'c']"
      ]
     },
     "execution_count": 14,
     "metadata": {},
     "output_type": "execute_result"
    }
   ],
   "source": [
    "list09 = ['a','b','c','d']\n",
    "list09.remove(list09[-1])\n",
    "list09"
   ]
  },
  {
   "cell_type": "code",
   "execution_count": 15,
   "id": "b3f5e905-b310-42d9-b8e1-9eb135b1b880",
   "metadata": {},
   "outputs": [
    {
     "data": {
      "text/plain": [
       "['a', 'b', 'c']"
      ]
     },
     "execution_count": 15,
     "metadata": {},
     "output_type": "execute_result"
    }
   ],
   "source": [
    "list09 = ['a','b','c','d']\n",
    "list09.pop()\n",
    "list09"
   ]
  },
  {
   "cell_type": "markdown",
   "id": "82b86dcc-e4f6-4b8e-a0fd-73a638f03eca",
   "metadata": {},
   "source": [
    "### reverse"
   ]
  },
  {
   "cell_type": "code",
   "execution_count": 16,
   "id": "baadd48c-e465-427f-bb8a-8db557cd8da6",
   "metadata": {},
   "outputs": [
    {
     "data": {
      "text/plain": [
       "[4, 3, 2, 1]"
      ]
     },
     "execution_count": 16,
     "metadata": {},
     "output_type": "execute_result"
    }
   ],
   "source": [
    "list10 = [1,2,3,4]\n",
    "list10.reverse()\n",
    "list10"
   ]
  },
  {
   "cell_type": "markdown",
   "id": "b676f27d-4587-41f3-bf7e-c5115768dc49",
   "metadata": {},
   "source": [
    "## p.314"
   ]
  },
  {
   "cell_type": "markdown",
   "id": "4c607fb2-cbc2-459e-a403-fad211caaa4e",
   "metadata": {},
   "source": [
    "### 5.14"
   ]
  },
  {
   "cell_type": "markdown",
   "id": "38350074-0ccf-4130-b9a0-f8374e5534f8",
   "metadata": {},
   "source": [
    "#### 1."
   ]
  },
  {
   "cell_type": "code",
   "execution_count": 17,
   "id": "a6e68d43-3c75-44a0-912d-de1340b02ea0",
   "metadata": {},
   "outputs": [
    {
     "data": {
      "text/plain": [
       "['a', 'p', 'p', 'y']"
      ]
     },
     "execution_count": 17,
     "metadata": {},
     "output_type": "execute_result"
    }
   ],
   "source": [
    "spell = ['h','a','p','p','y',' ','b','i','r','t','h','d','a','y']\n",
    "spell[1:5]"
   ]
  },
  {
   "cell_type": "markdown",
   "id": "ee08af85-c60e-4788-85e6-33966e4ca9f6",
   "metadata": {},
   "source": [
    "#### 2."
   ]
  },
  {
   "cell_type": "code",
   "execution_count": 18,
   "id": "bd511c4f-259d-469d-a29c-62b35d863a0b",
   "metadata": {},
   "outputs": [
    {
     "data": {
      "text/plain": [
       "['h', 'a', 'p', 'p', 'y', ' ', 'b', 'i', 'r', 't', 'h', 'd', 'a', 'y']"
      ]
     },
     "execution_count": 18,
     "metadata": {},
     "output_type": "execute_result"
    }
   ],
   "source": [
    "spell[:]"
   ]
  },
  {
   "cell_type": "markdown",
   "id": "6f074b67-deb9-4a53-bbe7-bdaaf935029e",
   "metadata": {},
   "source": [
    "#### 3."
   ]
  },
  {
   "cell_type": "code",
   "execution_count": 19,
   "id": "a781f7df-204b-4e5c-a008-009bd3856a32",
   "metadata": {},
   "outputs": [
    {
     "data": {
      "text/plain": [
       "['h', 'a', 'p', 'p', 'y']"
      ]
     },
     "execution_count": 19,
     "metadata": {},
     "output_type": "execute_result"
    }
   ],
   "source": [
    "spell[:5]"
   ]
  },
  {
   "cell_type": "markdown",
   "id": "67537b45-6b00-4c24-bea6-0289d30446e4",
   "metadata": {},
   "source": [
    "#### 4."
   ]
  },
  {
   "cell_type": "code",
   "execution_count": 20,
   "id": "f1e90943-32ee-412d-830b-11b98e7bd516",
   "metadata": {},
   "outputs": [
    {
     "data": {
      "text/plain": [
       "['b', 'i', 'r', 't', 'h', 'd', 'a', 'y']"
      ]
     },
     "execution_count": 20,
     "metadata": {},
     "output_type": "execute_result"
    }
   ],
   "source": [
    "spell[6:]"
   ]
  },
  {
   "cell_type": "markdown",
   "id": "934edbd4-55a2-4b24-8864-551c8f08e91e",
   "metadata": {},
   "source": [
    "#### 5."
   ]
  },
  {
   "cell_type": "code",
   "execution_count": 21,
   "id": "f6d886ac-c2cf-4a27-b56d-6c1114795f1a",
   "metadata": {},
   "outputs": [
    {
     "data": {
      "text/plain": [
       "['h', 'a', 't', 'h', 'd', 'a', 'y']"
      ]
     },
     "execution_count": 21,
     "metadata": {},
     "output_type": "execute_result"
    }
   ],
   "source": [
    "spell[:2] + spell[9:]"
   ]
  },
  {
   "cell_type": "markdown",
   "id": "857994e7-1e7d-48e3-9a3a-b7a734d090cb",
   "metadata": {},
   "source": [
    "## p.315"
   ]
  },
  {
   "cell_type": "markdown",
   "id": "5be50d3d-62b7-4911-b224-9d3be60c4135",
   "metadata": {},
   "source": [
    "### 5.15"
   ]
  },
  {
   "cell_type": "markdown",
   "id": "7733149a-a554-49a6-9c6b-b8a4734a1fda",
   "metadata": {},
   "source": [
    "#### 1."
   ]
  },
  {
   "cell_type": "code",
   "execution_count": 22,
   "id": "9f6f080f-674e-4a30-89b4-dbf367a8126f",
   "metadata": {},
   "outputs": [
    {
     "data": {
      "text/plain": [
       "'Have'"
      ]
     },
     "execution_count": 22,
     "metadata": {},
     "output_type": "execute_result"
    }
   ],
   "source": [
    "greet = 'Have a beautiful day.'\n",
    "greet[:4]"
   ]
  },
  {
   "cell_type": "markdown",
   "id": "d62a0e4b-aaae-47c2-9ba1-0357d7f90573",
   "metadata": {},
   "source": [
    "#### 2."
   ]
  },
  {
   "cell_type": "code",
   "execution_count": 23,
   "id": "b2e4c083-0a71-4b28-897e-1457c8ea3b9a",
   "metadata": {},
   "outputs": [
    {
     "data": {
      "text/plain": [
       "'beautiful'"
      ]
     },
     "execution_count": 23,
     "metadata": {},
     "output_type": "execute_result"
    }
   ],
   "source": [
    "greet[7:16]"
   ]
  },
  {
   "cell_type": "markdown",
   "id": "520d8331-71bf-480a-bf5b-bbeed9556f76",
   "metadata": {},
   "source": [
    "#### 3."
   ]
  },
  {
   "cell_type": "code",
   "execution_count": 24,
   "id": "5ce976ae-5a42-4e62-8cb4-1de263af0479",
   "metadata": {},
   "outputs": [
    {
     "data": {
      "text/plain": [
       "'day'"
      ]
     },
     "execution_count": 24,
     "metadata": {},
     "output_type": "execute_result"
    }
   ],
   "source": [
    "greet[17:20]"
   ]
  },
  {
   "cell_type": "markdown",
   "id": "03f6e636-3d82-4efe-b830-3e594c2f6287",
   "metadata": {
    "jp-MarkdownHeadingCollapsed": true,
    "tags": []
   },
   "source": [
    "# 3. 자료형 - Dict"
   ]
  },
  {
   "cell_type": "markdown",
   "id": "9a413065-cd59-4492-a691-4086078980c2",
   "metadata": {
    "jp-MarkdownHeadingCollapsed": true,
    "tags": []
   },
   "source": [
    "## p.327"
   ]
  },
  {
   "cell_type": "markdown",
   "id": "0330fb97-8942-4fcc-a162-145d03be6bfe",
   "metadata": {},
   "source": [
    "### 1."
   ]
  },
  {
   "cell_type": "code",
   "execution_count": 25,
   "id": "fe0b637e-70ac-49ae-8cc6-8201be85bd4c",
   "metadata": {},
   "outputs": [
    {
     "data": {
      "text/plain": [
       "'Seoul'"
      ]
     },
     "execution_count": 25,
     "metadata": {},
     "output_type": "execute_result"
    }
   ],
   "source": [
    "capital_dic = {'Korea' : 'Seoul', 'China' : 'Beijing', 'USA' : 'Washington'}\n",
    "capital_dic['Korea']"
   ]
  },
  {
   "cell_type": "markdown",
   "id": "3ffe5765-6328-4f37-8bb4-f6005c215054",
   "metadata": {},
   "source": [
    "### 2."
   ]
  },
  {
   "cell_type": "code",
   "execution_count": 26,
   "id": "e0241eed-99db-4673-9b66-5d26706f1f04",
   "metadata": {},
   "outputs": [
    {
     "data": {
      "text/plain": [
       "'Beijing'"
      ]
     },
     "execution_count": 26,
     "metadata": {},
     "output_type": "execute_result"
    }
   ],
   "source": [
    "capital_dic['China']"
   ]
  },
  {
   "cell_type": "markdown",
   "id": "f88a6778-7f96-4696-a283-b71257eabda3",
   "metadata": {},
   "source": [
    "### 3."
   ]
  },
  {
   "cell_type": "code",
   "execution_count": 27,
   "id": "36778b2f-038d-47e1-b323-80d133e50354",
   "metadata": {},
   "outputs": [
    {
     "data": {
      "text/plain": [
       "'Washington'"
      ]
     },
     "execution_count": 27,
     "metadata": {},
     "output_type": "execute_result"
    }
   ],
   "source": [
    "capital_dic['USA']"
   ]
  },
  {
   "cell_type": "markdown",
   "id": "cf51f320-9e51-498c-9041-374a71dbf108",
   "metadata": {},
   "source": [
    "#### + alpha"
   ]
  },
  {
   "cell_type": "code",
   "execution_count": 28,
   "id": "90efa8e3-e9c7-43a4-a9c2-16ae5b53bd88",
   "metadata": {},
   "outputs": [
    {
     "data": {
      "text/plain": [
       "{'이름': '홍길동', '나이': 26, '직업': '율도국의 왕'}"
      ]
     },
     "execution_count": 28,
     "metadata": {},
     "output_type": "execute_result"
    }
   ],
   "source": [
    "# 딕셔너리 키, 값 추가\n",
    "person = {'이름' : '홍길동', '나이' : 26}\n",
    "person['직업'] = '율도국의 왕'\n",
    "person"
   ]
  },
  {
   "cell_type": "code",
   "execution_count": 29,
   "id": "eea49ab8-cd42-415f-a1f0-037334ac5415",
   "metadata": {},
   "outputs": [
    {
     "data": {
      "text/plain": [
       "{'이름': '홍길동', '나이': 27, '직업': '율도국의 왕'}"
      ]
     },
     "execution_count": 29,
     "metadata": {},
     "output_type": "execute_result"
    }
   ],
   "source": [
    "# 딕셔너리 특정 값 수정\n",
    "person['나이'] = 27\n",
    "person"
   ]
  },
  {
   "cell_type": "code",
   "execution_count": 30,
   "id": "c84c8af7-898d-4017-9ec5-d01b725647be",
   "metadata": {},
   "outputs": [
    {
     "data": {
      "text/plain": [
       "{'이름': '홍길동', '나이': 27}"
      ]
     },
     "execution_count": 30,
     "metadata": {},
     "output_type": "execute_result"
    }
   ],
   "source": [
    "# 딕셔너리 특정 값 삭제 - Key를 삭제\n",
    "del person['직업']\n",
    "person"
   ]
  },
  {
   "cell_type": "markdown",
   "id": "5d6c66ea-12eb-434d-8825-9b4db007a4d1",
   "metadata": {
    "jp-MarkdownHeadingCollapsed": true,
    "tags": []
   },
   "source": [
    "# 4. 자료형 - Tuple\n",
    "* 값을 변경할 수 없는 리스트\n",
    "* 내부의 객체를 변경하는 것 혹은 삭제하는 것 모두 불가능"
   ]
  },
  {
   "cell_type": "markdown",
   "id": "8458e926-30b1-4372-8c92-98a92b288b46",
   "metadata": {
    "tags": []
   },
   "source": [
    "## packing\n",
    "* 하나의 변수에 여러 개의 값을 넣는 것"
   ]
  },
  {
   "cell_type": "code",
   "execution_count": 31,
   "id": "37f15c30-dc4d-4906-bbd0-d01b528e2fd5",
   "metadata": {},
   "outputs": [
    {
     "name": "stdout",
     "output_type": "stream",
     "text": [
      "1 2\n"
     ]
    }
   ],
   "source": [
    "a = (1, 2)\n",
    "print(a[0], a[1])"
   ]
  },
  {
   "cell_type": "markdown",
   "id": "e21b9459-f70b-4353-89af-85e29a25b8cf",
   "metadata": {
    "jp-MarkdownHeadingCollapsed": true,
    "tags": []
   },
   "source": [
    "## unpacking\n",
    "* packing된 변수가 있으면, 여기에서 여러 개의 값을 꺼내오는 것"
   ]
  },
  {
   "cell_type": "code",
   "execution_count": 32,
   "id": "2cf05dc7-7763-4f7c-8135-a7fd4622201f",
   "metadata": {},
   "outputs": [
    {
     "name": "stdout",
     "output_type": "stream",
     "text": [
      "3\n",
      "4\n"
     ]
    }
   ],
   "source": [
    "b = (3, 4)\n",
    "c, d = b\n",
    "print(c)\n",
    "print(d)"
   ]
  },
  {
   "cell_type": "markdown",
   "id": "07720be6-95f7-416a-8ffe-65bce168f08e",
   "metadata": {
    "jp-MarkdownHeadingCollapsed": true,
    "tags": []
   },
   "source": [
    "# 5. 실습 문제"
   ]
  },
  {
   "cell_type": "markdown",
   "id": "621f2649-46ad-4cae-bcb3-ae64a2de0e44",
   "metadata": {
    "jp-MarkdownHeadingCollapsed": true,
    "tags": []
   },
   "source": [
    "## 1번 - List\n",
    "두 개의 실수를 입력받아 곱한 값을 출력하는 프로그램을 작성하세요."
   ]
  },
  {
   "cell_type": "code",
   "execution_count": 33,
   "id": "50352d22-708b-4676-b309-d781d7f6f73b",
   "metadata": {},
   "outputs": [
    {
     "name": "stdin",
     "output_type": "stream",
     "text": [
      " 2 3\n"
     ]
    },
    {
     "data": {
      "text/plain": [
       "6.0"
      ]
     },
     "execution_count": 33,
     "metadata": {},
     "output_type": "execute_result"
    }
   ],
   "source": [
    "a, b = map(float, input().split())\n",
    "\n",
    "a * b"
   ]
  },
  {
   "cell_type": "markdown",
   "id": "c392d4ed-542b-4ac5-874f-69c34a01fa07",
   "metadata": {
    "jp-MarkdownHeadingCollapsed": true,
    "tags": []
   },
   "source": [
    "## 2번 - List\n",
    "numbers = [ 10, 20, 30, 40, 50 ] 리스트를 활용하여 아래의 문제를 해결하세요."
   ]
  },
  {
   "cell_type": "code",
   "execution_count": 34,
   "id": "154fb9dc-9144-40e7-9ee6-d21ec232632f",
   "metadata": {},
   "outputs": [
    {
     "data": {
      "text/plain": [
       "[10, 20, 30, 40, 50]"
      ]
     },
     "execution_count": 34,
     "metadata": {},
     "output_type": "execute_result"
    }
   ],
   "source": [
    "nums = [i for i in range(10,51,10)]\n",
    "nums"
   ]
  },
  {
   "cell_type": "markdown",
   "id": "fc3d9b65-8d80-4bb7-b7f3-73e53cd853f0",
   "metadata": {},
   "source": [
    "### 1).\n",
    "리스트의 첫 번째 요소를 출력하세요."
   ]
  },
  {
   "cell_type": "code",
   "execution_count": 35,
   "id": "6a00d85b-dedb-45d7-92bc-6d0fe7443550",
   "metadata": {},
   "outputs": [
    {
     "data": {
      "text/plain": [
       "10"
      ]
     },
     "execution_count": 35,
     "metadata": {},
     "output_type": "execute_result"
    }
   ],
   "source": [
    "nums[0]"
   ]
  },
  {
   "cell_type": "markdown",
   "id": "523989e2-0395-4f81-b1ad-bf97739654b5",
   "metadata": {},
   "source": [
    "### 2).\n",
    "리스트 마지막 요소를 출력하세요. (단, - (음수) 인덱스를 사용할 것)"
   ]
  },
  {
   "cell_type": "code",
   "execution_count": 36,
   "id": "58a5d6d2-db82-46b1-a0f5-c92e7ac99b26",
   "metadata": {},
   "outputs": [
    {
     "data": {
      "text/plain": [
       "50"
      ]
     },
     "execution_count": 36,
     "metadata": {},
     "output_type": "execute_result"
    }
   ],
   "source": [
    "nums[-1]"
   ]
  },
  {
   "cell_type": "markdown",
   "id": "1fb65a5e-2b46-49dc-84ba-5a61f0eccef1",
   "metadata": {},
   "source": [
    "### 3).\n",
    "리스트 인덱스 2부터 4까지의 요소를 출력하세요."
   ]
  },
  {
   "cell_type": "code",
   "execution_count": 37,
   "id": "f3300ff2-e3f3-4022-ab6d-15276de80b14",
   "metadata": {},
   "outputs": [
    {
     "data": {
      "text/plain": [
       "[30, 40, 50]"
      ]
     },
     "execution_count": 37,
     "metadata": {},
     "output_type": "execute_result"
    }
   ],
   "source": [
    "nums[2:5]"
   ]
  },
  {
   "cell_type": "markdown",
   "id": "92c1c3dd-ac17-4e0c-adde-010db7a33d56",
   "metadata": {},
   "source": [
    "### 4).\n",
    "리스트 인덱스 처음부터 3까지의 요소를 출력하세요."
   ]
  },
  {
   "cell_type": "code",
   "execution_count": 38,
   "id": "2c6a0763-96f9-4418-97c4-000f6b97d322",
   "metadata": {},
   "outputs": [
    {
     "data": {
      "text/plain": [
       "[10, 20, 30, 40]"
      ]
     },
     "execution_count": 38,
     "metadata": {},
     "output_type": "execute_result"
    }
   ],
   "source": [
    "nums[:4]"
   ]
  },
  {
   "cell_type": "markdown",
   "id": "9c46c88f-e30d-4e72-9e21-309daadfd40e",
   "metadata": {},
   "source": [
    "### 5).\n",
    "리스트 인덱스 1부터 4까지 2간격으로 출력하세요."
   ]
  },
  {
   "cell_type": "code",
   "execution_count": 39,
   "id": "89e9b96a-39d7-4562-be7b-6aa0b5cfc545",
   "metadata": {},
   "outputs": [
    {
     "data": {
      "text/plain": [
       "[20, 40]"
      ]
     },
     "execution_count": 39,
     "metadata": {},
     "output_type": "execute_result"
    }
   ],
   "source": [
    "nums[1:5:2]"
   ]
  },
  {
   "cell_type": "markdown",
   "id": "e044a042-5efe-4efe-84e5-a647a946e650",
   "metadata": {
    "jp-MarkdownHeadingCollapsed": true,
    "tags": []
   },
   "source": [
    "## 3번 - List\n",
    "marvel_hero = [ '아이언맨', '캡틴 아메리카', '토르', '헐크', '블랙 위도우' ] 리스트를 활용하여 아래 문제를 해결하세요."
   ]
  },
  {
   "cell_type": "code",
   "execution_count": 40,
   "id": "d6cd89ff-15d1-444c-9ba1-85a4676a0edc",
   "metadata": {},
   "outputs": [
    {
     "data": {
      "text/plain": [
       "['아이언맨', '캡틴 아메리카', '토르', '헐크', '블랙 위도우']"
      ]
     },
     "execution_count": 40,
     "metadata": {},
     "output_type": "execute_result"
    }
   ],
   "source": [
    "m_h = ['아이언맨', '캡틴 아메리카', '토르', '헐크', '블랙 위도우']\n",
    "m_h"
   ]
  },
  {
   "cell_type": "markdown",
   "id": "b32fe9c9-267e-4195-92dc-683f4cffb5c5",
   "metadata": {},
   "source": [
    "### 1).\n",
    "리스트에 '호크아이'를 추가하세요."
   ]
  },
  {
   "cell_type": "code",
   "execution_count": 41,
   "id": "2f39e768-5132-4c8f-8cdb-02521c10b019",
   "metadata": {},
   "outputs": [
    {
     "data": {
      "text/plain": [
       "['아이언맨', '캡틴 아메리카', '토르', '헐크', '블랙 위도우', '호크아이']"
      ]
     },
     "execution_count": 41,
     "metadata": {},
     "output_type": "execute_result"
    }
   ],
   "source": [
    "m_h.append('호크아이')\n",
    "m_h"
   ]
  },
  {
   "cell_type": "markdown",
   "id": "5a96bc2a-6b23-4954-8c82-863fe0b05698",
   "metadata": {},
   "source": [
    "### 2).\n",
    "리스트에서 '헐크'의 인덱스를 출력하세요."
   ]
  },
  {
   "cell_type": "code",
   "execution_count": 42,
   "id": "da119a4c-9858-464f-a6ff-0a4cab760396",
   "metadata": {},
   "outputs": [
    {
     "data": {
      "text/plain": [
       "3"
      ]
     },
     "execution_count": 42,
     "metadata": {},
     "output_type": "execute_result"
    }
   ],
   "source": [
    "m_h.index('헐크')"
   ]
  },
  {
   "cell_type": "markdown",
   "id": "95a4c14e-00f4-4f85-abc5-1e214409a6e6",
   "metadata": {},
   "source": [
    "### 3).\n",
    "리스트에서 '블랙 위도우'를 제거하세요."
   ]
  },
  {
   "cell_type": "code",
   "execution_count": 43,
   "id": "fc7e23b6-37b8-40ff-bbc3-290f310d741d",
   "metadata": {},
   "outputs": [
    {
     "data": {
      "text/plain": [
       "['아이언맨', '캡틴 아메리카', '토르', '헐크', '호크아이']"
      ]
     },
     "execution_count": 43,
     "metadata": {},
     "output_type": "execute_result"
    }
   ],
   "source": [
    "m_h.remove('블랙 위도우')\n",
    "m_h"
   ]
  },
  {
   "cell_type": "markdown",
   "id": "1a209c20-4483-42df-9cf4-9edd5e9ff9e9",
   "metadata": {},
   "source": [
    "### 4).\n",
    "리스트를 오름차순 정렬하세요."
   ]
  },
  {
   "cell_type": "code",
   "execution_count": 44,
   "id": "5a38f28c-bceb-4cd7-ac54-a1c2ef14c8b5",
   "metadata": {},
   "outputs": [
    {
     "data": {
      "text/plain": [
       "['아이언맨', '캡틴 아메리카', '토르', '헐크', '호크아이']"
      ]
     },
     "execution_count": 44,
     "metadata": {},
     "output_type": "execute_result"
    }
   ],
   "source": [
    "sorted(m_h)"
   ]
  },
  {
   "cell_type": "markdown",
   "id": "0b8375ee-b4c2-403a-9542-9ceada8a4a60",
   "metadata": {
    "jp-MarkdownHeadingCollapsed": true,
    "tags": []
   },
   "source": [
    "## 4번 - Dict\n",
    "fruit = { 'apple' : [ 1,2,3 ], 'banana' : [ 'yellow','sweet','long' ] } 딕셔너리를 활용하여 아래 문제를 해결하세요."
   ]
  },
  {
   "cell_type": "code",
   "execution_count": 45,
   "id": "30dc5f0d-eab2-4a7e-97b6-f0c374242b5e",
   "metadata": {},
   "outputs": [
    {
     "data": {
      "text/plain": [
       "{'apple': [1, 2, 3], 'banana': ['yellow', 'sweet', 'long']}"
      ]
     },
     "execution_count": 45,
     "metadata": {},
     "output_type": "execute_result"
    }
   ],
   "source": [
    "f = {'apple' : [1,2,3],\n",
    "     'banana' : ['yellow','sweet','long']}\n",
    "f"
   ]
  },
  {
   "cell_type": "markdown",
   "id": "a8fbc2c5-2340-48c0-86e3-8fa95ffe5345",
   "metadata": {},
   "source": [
    "### 1).\n",
    "'apple' 키에 해당하는 리스트의 모든 원소를 출력하세요."
   ]
  },
  {
   "cell_type": "code",
   "execution_count": 46,
   "id": "a8c1cb0c-04bb-4708-987a-3ce1948638df",
   "metadata": {},
   "outputs": [
    {
     "data": {
      "text/plain": [
       "[1, 2, 3]"
      ]
     },
     "execution_count": 46,
     "metadata": {},
     "output_type": "execute_result"
    }
   ],
   "source": [
    "f['apple']"
   ]
  },
  {
   "cell_type": "markdown",
   "id": "adeafbf7-0583-45c8-9b39-29c870fd49ae",
   "metadata": {},
   "source": [
    "### 2).\n",
    "'apple' 키에 해당하는 리스트의 첫 번째 원소를 출력하세요."
   ]
  },
  {
   "cell_type": "code",
   "execution_count": 47,
   "id": "23df37d9-9b99-43ce-921e-afd97965b100",
   "metadata": {},
   "outputs": [
    {
     "data": {
      "text/plain": [
       "[1]"
      ]
     },
     "execution_count": 47,
     "metadata": {},
     "output_type": "execute_result"
    }
   ],
   "source": [
    "f['apple'][:1]"
   ]
  },
  {
   "cell_type": "markdown",
   "id": "b5aa6497-fb98-4be4-a448-de28b7e0938a",
   "metadata": {},
   "source": [
    "### 3).\n",
    "딕셔너리에 'orange' 키를 추가하고, 이에 해당하는 값으로 [4, 5, 6] 리스트를 지정하세요."
   ]
  },
  {
   "cell_type": "code",
   "execution_count": 48,
   "id": "8f3dc300-4c6a-492d-bc8d-7b458619d26a",
   "metadata": {},
   "outputs": [
    {
     "data": {
      "text/plain": [
       "{'apple': [1, 2, 3],\n",
       " 'banana': ['yellow', 'sweet', 'long'],\n",
       " 'orange': [4, 5, 6]}"
      ]
     },
     "execution_count": 48,
     "metadata": {},
     "output_type": "execute_result"
    }
   ],
   "source": [
    "f['orange'] = [4,5,6]\n",
    "f"
   ]
  },
  {
   "cell_type": "code",
   "execution_count": null,
   "id": "71f31570-aa08-4784-b268-cdb347ade50a",
   "metadata": {},
   "outputs": [],
   "source": []
  }
 ],
 "metadata": {
  "kernelspec": {
   "display_name": "Python 3 (ipykernel)",
   "language": "python",
   "name": "python3"
  },
  "language_info": {
   "codemirror_mode": {
    "name": "ipython",
    "version": 3
   },
   "file_extension": ".py",
   "mimetype": "text/x-python",
   "name": "python",
   "nbconvert_exporter": "python",
   "pygments_lexer": "ipython3",
   "version": "3.9.7"
  }
 },
 "nbformat": 4,
 "nbformat_minor": 5
}
