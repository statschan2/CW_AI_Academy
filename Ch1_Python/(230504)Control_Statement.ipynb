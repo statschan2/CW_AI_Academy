{
 "cells": [
  {
   "cell_type": "markdown",
   "id": "41052a1e-2b66-478f-b248-d425be077a71",
   "metadata": {},
   "source": [
    "# Chapter 1. Python 기초 - 제어문\n",
    "* 교재 : 으뜸 파이썬(생능출판)\n",
    "* 출처 : https://www.booksr.co.kr/product/9788970503691/"
   ]
  },
  {
   "cell_type": "markdown",
   "id": "894eff6e-e36f-46b4-bec7-9b20b9f1077a",
   "metadata": {
    "jp-MarkdownHeadingCollapsed": true,
    "tags": []
   },
   "source": [
    "# 1. 복습 문제"
   ]
  },
  {
   "cell_type": "markdown",
   "id": "559e624e-03bb-4a62-902c-93c212508308",
   "metadata": {
    "jp-MarkdownHeadingCollapsed": true,
    "tags": []
   },
   "source": [
    "## 1번 - List\n",
    "다음의 리스트를 보고 문제에 답하세요.  \n",
    "my_list = [ 'apple', 'banana', 'cherry', 'orange', 'kiwi', 'melon' ]"
   ]
  },
  {
   "cell_type": "code",
   "execution_count": 1,
   "id": "93520529-5678-4971-a5eb-6a8de930eda8",
   "metadata": {},
   "outputs": [
    {
     "data": {
      "text/plain": [
       "['apple', 'banana', 'cherry', 'orange', 'kiwi', 'melon']"
      ]
     },
     "execution_count": 1,
     "metadata": {},
     "output_type": "execute_result"
    }
   ],
   "source": [
    "m_l = ['apple','banana','cherry','orange','kiwi','melon']\n",
    "m_l"
   ]
  },
  {
   "cell_type": "markdown",
   "id": "c63cc947-2d1f-4b9b-90cc-23c3482a3fce",
   "metadata": {},
   "source": [
    "### 1).\n",
    "리스트 인덱스 2에 해당하는 요소('banana')를 출력하세요."
   ]
  },
  {
   "cell_type": "code",
   "execution_count": 2,
   "id": "cac7294a-6f6c-47d9-a573-e14618504be5",
   "metadata": {},
   "outputs": [
    {
     "data": {
      "text/plain": [
       "'banana'"
      ]
     },
     "execution_count": 2,
     "metadata": {},
     "output_type": "execute_result"
    }
   ],
   "source": [
    "m_l[1]"
   ]
  },
  {
   "cell_type": "markdown",
   "id": "17d94d0b-f981-427e-9ebb-329eb890ab41",
   "metadata": {},
   "source": [
    "### 2).\n",
    "리스트 인덱스 1부터 2까지의 요소를 출력하세요."
   ]
  },
  {
   "cell_type": "code",
   "execution_count": 3,
   "id": "4eb7edfd-4f1c-41dc-844e-e233045ad532",
   "metadata": {},
   "outputs": [
    {
     "data": {
      "text/plain": [
       "['banana', 'cherry']"
      ]
     },
     "execution_count": 3,
     "metadata": {},
     "output_type": "execute_result"
    }
   ],
   "source": [
    "m_l[1:3]"
   ]
  },
  {
   "cell_type": "markdown",
   "id": "7ea09395-3081-4835-8d73-6cdef9d0dfcf",
   "metadata": {},
   "source": [
    "### 3).\n",
    "리스트 처음부터 인덱스 2까지의 요소를 출력하세요."
   ]
  },
  {
   "cell_type": "code",
   "execution_count": 4,
   "id": "6d0782ee-b266-42d9-86e0-a7d918821652",
   "metadata": {},
   "outputs": [
    {
     "data": {
      "text/plain": [
       "['apple', 'banana']"
      ]
     },
     "execution_count": 4,
     "metadata": {},
     "output_type": "execute_result"
    }
   ],
   "source": [
    "m_l[:2]"
   ]
  },
  {
   "cell_type": "markdown",
   "id": "8d6a4baa-e900-4ae4-8f0c-cb89a9346c06",
   "metadata": {},
   "source": [
    "### 4).\n",
    "리스트 인덱스 4부터 마지막까지의 요소를 출력하세요."
   ]
  },
  {
   "cell_type": "code",
   "execution_count": 5,
   "id": "fdb9e049-7243-43a0-831d-d4510f4b6655",
   "metadata": {},
   "outputs": [
    {
     "data": {
      "text/plain": [
       "['kiwi', 'melon']"
      ]
     },
     "execution_count": 5,
     "metadata": {},
     "output_type": "execute_result"
    }
   ],
   "source": [
    "m_l[4:]"
   ]
  },
  {
   "cell_type": "markdown",
   "id": "799ab405-330c-4c46-bd46-1bea4ba500b2",
   "metadata": {},
   "source": [
    "### 5).\n",
    "리스트에서 인덱스 1부터 끝까지 두 칸씩 건너뛰면서 출력하세요."
   ]
  },
  {
   "cell_type": "code",
   "execution_count": 6,
   "id": "04e6a332-b43e-4b54-99d1-e3fe5f1b8eaf",
   "metadata": {},
   "outputs": [
    {
     "data": {
      "text/plain": [
       "['banana', 'orange', 'melon']"
      ]
     },
     "execution_count": 6,
     "metadata": {},
     "output_type": "execute_result"
    }
   ],
   "source": [
    "m_l[1::2]"
   ]
  },
  {
   "cell_type": "markdown",
   "id": "9a4c396d-fd6e-4d7f-b462-5056f7652092",
   "metadata": {
    "jp-MarkdownHeadingCollapsed": true,
    "tags": []
   },
   "source": [
    "## 2번 - Dict\n",
    "다음의 딕셔너리를 보고 문제에 답하세요.  \n",
    "my_dict = { 'apple' : 1, 'banana' : 2, 'cherry' : 3, 'orange' : 4, 'kiwi' : 5, 'melon' : 6 }"
   ]
  },
  {
   "cell_type": "code",
   "execution_count": 7,
   "id": "2d427982-a96c-4596-9131-327ff1453eac",
   "metadata": {},
   "outputs": [
    {
     "data": {
      "text/plain": [
       "{'apple': 1, 'banana': 2, 'cherry': 3, 'orange': 4, 'kiwi': 5, 'melon': 6}"
      ]
     },
     "execution_count": 7,
     "metadata": {},
     "output_type": "execute_result"
    }
   ],
   "source": [
    "m_d = {'apple' : 1, 'banana' : 2, 'cherry' : 3, 'orange' : 4, 'kiwi' : 5, 'melon' : 6}\n",
    "m_d"
   ]
  },
  {
   "cell_type": "markdown",
   "id": "e45f77da-98b4-47c5-8e91-db1a097232e5",
   "metadata": {},
   "source": [
    "### 1).\n",
    "'cherry' 키에 대응하는 값을 출력하세요."
   ]
  },
  {
   "cell_type": "code",
   "execution_count": 8,
   "id": "ea436ba6-d7fc-4342-aeab-ff136a4a345f",
   "metadata": {},
   "outputs": [
    {
     "data": {
      "text/plain": [
       "3"
      ]
     },
     "execution_count": 8,
     "metadata": {},
     "output_type": "execute_result"
    }
   ],
   "source": [
    "m_d['cherry']"
   ]
  },
  {
   "cell_type": "markdown",
   "id": "8c2b7a96-c48d-4ead-a6a7-ffffbe5f2004",
   "metadata": {},
   "source": [
    "### 2).\n",
    "딕셔너리에 새로운 'mango'라는 키를 추가하고, 대응하는 값으로 7을 지정하세요."
   ]
  },
  {
   "cell_type": "code",
   "execution_count": 9,
   "id": "44986e47-6c54-40f6-8347-f1467b404e8b",
   "metadata": {},
   "outputs": [
    {
     "data": {
      "text/plain": [
       "{'apple': 1,\n",
       " 'banana': 2,\n",
       " 'cherry': 3,\n",
       " 'orange': 4,\n",
       " 'kiwi': 5,\n",
       " 'melon': 6,\n",
       " 'mango': 7}"
      ]
     },
     "execution_count": 9,
     "metadata": {},
     "output_type": "execute_result"
    }
   ],
   "source": [
    "m_d['mango'] = 7\n",
    "m_d"
   ]
  },
  {
   "cell_type": "markdown",
   "id": "3d02a196-b4ed-42f1-bb51-7da9083a3696",
   "metadata": {
    "jp-MarkdownHeadingCollapsed": true,
    "tags": []
   },
   "source": [
    "## 3번 - Dict\n",
    "다음의 딕셔너리를 보고 문제에 답하세요.  \n",
    "my_dict2 = { 'score' : [ 80,90,100 ], 'rank' : [ 3,2,1 ] }"
   ]
  },
  {
   "cell_type": "code",
   "execution_count": 10,
   "id": "51af7b2e-1aff-4f21-826d-e1a30802b655",
   "metadata": {},
   "outputs": [
    {
     "data": {
      "text/plain": [
       "{'score': [80, 90, 100], 'rank': [3, 2, 1]}"
      ]
     },
     "execution_count": 10,
     "metadata": {},
     "output_type": "execute_result"
    }
   ],
   "source": [
    "m_d2 = {'score' : [80,90,100], 'rank' : [3,2,1]}\n",
    "m_d2"
   ]
  },
  {
   "cell_type": "markdown",
   "id": "63a17d51-435a-43a2-9bb4-82db9204b5c8",
   "metadata": {},
   "source": [
    "### 1).\n",
    "'score' 키에 대응하는 리스트의 두 번째 요소를 출력하세요."
   ]
  },
  {
   "cell_type": "code",
   "execution_count": 11,
   "id": "e4d1c797-6d1e-4762-a0ee-694752b18fd5",
   "metadata": {},
   "outputs": [
    {
     "data": {
      "text/plain": [
       "90"
      ]
     },
     "execution_count": 11,
     "metadata": {},
     "output_type": "execute_result"
    }
   ],
   "source": [
    "m_d2['score'][1]"
   ]
  },
  {
   "cell_type": "markdown",
   "id": "c7cdfed7-0f62-47e9-842a-ae7c01c7fe18",
   "metadata": {},
   "source": [
    "### 2).\n",
    "'rank' 키에 대응하는 리스트의 두 번째 요소부터 세 번째 요소까지 출력하세요."
   ]
  },
  {
   "cell_type": "code",
   "execution_count": 12,
   "id": "2f500ef2-2053-43cc-b5af-db4f21e702c2",
   "metadata": {},
   "outputs": [
    {
     "data": {
      "text/plain": [
       "[2, 1]"
      ]
     },
     "execution_count": 12,
     "metadata": {},
     "output_type": "execute_result"
    }
   ],
   "source": [
    "m_d2['rank'][1:3]"
   ]
  },
  {
   "cell_type": "markdown",
   "id": "68e01415-75d7-4104-a133-db300143c32c",
   "metadata": {
    "jp-MarkdownHeadingCollapsed": true,
    "tags": []
   },
   "source": [
    "## 4번 - Dict\n",
    "다음의 딕셔너리를 보고 문제에 답하세요.  \n",
    "my_dict3 = { 'apple' : 1, 'banana' : 2, 'cherry' : 3, 'orange' : 4, 'kiwi' : 5 }  "
   ]
  },
  {
   "cell_type": "code",
   "execution_count": 13,
   "id": "cb587822-2ce0-44ad-a49b-db3498aef702",
   "metadata": {},
   "outputs": [
    {
     "data": {
      "text/plain": [
       "{'apple': 1, 'banana': 2, 'cherry': 3, 'orange': 4, 'kiwi': 5}"
      ]
     },
     "execution_count": 13,
     "metadata": {},
     "output_type": "execute_result"
    }
   ],
   "source": [
    "m_d3 = {'apple' : 1, 'banana' : 2, 'cherry' : 3, 'orange' : 4, 'kiwi' : 5}  \n",
    "m_d3"
   ]
  },
  {
   "cell_type": "markdown",
   "id": "72cc96b6-915e-4389-af18-7a9168c0f42b",
   "metadata": {},
   "source": [
    "### 1).\n",
    "딕셔너리의 키을 출력하세요."
   ]
  },
  {
   "cell_type": "code",
   "execution_count": 14,
   "id": "664e7a60-9ae4-4d0f-bb9b-c943d4253ba9",
   "metadata": {},
   "outputs": [
    {
     "data": {
      "text/plain": [
       "['apple', 'banana', 'cherry', 'orange', 'kiwi']"
      ]
     },
     "execution_count": 14,
     "metadata": {},
     "output_type": "execute_result"
    }
   ],
   "source": [
    "keys = list(m_d3.keys())\n",
    "keys"
   ]
  },
  {
   "cell_type": "markdown",
   "id": "d9b2a616-5dc2-48c5-a245-902c0e88aa5b",
   "metadata": {},
   "source": [
    "### 2).\n",
    "딕셔너리의 값을 출력하세요."
   ]
  },
  {
   "cell_type": "code",
   "execution_count": 15,
   "id": "c0362dca-8d90-4cfa-af01-b4b3dced7817",
   "metadata": {},
   "outputs": [
    {
     "data": {
      "text/plain": [
       "[1, 2, 3, 4, 5]"
      ]
     },
     "execution_count": 15,
     "metadata": {},
     "output_type": "execute_result"
    }
   ],
   "source": [
    "vals = list(m_d3.values())\n",
    "vals"
   ]
  },
  {
   "cell_type": "markdown",
   "id": "63f6c4dd-6449-4506-8c4d-a0a3918245c6",
   "metadata": {},
   "source": [
    "### 3).\n",
    "딕셔너리의 아이템을 출력하세요."
   ]
  },
  {
   "cell_type": "code",
   "execution_count": 16,
   "id": "0f8fc53c-af1f-44de-b51a-e65753ee1d93",
   "metadata": {},
   "outputs": [
    {
     "data": {
      "text/plain": [
       "[('apple', 1), ('banana', 2)]"
      ]
     },
     "execution_count": 16,
     "metadata": {},
     "output_type": "execute_result"
    }
   ],
   "source": [
    "items = list(m_d3.items())\n",
    "items[:2]"
   ]
  },
  {
   "cell_type": "markdown",
   "id": "09f07706-a420-49be-8fbf-ba2fb9db3b18",
   "metadata": {
    "jp-MarkdownHeadingCollapsed": true,
    "tags": []
   },
   "source": [
    "# 2. 제어문 - If"
   ]
  },
  {
   "cell_type": "markdown",
   "id": "aa99a039-9fb5-4f43-83f2-c7b899f1fd46",
   "metadata": {
    "jp-MarkdownHeadingCollapsed": true,
    "tags": []
   },
   "source": [
    "## p.131"
   ]
  },
  {
   "cell_type": "markdown",
   "id": "82aef64d-8a3d-42fb-a34d-f4211bc311ee",
   "metadata": {
    "jp-MarkdownHeadingCollapsed": true,
    "tags": []
   },
   "source": [
    "### 코드 3-12"
   ]
  },
  {
   "cell_type": "code",
   "execution_count": 17,
   "id": "aede0dbf-fbd4-4e8b-879d-578d853826ed",
   "metadata": {},
   "outputs": [
    {
     "name": "stdout",
     "output_type": "stream",
     "text": [
      "100은(는) 양수입니다.\n"
     ]
    }
   ],
   "source": [
    "num = 100\n",
    "\n",
    "if num < 0 :\n",
    "    print('{}은(는) 음수입니다.'.format(num))\n",
    "else :\n",
    "    print('{}은(는) 양수입니다.'.format(num))"
   ]
  },
  {
   "cell_type": "markdown",
   "id": "429b9946-99ba-4fa5-86a1-22fe82a9d5e9",
   "metadata": {
    "jp-MarkdownHeadingCollapsed": true,
    "tags": []
   },
   "source": [
    "## p.142"
   ]
  },
  {
   "cell_type": "markdown",
   "id": "a9f04ad2-dd35-4340-8aa4-d293702e17ac",
   "metadata": {
    "jp-MarkdownHeadingCollapsed": true,
    "tags": []
   },
   "source": [
    "### 코드 3-17"
   ]
  },
  {
   "cell_type": "code",
   "execution_count": 18,
   "id": "83ec143e-e823-40ee-a506-596f7f8a58b2",
   "metadata": {},
   "outputs": [
    {
     "name": "stdin",
     "output_type": "stream",
     "text": [
      "정수를 입력하시오 :  70\n"
     ]
    },
    {
     "name": "stdout",
     "output_type": "stream",
     "text": [
      "당신의 등급은 C입니다.\n"
     ]
    }
   ],
   "source": [
    "score = int(input('정수를 입력하시오 : '))\n",
    "\n",
    "if score >= 90 :\n",
    "    grade = 'A'\n",
    "elif score >= 80 :\n",
    "    grade = 'B'\n",
    "elif score >= 70 :\n",
    "    grade = 'C'\n",
    "elif score >= 60 :\n",
    "    grade = 'D'\n",
    "else :\n",
    "    grad = 'F'\n",
    "\n",
    "print('당신의 등급은 {}입니다.'.format(grade))"
   ]
  },
  {
   "cell_type": "markdown",
   "id": "0592b82c-e9c8-4359-ab38-6207c0392e15",
   "metadata": {
    "jp-MarkdownHeadingCollapsed": true,
    "tags": []
   },
   "source": [
    "## p.163"
   ]
  },
  {
   "cell_type": "markdown",
   "id": "141343ee-2a1a-42f8-90a9-68ab0cbbfdd5",
   "metadata": {
    "jp-MarkdownHeadingCollapsed": true,
    "tags": []
   },
   "source": [
    "### 코드 3-35"
   ]
  },
  {
   "cell_type": "code",
   "execution_count": 19,
   "id": "5d32dfc0-daf7-4441-aea3-88aa89f7c94a",
   "metadata": {},
   "outputs": [
    {
     "name": "stdout",
     "output_type": "stream",
     "text": [
      "H e l l o "
     ]
    }
   ],
   "source": [
    "for ch in 'Hello' :\n",
    "    print(ch,end = ' ')"
   ]
  },
  {
   "cell_type": "markdown",
   "id": "59ccabcf-28fe-441f-b52a-6ab9a6ed2191",
   "metadata": {
    "jp-MarkdownHeadingCollapsed": true,
    "tags": []
   },
   "source": [
    "## 실습 문제"
   ]
  },
  {
   "cell_type": "markdown",
   "id": "e9c3df16-3da0-414a-90d9-a8b6b432990f",
   "metadata": {
    "jp-MarkdownHeadingCollapsed": true,
    "tags": []
   },
   "source": [
    "### 1번\n",
    "게임 사용자의 게임점수(game_score)가 1000점 이상이면 '당신은 고수입니다.'를 출력하는 프로그램을 if문을 이용하여 작성하시오.  \n",
    "* 이때 다음과 같이 game_score값을 화면에 출력하시오.  \n",
    "(ex1) game_score = 000점, 노력하세요.  \n",
    "(ex2) game_score = 000점, 당신은 고수입니다!  \n",
    "* game_score에 800점, 1300점을 각각 입력하여 출력문을 확인하시오."
   ]
  },
  {
   "cell_type": "code",
   "execution_count": 20,
   "id": "280e4878-3611-469a-b0f7-80484fb803de",
   "metadata": {},
   "outputs": [
    {
     "name": "stdin",
     "output_type": "stream",
     "text": [
      " 800\n"
     ]
    },
    {
     "name": "stdout",
     "output_type": "stream",
     "text": [
      "game_score = 800, 노력하세요.\n",
      "\n"
     ]
    },
    {
     "name": "stdin",
     "output_type": "stream",
     "text": [
      " 1300\n"
     ]
    },
    {
     "name": "stdout",
     "output_type": "stream",
     "text": [
      "game_score = 1300, 당신은 고수입니다!\n",
      "\n"
     ]
    }
   ],
   "source": [
    "for i in range(2) :\n",
    "    game_score = int(input())\n",
    "    \n",
    "    if game_score >= 1000 :\n",
    "        print('game_score = {}, 당신은 고수입니다!\\n'.format(game_score))\n",
    "    else :\n",
    "        print('game_score = {}, 노력하세요.\\n'.format(game_score))"
   ]
  },
  {
   "cell_type": "markdown",
   "id": "f2a2f73c-753b-4ca8-b43d-56371455de64",
   "metadata": {
    "jp-MarkdownHeadingCollapsed": true,
    "tags": []
   },
   "source": [
    "### 2번\n",
    "num_a와 num_b에 할당된 값이 같으면 'num_a와 num_b는 일치합니다.'를 출력하는 프로그램을 if문을 이용하여 작성하시오."
   ]
  },
  {
   "cell_type": "code",
   "execution_count": 21,
   "id": "892443b9-6aa3-46ba-944f-efac60c59a2c",
   "metadata": {},
   "outputs": [
    {
     "name": "stdin",
     "output_type": "stream",
     "text": [
      " 20 30\n"
     ]
    },
    {
     "name": "stdout",
     "output_type": "stream",
     "text": [
      "a와 b는 일치하지 않습니다.\n"
     ]
    }
   ],
   "source": [
    "a, b = map(int,input().split())\n",
    "\n",
    "if a == b :\n",
    "    print('a와 b는 일치합니다.')\n",
    "else :\n",
    "    print('a와 b는 일치하지 않습니다.')"
   ]
  },
  {
   "cell_type": "markdown",
   "id": "3ddb0a5b-6154-415d-9381-f24a28d76a3b",
   "metadata": {
    "jp-MarkdownHeadingCollapsed": true,
    "tags": []
   },
   "source": [
    "### 3번\n",
    "1에서 100사이 임의의 정수 n을 입력받아서 n을 화면에 출력한 후 n이 짝수이면 'n은(는) 짝수입니다.'를 출력하는 프로그램을 작성하세요."
   ]
  },
  {
   "cell_type": "code",
   "execution_count": 22,
   "id": "a4a4017c-4ed8-4065-a1ec-7fc0af927fb4",
   "metadata": {},
   "outputs": [
    {
     "name": "stdin",
     "output_type": "stream",
     "text": [
      "정수를 입력하시오 :  100\n"
     ]
    },
    {
     "name": "stdout",
     "output_type": "stream",
     "text": [
      "100\n",
      "100은(는) 짝수입니다.\n"
     ]
    }
   ],
   "source": [
    "num = int(input('정수를 입력하시오 : '))\n",
    "\n",
    "print(num)\n",
    "if num % 2 == 0 :\n",
    "    print('{}은(는) 짝수입니다.'.format(num))\n",
    "else :\n",
    "    print('{}은(는) 홀수입니다.'.format(num))"
   ]
  },
  {
   "cell_type": "markdown",
   "id": "4220d9d0-2ab7-4930-9f7b-787170d5efd0",
   "metadata": {
    "jp-MarkdownHeadingCollapsed": true,
    "tags": []
   },
   "source": [
    "# + alpha - zip, enumerate"
   ]
  },
  {
   "cell_type": "code",
   "execution_count": 23,
   "id": "1b996003-12d4-40e1-b57d-1232a9cbfd68",
   "metadata": {},
   "outputs": [],
   "source": [
    "l1 = [1,2,3,4]\n",
    "l2 = [2,3,4,5]"
   ]
  },
  {
   "cell_type": "code",
   "execution_count": 24,
   "id": "f3364282-9e69-446c-843b-121343aa289c",
   "metadata": {},
   "outputs": [
    {
     "name": "stdout",
     "output_type": "stream",
     "text": [
      "1 2\n",
      "2 3\n",
      "3 4\n",
      "4 5\n"
     ]
    }
   ],
   "source": [
    "for i,j in zip(l1,l2) :\n",
    "    print(i,j)"
   ]
  },
  {
   "cell_type": "code",
   "execution_count": 25,
   "id": "4af2ba66-694f-4b51-9751-410e98f7427a",
   "metadata": {},
   "outputs": [
    {
     "name": "stdout",
     "output_type": "stream",
     "text": [
      "0 1\n",
      "1 2\n",
      "2 3\n",
      "3 4\n"
     ]
    }
   ],
   "source": [
    "for i, j in enumerate(l1) :\n",
    "    print(i, j)"
   ]
  },
  {
   "cell_type": "markdown",
   "id": "4a1a33dc-0b27-40c5-ba49-4de99990f0ea",
   "metadata": {
    "jp-MarkdownHeadingCollapsed": true,
    "tags": []
   },
   "source": [
    "# 3. 제어문 - While\n",
    "* 조건에 맞는 경우 반복\n",
    "* 제대로 된 입력을 할 때까지만 반복  \n",
    "(ex1) 회원가입할 때 비밀번호가 조건에 따라 생성될 때까지 반복  \n",
    "(ex2) 리스트에서 값을 하나씩 뽑아서 지울 예정인데 길이를 모를 때 While 조건을 리스트가 비어있게 될 때까지 반복  "
   ]
  },
  {
   "cell_type": "markdown",
   "id": "6f35282d-c173-4d05-bf95-ae67549ba212",
   "metadata": {
    "jp-MarkdownHeadingCollapsed": true,
    "tags": []
   },
   "source": [
    "## 예제\n",
    "리스트가 비어있게 될 때까지 반복"
   ]
  },
  {
   "cell_type": "code",
   "execution_count": 26,
   "id": "791a8374-3541-4fed-9556-e43e2b6d72ee",
   "metadata": {},
   "outputs": [
    {
     "name": "stdout",
     "output_type": "stream",
     "text": [
      "9\n",
      "7\n",
      "5\n",
      "3\n",
      "1\n"
     ]
    }
   ],
   "source": [
    "l1 = [1,3,5,7,9]\n",
    "\n",
    "i = 0\n",
    "while l1 :\n",
    "    print(l1.pop())"
   ]
  },
  {
   "cell_type": "markdown",
   "id": "657ea6b9-1d66-4234-8a02-f31e3468f6a5",
   "metadata": {
    "jp-MarkdownHeadingCollapsed": true,
    "tags": []
   },
   "source": [
    "# 4. 제어문 - Break"
   ]
  },
  {
   "cell_type": "markdown",
   "id": "0542182c-60e2-48ef-b49a-5aaee5166e7b",
   "metadata": {
    "jp-MarkdownHeadingCollapsed": true,
    "tags": []
   },
   "source": [
    "## 예제\n",
    "두 수의 합이 10 이상인 경우 Break 후 다음 Step으로 넘어가는 프로그램을 작성하세요."
   ]
  },
  {
   "cell_type": "code",
   "execution_count": 27,
   "id": "e97a29be-e749-4418-a14d-b1482bb07f35",
   "metadata": {},
   "outputs": [
    {
     "name": "stdout",
     "output_type": "stream",
     "text": [
      "1 2\n",
      "1 4\n",
      "1 6\n",
      "1 8\n",
      "1 10\n",
      "Next\n",
      "\n",
      "3 2\n",
      "3 4\n",
      "3 6\n",
      "3 8\n",
      "Next\n",
      "\n",
      "5 2\n",
      "5 4\n",
      "5 6\n",
      "Next\n",
      "\n",
      "7 2\n",
      "7 4\n",
      "Next\n",
      "\n",
      "9 2\n",
      "Next\n",
      "\n"
     ]
    }
   ],
   "source": [
    "for i in range(1,10,2) :\n",
    "    for j in range(2,11,2) :\n",
    "        print(i,j)\n",
    "        if i + j > 10 :\n",
    "            break\n",
    "    print('Next\\n')"
   ]
  },
  {
   "cell_type": "markdown",
   "id": "4ce82429-4d1a-4f13-baec-530913eee645",
   "metadata": {
    "jp-MarkdownHeadingCollapsed": true,
    "tags": []
   },
   "source": [
    "# 5. 제어문 - Try, Except"
   ]
  },
  {
   "cell_type": "markdown",
   "id": "a72e211c-4161-43b3-8503-987e18475f7c",
   "metadata": {
    "jp-MarkdownHeadingCollapsed": true,
    "tags": []
   },
   "source": [
    "## 예제 1\n",
    "나눗셈 결과를 출력하는 프로그램을 작성하세요.  \n",
    "단, 분모가 0인 경우 '분모는 0이 될 수 없습니다.'를 출력하시오."
   ]
  },
  {
   "cell_type": "code",
   "execution_count": 28,
   "id": "5d0683e2-3c54-4e8c-b93c-536f223134e4",
   "metadata": {},
   "outputs": [
    {
     "name": "stdin",
     "output_type": "stream",
     "text": [
      " 5 0\n"
     ]
    },
    {
     "name": "stdout",
     "output_type": "stream",
     "text": [
      "분모는 0이 될 수 없습니다.\n"
     ]
    }
   ],
   "source": [
    "a, b = map(int, input().split())\n",
    "\n",
    "try :\n",
    "    print(a/b)\n",
    "except :\n",
    "    print('분모는 0이 될 수 없습니다.')"
   ]
  },
  {
   "cell_type": "markdown",
   "id": "e555a434-058e-4aed-bc1f-901ef337ebdc",
   "metadata": {},
   "source": [
    "## 예제 2\n",
    "나눗셈 결과를 출력하는 프로그램을 작성하세요.  \n",
    "단, 분모가 0인 경우 '분모는 0이 될 수 없습니다.'를 출력하고, 제대로 된 값이 나온 경우 프로그램을 종료하세요."
   ]
  },
  {
   "cell_type": "code",
   "execution_count": 29,
   "id": "c4a2d0e6-bb47-42fa-9f3f-ff417d62f40d",
   "metadata": {},
   "outputs": [
    {
     "name": "stdin",
     "output_type": "stream",
     "text": [
      " lee 1\n"
     ]
    },
    {
     "name": "stdout",
     "output_type": "stream",
     "text": [
      "숫자만 입력할 수 있습니다.\n",
      "\n"
     ]
    },
    {
     "name": "stdin",
     "output_type": "stream",
     "text": [
      " 1 0\n"
     ]
    },
    {
     "name": "stdout",
     "output_type": "stream",
     "text": [
      "분모는 0이 될 수 없습니다.\n",
      "\n"
     ]
    },
    {
     "name": "stdin",
     "output_type": "stream",
     "text": [
      " 2 1\n"
     ]
    },
    {
     "name": "stdout",
     "output_type": "stream",
     "text": [
      "2.0\n"
     ]
    }
   ],
   "source": [
    "while True :\n",
    "    try :\n",
    "        a, b = map(int, input().split())\n",
    "        print(a/b)\n",
    "        break\n",
    "    except ZeroDivisionError :\n",
    "        print('분모는 0이 될 수 없습니다.\\n')\n",
    "    except ValueError :\n",
    "        print('숫자만 입력할 수 있습니다.\\n')"
   ]
  },
  {
   "cell_type": "markdown",
   "id": "8047318a-2d4a-49d8-be4d-ca4d79757610",
   "metadata": {
    "jp-MarkdownHeadingCollapsed": true,
    "tags": []
   },
   "source": [
    "# + alpha - Raise"
   ]
  },
  {
   "cell_type": "markdown",
   "id": "ab8f5ce6-b3c1-482d-8a99-e3e94ad76c48",
   "metadata": {
    "jp-MarkdownHeadingCollapsed": true,
    "tags": []
   },
   "source": [
    "## 예제\n",
    "에러 코드를 생성하세요.  \n",
    "(ex) TypeError : 정수를 입력해주세요."
   ]
  },
  {
   "cell_type": "code",
   "execution_count": 30,
   "id": "a1fe23b4-d6dd-482c-b0a0-88b29d9d5702",
   "metadata": {},
   "outputs": [
    {
     "ename": "TypeError",
     "evalue": "정수를 입력해주세요.",
     "output_type": "error",
     "traceback": [
      "\u001b[1;31m---------------------------------------------------------------------------\u001b[0m",
      "\u001b[1;31mTypeError\u001b[0m                                 Traceback (most recent call last)",
      "Cell \u001b[1;32mIn[30], line 5\u001b[0m\n\u001b[0;32m      3\u001b[0m     \u001b[38;5;28mprint\u001b[39m(a)\n\u001b[0;32m      4\u001b[0m \u001b[38;5;28;01melse\u001b[39;00m :\n\u001b[1;32m----> 5\u001b[0m     \u001b[38;5;28;01mraise\u001b[39;00m \u001b[38;5;167;01mTypeError\u001b[39;00m(\u001b[38;5;124m'\u001b[39m\u001b[38;5;124m정수를 입력해주세요.\u001b[39m\u001b[38;5;124m'\u001b[39m)\n",
      "\u001b[1;31mTypeError\u001b[0m: 정수를 입력해주세요."
     ]
    }
   ],
   "source": [
    "a = 'hi!'\n",
    "if type(a) == int :\n",
    "    print(a)\n",
    "else :\n",
    "    raise TypeError('정수를 입력해주세요.')"
   ]
  },
  {
   "cell_type": "markdown",
   "id": "86c8871a-6294-4b05-a6b0-b9b20f7e34df",
   "metadata": {
    "jp-MarkdownHeadingCollapsed": true,
    "tags": []
   },
   "source": [
    "# 6. 실습 문제"
   ]
  },
  {
   "cell_type": "markdown",
   "id": "df6e329e-dd9a-402b-85fc-892ce5564d28",
   "metadata": {
    "jp-MarkdownHeadingCollapsed": true,
    "tags": []
   },
   "source": [
    "## 1번 - If, While, Try/Except\n",
    "두 개의 정수를 입력받아 첫 번째 숫자가 두 번째 정수로 나누어 떨어지는지 검사하는 프로그램을 작성하세요."
   ]
  },
  {
   "cell_type": "code",
   "execution_count": 31,
   "id": "6fdec1ce-8e2d-4c82-93b5-2726db22e1ad",
   "metadata": {},
   "outputs": [
    {
     "name": "stdin",
     "output_type": "stream",
     "text": [
      " 4 2\n"
     ]
    },
    {
     "name": "stdout",
     "output_type": "stream",
     "text": [
      "나누어 떨어지지 않습니다.\n",
      "\n"
     ]
    },
    {
     "name": "stdin",
     "output_type": "stream",
     "text": [
      " 4 6\n"
     ]
    },
    {
     "name": "stdout",
     "output_type": "stream",
     "text": [
      "나누어 떨어집니다.\n",
      "\n"
     ]
    },
    {
     "name": "stdin",
     "output_type": "stream",
     "text": [
      " \n"
     ]
    },
    {
     "name": "stdout",
     "output_type": "stream",
     "text": [
      "종료\n"
     ]
    }
   ],
   "source": [
    "while True :\n",
    "    try :\n",
    "        a, b = map(int,input().split())\n",
    "        if a % b :\n",
    "            print('나누어 떨어집니다.\\n')\n",
    "        else :\n",
    "            print('나누어 떨어지지 않습니다.\\n')\n",
    "    except :\n",
    "        print('종료')\n",
    "        break"
   ]
  },
  {
   "cell_type": "markdown",
   "id": "b4c8cfe5-b5e2-4f03-bfaa-735e55e236a9",
   "metadata": {
    "jp-MarkdownHeadingCollapsed": true,
    "tags": []
   },
   "source": [
    "## 2번 - If\n",
    "세 개의 정수를 입력받아 가장 작은 값을 찾는 프로그램을 작성하세요."
   ]
  },
  {
   "cell_type": "markdown",
   "id": "66a92226-3424-446b-b6ed-5090f1111435",
   "metadata": {},
   "source": [
    "### My Answer"
   ]
  },
  {
   "cell_type": "code",
   "execution_count": 1,
   "id": "47069020-3608-43a6-9d96-2e883ca957e0",
   "metadata": {},
   "outputs": [
    {
     "name": "stdin",
     "output_type": "stream",
     "text": [
      " 1 2 3\n"
     ]
    },
    {
     "data": {
      "text/plain": [
       "1"
      ]
     },
     "execution_count": 1,
     "metadata": {},
     "output_type": "execute_result"
    }
   ],
   "source": [
    "min(list(map(int,input().split())))"
   ]
  },
  {
   "cell_type": "markdown",
   "id": "f6d8551d-9ce9-427a-8466-163759750985",
   "metadata": {},
   "source": [
    "### Answer"
   ]
  },
  {
   "cell_type": "code",
   "execution_count": 2,
   "id": "2b844a7e-ea26-4ad7-ada3-eee6879a2399",
   "metadata": {},
   "outputs": [
    {
     "name": "stdin",
     "output_type": "stream",
     "text": [
      " 1 2 3\n"
     ]
    },
    {
     "name": "stdout",
     "output_type": "stream",
     "text": [
      "1\n"
     ]
    }
   ],
   "source": [
    "a, b, c = map(int, input().split())\n",
    "\n",
    "min_num = a\n",
    "if b < min_num : min_num = b\n",
    "if c < min_num : min_num = c\n",
    "print(min_num)"
   ]
  },
  {
   "cell_type": "markdown",
   "id": "3fb49994-8aab-4081-80fb-621ca4fe3ecf",
   "metadata": {
    "jp-MarkdownHeadingCollapsed": true,
    "tags": []
   },
   "source": [
    "## 3번 - If, For\n",
    "2부터 50사이의 모든 짝수를 출력하는 프로그램을 작성하세요."
   ]
  },
  {
   "cell_type": "code",
   "execution_count": 33,
   "id": "2a1fcc3d-1686-46c5-9c54-086127e906f0",
   "metadata": {},
   "outputs": [
    {
     "name": "stdout",
     "output_type": "stream",
     "text": [
      "[2, 4, 6, 8, 10, 12, 14, 16, 18, 20, 22, 24, 26, 28, 30, 32, 34, 36, 38, 40, 42, 44, 46, 48, 50]\n"
     ]
    }
   ],
   "source": [
    "print([i for i in range(2,51,2)])"
   ]
  },
  {
   "cell_type": "markdown",
   "id": "fffeb6ff-a409-46e2-95c3-3be38eaefaf2",
   "metadata": {
    "jp-MarkdownHeadingCollapsed": true,
    "tags": []
   },
   "source": [
    "## 4번 - If, For\n",
    "리스트 [ 11, 22, 23, 99, 81, 93, 35 ]에 저장된 원소들의 합을 구하는 프로그램을 작성하세요."
   ]
  },
  {
   "cell_type": "markdown",
   "id": "cb2d3232-b68c-4394-86a0-83d9c3de7a95",
   "metadata": {
    "jp-MarkdownHeadingCollapsed": true,
    "tags": []
   },
   "source": [
    "### My Answer"
   ]
  },
  {
   "cell_type": "code",
   "execution_count": 34,
   "id": "de03bc8f-7211-48e9-960f-a6b7c0ba96fc",
   "metadata": {},
   "outputs": [
    {
     "data": {
      "text/plain": [
       "364"
      ]
     },
     "execution_count": 34,
     "metadata": {},
     "output_type": "execute_result"
    }
   ],
   "source": [
    "sum([11,22,23,99,81,93,35])"
   ]
  },
  {
   "cell_type": "markdown",
   "id": "465fa1de-8320-4be4-a563-dc558f2d01fd",
   "metadata": {
    "jp-MarkdownHeadingCollapsed": true,
    "tags": []
   },
   "source": [
    "### Answer"
   ]
  },
  {
   "cell_type": "code",
   "execution_count": 4,
   "id": "8e695be3-76be-41df-ae52-3bb688c64ae0",
   "metadata": {},
   "outputs": [
    {
     "name": "stdout",
     "output_type": "stream",
     "text": [
      "364\n"
     ]
    }
   ],
   "source": [
    "num_sum = 0\n",
    "for i in [11,22,23,99,81,93,35] :\n",
    "    num_sum += i\n",
    "print(num_sum)"
   ]
  },
  {
   "cell_type": "markdown",
   "id": "6411c763-94a7-4726-a3a9-356dd5489125",
   "metadata": {
    "jp-MarkdownHeadingCollapsed": true,
    "tags": []
   },
   "source": [
    "## 5번 - If, For\n",
    "1부터 100까지의 숫자 중에서 3과 5의 공배수의 합을 찾는 프로그램을 작성하세요."
   ]
  },
  {
   "cell_type": "markdown",
   "id": "7345d9f0-899d-4cda-b782-b2484b43138a",
   "metadata": {},
   "source": [
    "### Answer 1"
   ]
  },
  {
   "cell_type": "code",
   "execution_count": 35,
   "id": "baf8d349-5dd0-4c26-be9e-f8a8da4ed35f",
   "metadata": {},
   "outputs": [
    {
     "data": {
      "text/plain": [
       "315"
      ]
     },
     "execution_count": 35,
     "metadata": {},
     "output_type": "execute_result"
    }
   ],
   "source": [
    "sum([i for i in range(1,101) if (i % 3 == 0) and (i % 5 == 0)])"
   ]
  },
  {
   "cell_type": "markdown",
   "id": "ec099ebb-2de0-4400-a2a4-136dbd8adc60",
   "metadata": {},
   "source": [
    "### Answer 2"
   ]
  },
  {
   "cell_type": "code",
   "execution_count": 36,
   "id": "7ec12b42-10c3-4ee8-b73b-533c0aa4221c",
   "metadata": {},
   "outputs": [
    {
     "data": {
      "text/plain": [
       "315"
      ]
     },
     "execution_count": 36,
     "metadata": {},
     "output_type": "execute_result"
    }
   ],
   "source": [
    "sum(set(range(3,101,3)) & set(range(5,101,5)))"
   ]
  },
  {
   "cell_type": "code",
   "execution_count": null,
   "id": "5dfb9713-65ce-4d32-869f-fbba93d25979",
   "metadata": {},
   "outputs": [],
   "source": []
  }
 ],
 "metadata": {
  "kernelspec": {
   "display_name": "Python 3 (ipykernel)",
   "language": "python",
   "name": "python3"
  },
  "language_info": {
   "codemirror_mode": {
    "name": "ipython",
    "version": 3
   },
   "file_extension": ".py",
   "mimetype": "text/x-python",
   "name": "python",
   "nbconvert_exporter": "python",
   "pygments_lexer": "ipython3",
   "version": "3.9.7"
  }
 },
 "nbformat": 4,
 "nbformat_minor": 5
}
