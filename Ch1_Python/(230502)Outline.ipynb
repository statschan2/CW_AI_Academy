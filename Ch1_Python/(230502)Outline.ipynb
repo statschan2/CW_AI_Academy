{
 "cells": [
  {
   "cell_type": "markdown",
   "id": "6e491b98",
   "metadata": {
    "tags": []
   },
   "source": [
    "# Chapter 1. Python 기초 - 개요\n",
    "\n",
    "* 교재 : 으뜸 파이썬(생능출판)\n",
    "* 출처 : https://www.booksr.co.kr/product/9788970503691/"
   ]
  },
  {
   "cell_type": "markdown",
   "id": "ce7f8f95-b381-4e4d-ae23-b117d5fea1e3",
   "metadata": {
    "jp-MarkdownHeadingCollapsed": true,
    "tags": []
   },
   "source": [
    "# 1. Python 기초"
   ]
  },
  {
   "cell_type": "code",
   "execution_count": 1,
   "id": "dcfbeb4b-94a4-427e-9685-93a8374da69d",
   "metadata": {},
   "outputs": [
    {
     "name": "stdout",
     "output_type": "stream",
     "text": [
      "Hello World!\n"
     ]
    }
   ],
   "source": [
    "print('Hello World!')"
   ]
  },
  {
   "cell_type": "code",
   "execution_count": 2,
   "id": "56023d4c-8f9b-40f6-b9a6-175ae8ba187f",
   "metadata": {},
   "outputs": [
    {
     "name": "stdout",
     "output_type": "stream",
     "text": [
      "Hello World!\n"
     ]
    }
   ],
   "source": [
    "print('Hello','World!')"
   ]
  },
  {
   "cell_type": "code",
   "execution_count": 3,
   "id": "2fdf7af1-12b3-4979-a535-a7696570b0c8",
   "metadata": {},
   "outputs": [
    {
     "name": "stdout",
     "output_type": "stream",
     "text": [
      "HelloWorld!\n"
     ]
    }
   ],
   "source": [
    "print('Hello'+'World!')"
   ]
  },
  {
   "cell_type": "code",
   "execution_count": 4,
   "id": "ffc44d24-7da5-4e75-9540-483c802900b5",
   "metadata": {},
   "outputs": [
    {
     "name": "stdout",
     "output_type": "stream",
     "text": [
      "Hello World!\n"
     ]
    }
   ],
   "source": [
    "print('Hello','World!')"
   ]
  },
  {
   "cell_type": "code",
   "execution_count": 5,
   "id": "807e6d97-2ddc-4b61-b877-2d61f24557dc",
   "metadata": {},
   "outputs": [
    {
     "name": "stdout",
     "output_type": "stream",
     "text": [
      "100\n"
     ]
    }
   ],
   "source": [
    "print(100)"
   ]
  },
  {
   "cell_type": "code",
   "execution_count": 6,
   "id": "655e2d5d-c182-454c-aef3-cb7080b7a0b1",
   "metadata": {},
   "outputs": [
    {
     "name": "stdout",
     "output_type": "stream",
     "text": [
      "6\n"
     ]
    }
   ],
   "source": [
    "print(2 + 4)"
   ]
  },
  {
   "cell_type": "markdown",
   "id": "6be1e072-5f3a-4ea5-b4a9-a2afbf0a0b01",
   "metadata": {},
   "source": [
    "## p.44"
   ]
  },
  {
   "cell_type": "markdown",
   "id": "69f632b1-3ddd-42cf-b666-3271c72a11fe",
   "metadata": {},
   "source": [
    "### 1.4"
   ]
  },
  {
   "cell_type": "code",
   "execution_count": 7,
   "id": "5353a3e7-9d5f-482a-8a25-1519ec38bb46",
   "metadata": {},
   "outputs": [
    {
     "name": "stdout",
     "output_type": "stream",
     "text": [
      "Hello Python!\n",
      "Hello Python!\n",
      "Hello Python!\n",
      "300\n"
     ]
    }
   ],
   "source": [
    "print('Hello Python!')\n",
    "print(\"Hello Python!\")\n",
    "print('Hello Python!')\n",
    "print(100 + 200)"
   ]
  },
  {
   "cell_type": "markdown",
   "id": "6c45f4b6-1dfc-4a22-bb8c-d9ae603fc689",
   "metadata": {},
   "source": [
    "### 1.6"
   ]
  },
  {
   "cell_type": "code",
   "execution_count": 8,
   "id": "49f4e83b-0bf4-4b85-a9ca-ad3fb7d7a487",
   "metadata": {},
   "outputs": [
    {
     "name": "stdout",
     "output_type": "stream",
     "text": [
      "************\n",
      "안녕하세요\n",
      "************\n"
     ]
    }
   ],
   "source": [
    "print('************')\n",
    "print('안녕하세요')\n",
    "print('************')"
   ]
  },
  {
   "cell_type": "code",
   "execution_count": 9,
   "id": "74c9f166-bd79-4065-aebe-86b2200a984d",
   "metadata": {},
   "outputs": [
    {
     "name": "stdout",
     "output_type": "stream",
     "text": [
      "**********\n",
      "안녕하세요\n",
      "**********\n"
     ]
    }
   ],
   "source": [
    "print('''**********\n",
    "안녕하세요\n",
    "**********''')"
   ]
  },
  {
   "cell_type": "markdown",
   "id": "67cd04dd-9f30-420c-b630-5c8533497976",
   "metadata": {},
   "source": [
    "### 1.11"
   ]
  },
  {
   "cell_type": "code",
   "execution_count": 10,
   "id": "deb612c8-6c16-46dc-a993-11ef94442812",
   "metadata": {},
   "outputs": [
    {
     "name": "stdout",
     "output_type": "stream",
     "text": [
      "120.0KM\n"
     ]
    }
   ],
   "source": [
    "print('{}KM'.format(80 * 1.5))"
   ]
  },
  {
   "cell_type": "markdown",
   "id": "c873c11d-8e73-4211-80ac-39a07ca6c97e",
   "metadata": {},
   "source": [
    "## p.107"
   ]
  },
  {
   "cell_type": "markdown",
   "id": "c5fe7a2b-9324-41c6-8d52-7da6eeb4568f",
   "metadata": {},
   "source": [
    "### 2.9"
   ]
  },
  {
   "cell_type": "code",
   "execution_count": 11,
   "id": "9924d706-67bc-4ea3-b0d1-7d04cf7d48d3",
   "metadata": {},
   "outputs": [
    {
     "name": "stdout",
     "output_type": "stream",
     "text": [
      " 섭씨\t 화씨\n",
      "    0\t 32.0\n",
      "   10\t 50.0\n",
      "   20\t 68.0\n",
      "   30\t 86.0\n",
      "   40\t104.0\n",
      "   50\t122.0\n"
     ]
    }
   ],
   "source": [
    "def f(c) :\n",
    "    return(9/5)*c+32\n",
    "\n",
    "print(' 섭씨\\t 화씨')\n",
    "for i in range(0,51,10) :\n",
    "    print('{:5}\\t{:5.1f}'.format(i,f(i)))"
   ]
  },
  {
   "cell_type": "markdown",
   "id": "8bda2f3a-b3fa-4af8-addc-1280496f95d5",
   "metadata": {},
   "source": [
    "### 2.10"
   ]
  },
  {
   "cell_type": "code",
   "execution_count": 12,
   "id": "72339db7-3e13-4e85-a4a4-f80e825c3484",
   "metadata": {},
   "outputs": [
    {
     "name": "stdout",
     "output_type": "stream",
     "text": [
      "섭씨온도를 입력하세요 :\n"
     ]
    },
    {
     "name": "stdin",
     "output_type": "stream",
     "text": [
      " 30\n"
     ]
    },
    {
     "name": "stdout",
     "output_type": "stream",
     "text": [
      "섭씨 30도는 화씨 86.0입니다.\n"
     ]
    }
   ],
   "source": [
    "print('섭씨온도를 입력하세요 :')\n",
    "n = int(input())\n",
    "print('섭씨 {}도는 화씨 {:.1f}입니다.'.format(n, f(n)))"
   ]
  },
  {
   "cell_type": "markdown",
   "id": "c4fe7cb5-4d3b-4e93-8c66-16aa22fc411b",
   "metadata": {
    "jp-MarkdownHeadingCollapsed": true,
    "tags": []
   },
   "source": [
    "# 2. 실습 문제"
   ]
  },
  {
   "cell_type": "markdown",
   "id": "11b7b92e-119b-4400-b9bc-91944a6ecffc",
   "metadata": {
    "tags": []
   },
   "source": [
    "## 1번\n",
    "두 값 a, b의 평균을 출력하는 프로그램을 작성하세요."
   ]
  },
  {
   "cell_type": "code",
   "execution_count": 13,
   "id": "bbde5d17-d0f6-4047-93fd-6ddb51630183",
   "metadata": {},
   "outputs": [
    {
     "name": "stdin",
     "output_type": "stream",
     "text": [
      " 3 5\n"
     ]
    },
    {
     "data": {
      "text/plain": [
       "4.0"
      ]
     },
     "execution_count": 13,
     "metadata": {},
     "output_type": "execute_result"
    }
   ],
   "source": [
    "a, b = map(int, input().split())\n",
    "(a + b)/2"
   ]
  },
  {
   "cell_type": "markdown",
   "id": "238353e2-6d28-4a49-a95a-7c0b40d7d994",
   "metadata": {
    "tags": []
   },
   "source": [
    "## 2번\n",
    "국적, 이름, 출생년도를 입력받아 국적, 이름, 나이를 출력하는 프로그램을 작성하세요.\n",
    "(ex) 저는 대한민국에서 온 OOO이고, OO살입니다."
   ]
  },
  {
   "cell_type": "code",
   "execution_count": 14,
   "id": "ec71085c-3b72-47ae-98d0-09f75d102ea3",
   "metadata": {},
   "outputs": [
    {
     "name": "stdout",
     "output_type": "stream",
     "text": [
      "국적을 입력하시오 :\n"
     ]
    },
    {
     "name": "stdin",
     "output_type": "stream",
     "text": [
      " 대한민국\n"
     ]
    },
    {
     "name": "stdout",
     "output_type": "stream",
     "text": [
      "이름을 입력하시오 :\n"
     ]
    },
    {
     "name": "stdin",
     "output_type": "stream",
     "text": [
      " 이찬\n"
     ]
    },
    {
     "name": "stdout",
     "output_type": "stream",
     "text": [
      "출생년도를 입력하시오 :\n"
     ]
    },
    {
     "name": "stdin",
     "output_type": "stream",
     "text": [
      " 1995\n"
     ]
    },
    {
     "name": "stdout",
     "output_type": "stream",
     "text": [
      "\n",
      "저는 대한민국에서 온 이찬이고, 29살입니다.\n"
     ]
    }
   ],
   "source": [
    "print('국적을 입력하시오 :')\n",
    "c = input()\n",
    "print('이름을 입력하시오 :')\n",
    "n = input()\n",
    "print('출생년도를 입력하시오 :')\n",
    "b = int(input())\n",
    "\n",
    "from datetime import datetime\n",
    "\n",
    "print('\\n저는 {}에서 온 {}이고, {}살입니다.'.format(c,n,datetime.today().year-b+1))"
   ]
  },
  {
   "cell_type": "markdown",
   "id": "925b44da-c70e-4cd3-ba7a-227c97160bd4",
   "metadata": {
    "tags": []
   },
   "source": [
    "## 3번\n",
    "원의 반지름을 입력받아 원의 면적을 구하는 프로그램을 작성하세요."
   ]
  },
  {
   "cell_type": "code",
   "execution_count": 15,
   "id": "760b4bc9-e184-417e-ae7b-52f81cf432e7",
   "metadata": {},
   "outputs": [
    {
     "name": "stdin",
     "output_type": "stream",
     "text": [
      " 3\n"
     ]
    },
    {
     "data": {
      "text/plain": [
       "28.274333882308138"
      ]
     },
     "execution_count": 15,
     "metadata": {},
     "output_type": "execute_result"
    }
   ],
   "source": [
    "r = int(input())\n",
    "\n",
    "import math\n",
    "math.pi*(r**2)"
   ]
  },
  {
   "cell_type": "code",
   "execution_count": null,
   "id": "1520e4ec-3a0a-4ddf-a187-518679a27292",
   "metadata": {},
   "outputs": [],
   "source": []
  }
 ],
 "metadata": {
  "kernelspec": {
   "display_name": "Python 3 (ipykernel)",
   "language": "python",
   "name": "python3"
  },
  "language_info": {
   "codemirror_mode": {
    "name": "ipython",
    "version": 3
   },
   "file_extension": ".py",
   "mimetype": "text/x-python",
   "name": "python",
   "nbconvert_exporter": "python",
   "pygments_lexer": "ipython3",
   "version": "3.9.7"
  }
 },
 "nbformat": 4,
 "nbformat_minor": 5
}
