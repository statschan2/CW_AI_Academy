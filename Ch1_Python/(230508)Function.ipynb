{
 "cells": [
  {
   "cell_type": "markdown",
   "id": "a25cef2e-390b-470f-8050-407db4ccce2c",
   "metadata": {},
   "source": [
    "# Chapter 1. Python 기초 - 함수\n",
    "* 교재 : 으뜸 파이썬(생능출판)\n",
    "* 출처 : https://www.booksr.co.kr/product/9788970503691/"
   ]
  },
  {
   "cell_type": "markdown",
   "id": "32e326ee-8945-4a33-897a-3f5aa920a7d5",
   "metadata": {
    "jp-MarkdownHeadingCollapsed": true,
    "tags": []
   },
   "source": [
    "# 1. 복습 문제"
   ]
  },
  {
   "cell_type": "markdown",
   "id": "6fdf8d40-ddb7-4cad-a78b-eeae7f6dac3b",
   "metadata": {
    "jp-MarkdownHeadingCollapsed": true,
    "tags": []
   },
   "source": [
    "## 1번 - List\n",
    "두 개의 리스트에 공통적으로 포함된 요소들을 출력하는 프로그램을 작성하세요."
   ]
  },
  {
   "cell_type": "code",
   "execution_count": 1,
   "id": "8b8ddbe3-bdb8-4e00-90c4-c855b8c060ff",
   "metadata": {},
   "outputs": [],
   "source": [
    "list01 = [1,2,3,4,5]\n",
    "list02 = [3,4,5,6,7]"
   ]
  },
  {
   "cell_type": "markdown",
   "id": "ec2488f4-abd7-4e65-9dd4-0e021206fd89",
   "metadata": {},
   "source": [
    "### My Answer"
   ]
  },
  {
   "cell_type": "code",
   "execution_count": 3,
   "id": "8fe57173-4505-4ae3-a45f-d166526d4c15",
   "metadata": {},
   "outputs": [
    {
     "data": {
      "text/plain": [
       "[3, 4, 5]"
      ]
     },
     "execution_count": 3,
     "metadata": {},
     "output_type": "execute_result"
    }
   ],
   "source": [
    "list(set(list01) & set(list02))"
   ]
  },
  {
   "cell_type": "markdown",
   "id": "9e0bd483-1672-423f-b6fc-0df0164a9055",
   "metadata": {},
   "source": [
    "### Answer"
   ]
  },
  {
   "cell_type": "code",
   "execution_count": 4,
   "id": "a6ca53c5-8aa5-4839-a919-653d99d64465",
   "metadata": {},
   "outputs": [
    {
     "data": {
      "text/plain": [
       "[3, 4, 5]"
      ]
     },
     "execution_count": 4,
     "metadata": {},
     "output_type": "execute_result"
    }
   ],
   "source": [
    "[i for i in list01 if i in list02]"
   ]
  },
  {
   "cell_type": "markdown",
   "id": "c0c71711-5213-42f8-98e5-9052fdbce635",
   "metadata": {
    "jp-MarkdownHeadingCollapsed": true,
    "tags": []
   },
   "source": [
    "## 2번 - List\n",
    "문자열에서 문자 'o'의 개수를 찾는 프로그램을 작성하세요."
   ]
  },
  {
   "cell_type": "code",
   "execution_count": 5,
   "id": "1ba9806d-4208-4da8-a88b-a2542aa7c8cc",
   "metadata": {},
   "outputs": [],
   "source": [
    "text = 'Hello, Python!'"
   ]
  },
  {
   "cell_type": "code",
   "execution_count": 6,
   "id": "7246ac12-9683-4c29-9dc4-935291d3ff40",
   "metadata": {},
   "outputs": [
    {
     "data": {
      "text/plain": [
       "2"
      ]
     },
     "execution_count": 6,
     "metadata": {},
     "output_type": "execute_result"
    }
   ],
   "source": [
    "list(text).count('o')"
   ]
  },
  {
   "cell_type": "markdown",
   "id": "b28c85c3-fe2f-4b87-929a-9ce98d31382d",
   "metadata": {
    "jp-MarkdownHeadingCollapsed": true,
    "tags": []
   },
   "source": [
    "## 3번 - List, Tuple\n",
    "다음과 같이 리스트에 모든 직원들의 정보를 튜플 형식으로 저장했습니다.  \n",
    "직원 중 나이가 30세 이상인 여성들의 이름을 출력하는 프로그램을 작성하세요."
   ]
  },
  {
   "cell_type": "code",
   "execution_count": 7,
   "id": "bfb45838-72b8-4eec-b6dd-d8bf727d8d53",
   "metadata": {},
   "outputs": [],
   "source": [
    "e = [('Alice',27,'F'),('Bob',33,'M'),('Charlie',40,'M'),('Dave',29,'M'),('Eve',35,'F')]"
   ]
  },
  {
   "cell_type": "markdown",
   "id": "abb08d53-29de-493b-a646-bfa91b9d4cb6",
   "metadata": {},
   "source": [
    "### My Answer"
   ]
  },
  {
   "cell_type": "code",
   "execution_count": 8,
   "id": "c3dcd388-af3c-4821-a563-292656c2ab31",
   "metadata": {},
   "outputs": [
    {
     "data": {
      "text/plain": [
       "['Eve']"
      ]
     },
     "execution_count": 8,
     "metadata": {},
     "output_type": "execute_result"
    }
   ],
   "source": [
    "[e[i][0] for i in range(len(e)) if (e[i][1] > 30) and e[i][2] == 'F']"
   ]
  },
  {
   "cell_type": "markdown",
   "id": "964cd576-9e00-4cb5-985c-c50399115499",
   "metadata": {},
   "source": [
    "### Answer"
   ]
  },
  {
   "cell_type": "code",
   "execution_count": 10,
   "id": "80900fb2-2d0c-46de-b078-b9be7ed8fd39",
   "metadata": {},
   "outputs": [
    {
     "data": {
      "text/plain": [
       "['Eve']"
      ]
     },
     "execution_count": 10,
     "metadata": {},
     "output_type": "execute_result"
    }
   ],
   "source": [
    "[i[0] for i in e if (i[1] > 30) and (i[2] == 'F')]"
   ]
  },
  {
   "cell_type": "markdown",
   "id": "308c5307-8cab-4af7-ba29-17316372c6b8",
   "metadata": {
    "jp-MarkdownHeadingCollapsed": true,
    "tags": []
   },
   "source": [
    "## 4번 - Dict, If\n",
    "다음과 같이 학생들의 시험 점수를 저장한 딕셔너리가 있습니다.  \n",
    "학생의 이름과 학점을 출력하는 프로그램을 작성하세요.  \n",
    "(90점 이상이면 'A', 80점 이상이면 'B', 70점 이상이면 'C', 그 외는 'F')"
   ]
  },
  {
   "cell_type": "code",
   "execution_count": 11,
   "id": "779f41cf-41a7-424d-a855-406e14731dd3",
   "metadata": {},
   "outputs": [],
   "source": [
    "scores = {'Alice' : 92, 'Bob' : 85, 'Charlie' : 78}"
   ]
  },
  {
   "cell_type": "code",
   "execution_count": 12,
   "id": "40221ec5-a46b-4d27-bb2d-6bbcabc9ac06",
   "metadata": {},
   "outputs": [
    {
     "name": "stdout",
     "output_type": "stream",
     "text": [
      "Alice A\n",
      "Bob B\n",
      "Charlie C\n"
     ]
    }
   ],
   "source": [
    "for name, score in scores.items() :\n",
    "    grade = ''\n",
    "    \n",
    "    if score >= 90 :\n",
    "        grade = 'A'\n",
    "    elif score >= 80 :\n",
    "        grade = 'B'\n",
    "    elif score >= 70 :\n",
    "        grade = 'C'\n",
    "    else :\n",
    "        grade = 'F'\n",
    "        \n",
    "    print(name, grade)"
   ]
  },
  {
   "cell_type": "markdown",
   "id": "b0450fff-e586-46ca-a9dc-904bca79a187",
   "metadata": {
    "jp-MarkdownHeadingCollapsed": true,
    "tags": []
   },
   "source": [
    "# 2. 함수\n",
    "\n",
    "def function(a, b) : # a, b : 매개변수  \n",
    ">code 1  \n",
    "code 2  \n",
    "return result # result : 반환값  \n",
    "    \n",
    "function(10, 20) # function() : 함수 호출"
   ]
  },
  {
   "cell_type": "markdown",
   "id": "e03ae6ab-61c3-417c-806d-5ca041e4676d",
   "metadata": {
    "jp-MarkdownHeadingCollapsed": true,
    "tags": []
   },
   "source": [
    "## p.207"
   ]
  },
  {
   "cell_type": "markdown",
   "id": "cb807247-df73-48c8-8727-dd1c67c265fb",
   "metadata": {
    "jp-MarkdownHeadingCollapsed": true,
    "tags": []
   },
   "source": [
    "### LAB 4-5 - 2번"
   ]
  },
  {
   "cell_type": "code",
   "execution_count": 13,
   "id": "e76cb010-2283-4cd1-a4b1-7a0e03000cb4",
   "metadata": {},
   "outputs": [],
   "source": [
    "def print_mult(a, b) :\n",
    "    print('{}과 {}의 곱은 {}입니다.'.format(a, b, a * b))"
   ]
  },
  {
   "cell_type": "code",
   "execution_count": 14,
   "id": "9bd7ef91-f84f-4b2f-b1a8-35b93db534e8",
   "metadata": {},
   "outputs": [
    {
     "name": "stdout",
     "output_type": "stream",
     "text": [
      "10과 20의 곱은 200입니다.\n"
     ]
    }
   ],
   "source": [
    "print_mult(10, 20)"
   ]
  },
  {
   "cell_type": "markdown",
   "id": "6752dba3-b853-4034-bc4f-292660bf7687",
   "metadata": {
    "jp-MarkdownHeadingCollapsed": true,
    "tags": []
   },
   "source": [
    "## p.211"
   ]
  },
  {
   "cell_type": "markdown",
   "id": "5b29e966-7762-47be-bebf-976c42b6ac24",
   "metadata": {
    "jp-MarkdownHeadingCollapsed": true,
    "tags": []
   },
   "source": [
    "### LAB 4-6 - 2번"
   ]
  },
  {
   "cell_type": "code",
   "execution_count": 15,
   "id": "a4be5231-db02-40c2-a921-fd577d077e44",
   "metadata": {},
   "outputs": [],
   "source": [
    "def print_area(weight, height) :\n",
    "    return (weight * height) / 2"
   ]
  },
  {
   "cell_type": "markdown",
   "id": "1fd93a79-8dc2-4a4f-95ed-93e3e61a31c3",
   "metadata": {},
   "source": [
    "#### 값 출력"
   ]
  },
  {
   "cell_type": "code",
   "execution_count": 16,
   "id": "f317123b-ce55-488e-83e2-de691f577039",
   "metadata": {},
   "outputs": [
    {
     "name": "stdout",
     "output_type": "stream",
     "text": [
      "밑변 10, 높이 20인 삼각형의 면적은 : 100\n"
     ]
    }
   ],
   "source": [
    "w = 10; h = 20\n",
    "print('밑변 {}, 높이 {}인 삼각형의 면적은 : {:.0f}'.format(w, h, print_area(w, h)))"
   ]
  },
  {
   "cell_type": "markdown",
   "id": "8c771361-e13b-4e59-9093-08b2e2f1031c",
   "metadata": {},
   "source": [
    "#### 값 반환"
   ]
  },
  {
   "cell_type": "code",
   "execution_count": 17,
   "id": "b5769ef6-f4d9-4e2e-8888-df2fd3af1b86",
   "metadata": {},
   "outputs": [
    {
     "name": "stdout",
     "output_type": "stream",
     "text": [
      "밑변 10, 높이 20인 삼각형의 면적은 : 100\n"
     ]
    }
   ],
   "source": [
    "w = 10; h = 20\n",
    "t_area = print_area(w,h)\n",
    "print('밑변 {}, 높이 {}인 삼각형의 면적은 : {:.0f}'.format(w, h, t_area))"
   ]
  },
  {
   "cell_type": "markdown",
   "id": "21dcbd59-23b7-42d9-93d9-b875493651af",
   "metadata": {
    "jp-MarkdownHeadingCollapsed": true,
    "tags": []
   },
   "source": [
    "## p.214"
   ]
  },
  {
   "cell_type": "markdown",
   "id": "e7641660-352f-48c9-b9c1-d8eeb211eef2",
   "metadata": {
    "jp-MarkdownHeadingCollapsed": true,
    "tags": []
   },
   "source": [
    "### LAB 4-7"
   ]
  },
  {
   "cell_type": "code",
   "execution_count": 18,
   "id": "5d125e21-9a28-48f7-aa1b-2c1cc0200ddc",
   "metadata": {},
   "outputs": [],
   "source": [
    "def circle_area_circum(r) :\n",
    "    import math\n",
    "    return math.pi*(r**2), 2*math.pi*r"
   ]
  },
  {
   "cell_type": "markdown",
   "id": "a891b80d-2544-4d29-b7e1-b25509faf459",
   "metadata": {},
   "source": [
    "#### Answer 1"
   ]
  },
  {
   "cell_type": "code",
   "execution_count": 19,
   "id": "7778710f-91fc-461c-9ca3-d6fd092f91d4",
   "metadata": {},
   "outputs": [
    {
     "name": "stdout",
     "output_type": "stream",
     "text": [
      "반지름 10인 원의 면적은 : 314.16, 둘레는 : 62.83입니다.\n"
     ]
    }
   ],
   "source": [
    "r = 10\n",
    "s, l = circle_area_circum(r)\n",
    "print('반지름 {}인 원의 면적은 : {:.2f}, 둘레는 : {:.2f}입니다.'.format(r,s,l))"
   ]
  },
  {
   "cell_type": "markdown",
   "id": "3e31b7da-3948-4df8-ba63-ff28972bf11a",
   "metadata": {},
   "source": [
    "#### Answer 2"
   ]
  },
  {
   "cell_type": "code",
   "execution_count": 20,
   "id": "90803343-3e11-4305-a489-815e07eed796",
   "metadata": {},
   "outputs": [
    {
     "name": "stdout",
     "output_type": "stream",
     "text": [
      "반지름 10인 원의 면적은 : 314.16, 둘레는 : 62.83입니다.\n"
     ]
    }
   ],
   "source": [
    "print('반지름 {}인 원의 면적은 : {:.2f}, 둘레는 : {:.2f}입니다.'.format(10,circle_area_circum(r)[0],circle_area_circum(r)[1]))"
   ]
  },
  {
   "cell_type": "markdown",
   "id": "00004357-bbed-4aa0-b0b8-60887a40c441",
   "metadata": {
    "jp-MarkdownHeadingCollapsed": true,
    "tags": []
   },
   "source": [
    "## p.222"
   ]
  },
  {
   "cell_type": "markdown",
   "id": "582360fd-27c8-408f-b70d-b89ea2759dbe",
   "metadata": {
    "jp-MarkdownHeadingCollapsed": true,
    "tags": []
   },
   "source": [
    "### 4-20"
   ]
  },
  {
   "cell_type": "code",
   "execution_count": 21,
   "id": "980819ac-239e-4039-8f07-0d88c90e5895",
   "metadata": {},
   "outputs": [],
   "source": [
    "def div(a, b = 2) :\n",
    "    return a / b"
   ]
  },
  {
   "cell_type": "code",
   "execution_count": 22,
   "id": "d83cce17-a488-464a-814d-cdb1b5f8f156",
   "metadata": {},
   "outputs": [
    {
     "name": "stdout",
     "output_type": "stream",
     "text": [
      "div(4) = 2.0\n",
      "div(6, 3) = 2.0\n"
     ]
    }
   ],
   "source": [
    "print('div(4) = {}'.format(div(4)))\n",
    "print('div(6, 3) = {}'.format(div(6, 3)))"
   ]
  },
  {
   "cell_type": "markdown",
   "id": "504eccd3-a90e-41c2-a6f1-e6ff202b39b4",
   "metadata": {
    "jp-MarkdownHeadingCollapsed": true,
    "tags": []
   },
   "source": [
    "## p.233"
   ]
  },
  {
   "cell_type": "markdown",
   "id": "da3774b4-7ebb-4fc6-93bd-7d7d333af3b3",
   "metadata": {
    "jp-MarkdownHeadingCollapsed": true,
    "tags": []
   },
   "source": [
    "### LAB 4-10 - 1번"
   ]
  },
  {
   "cell_type": "code",
   "execution_count": 23,
   "id": "ad80ac8a-8e69-4b36-b833-9ca69b285199",
   "metadata": {},
   "outputs": [],
   "source": [
    "def sum_nums(*nums) :\n",
    "    return sum(nums), sum(nums) / len(nums)"
   ]
  },
  {
   "cell_type": "code",
   "execution_count": 24,
   "id": "5d02a581-4d38-4a52-84c9-ed17015805a3",
   "metadata": {},
   "outputs": [
    {
     "name": "stdout",
     "output_type": "stream",
     "text": [
      "합계 : 60, 평균 : 20.0\n"
     ]
    }
   ],
   "source": [
    "# 3개의 인자\n",
    "n_sum, n_avg = sum_nums(10,20,30)\n",
    "print('합계 : {}, 평균 : {}'.format(n_sum, n_avg))"
   ]
  },
  {
   "cell_type": "code",
   "execution_count": 25,
   "id": "a3edb4fd-ec5d-4158-8919-41dccd4fee94",
   "metadata": {},
   "outputs": [
    {
     "name": "stdout",
     "output_type": "stream",
     "text": [
      "합계 : 150, 평균 : 30.0\n"
     ]
    }
   ],
   "source": [
    "# 5개의 인자\n",
    "n_sum, n_avg = sum_nums(10,20,30,40,50)\n",
    "print('합계 : {}, 평균 : {}'.format(n_sum, n_avg))"
   ]
  },
  {
   "cell_type": "markdown",
   "id": "074a0043-0616-4d44-ad70-9193aab1f2f9",
   "metadata": {},
   "source": [
    "### LAB 4-10 - 2번"
   ]
  },
  {
   "cell_type": "code",
   "execution_count": 26,
   "id": "82a3f399-89ec-4edc-81fe-66e5678ad5b2",
   "metadata": {},
   "outputs": [],
   "source": [
    "def min_nums(*nums) :\n",
    "    return min(nums)"
   ]
  },
  {
   "cell_type": "code",
   "execution_count": 27,
   "id": "aa408b12-f6e7-4056-b9f6-bbf048f02721",
   "metadata": {},
   "outputs": [
    {
     "name": "stdout",
     "output_type": "stream",
     "text": [
      "최솟값은 10\n"
     ]
    }
   ],
   "source": [
    "print('최솟값은 {}'.format(min_nums(10,20,30,40,50)))"
   ]
  },
  {
   "cell_type": "markdown",
   "id": "8b4fbf98-c831-4894-8d4a-0b2c4c46ac3d",
   "metadata": {
    "jp-MarkdownHeadingCollapsed": true,
    "tags": []
   },
   "source": [
    "## p.260"
   ]
  },
  {
   "cell_type": "markdown",
   "id": "a918d66b-1456-4468-933f-76debcb1ed03",
   "metadata": {
    "jp-MarkdownHeadingCollapsed": true,
    "tags": []
   },
   "source": [
    "### 4.3"
   ]
  },
  {
   "cell_type": "code",
   "execution_count": 28,
   "id": "3eedbc95-c6e9-4e3b-9760-f1636521d419",
   "metadata": {},
   "outputs": [],
   "source": [
    "def max2(n, m) :\n",
    "    return n if n > m else m\n",
    "\n",
    "def min2(n, m) :\n",
    "    return n if n < m else m"
   ]
  },
  {
   "cell_type": "code",
   "execution_count": 29,
   "id": "8e72217d-68a7-49cf-83df-d84700144e26",
   "metadata": {},
   "outputs": [
    {
     "name": "stdin",
     "output_type": "stream",
     "text": [
      " 100 200\n"
     ]
    },
    {
     "name": "stdout",
     "output_type": "stream",
     "text": [
      "100과 200 중 큰 수는 : 200\n",
      "100과 200 중 작은 수는 : 100\n"
     ]
    }
   ],
   "source": [
    "n, m = map(int, input().split())\n",
    "print('{}과 {} 중 큰 수는 : {}'.format(n, m, max2(n, m)))\n",
    "print('{}과 {} 중 작은 수는 : {}'.format(n, m, min2(n, m)))"
   ]
  },
  {
   "cell_type": "markdown",
   "id": "8c30c31c-b1c9-44c1-8f53-9622bb27628e",
   "metadata": {
    "jp-MarkdownHeadingCollapsed": true,
    "tags": []
   },
   "source": [
    "## p.262"
   ]
  },
  {
   "cell_type": "markdown",
   "id": "ada0a2ff-8c91-439b-a9e4-6f0ce9e4d89d",
   "metadata": {
    "jp-MarkdownHeadingCollapsed": true,
    "tags": []
   },
   "source": [
    "### 4.7"
   ]
  },
  {
   "cell_type": "code",
   "execution_count": 30,
   "id": "5cf9bfb1-8647-4153-960e-a25421ad707b",
   "metadata": {},
   "outputs": [],
   "source": [
    "def mean3(a, b, c) :\n",
    "    import numpy as np\n",
    "    return np.mean([a, b, c])\n",
    "\n",
    "def max3(a, b, c) :\n",
    "    return max(a, b, c)\n",
    "            \n",
    "def min3(a, b, c) :\n",
    "    return min(a, b, c)"
   ]
  },
  {
   "cell_type": "code",
   "execution_count": 31,
   "id": "e562b55c-8246-4dde-a524-f2b01e612b15",
   "metadata": {},
   "outputs": [
    {
     "name": "stdin",
     "output_type": "stream",
     "text": [
      "세 수를 입력하시오 :  10 30 20\n"
     ]
    },
    {
     "name": "stdout",
     "output_type": "stream",
     "text": [
      "10, 30, 20의 평균값은 : 20.0\n",
      "10, 30, 20의 최댓값은 : 30\n",
      "10, 30, 20의 최솟값은 : 10\n"
     ]
    }
   ],
   "source": [
    "a, b, c = map(int, input('세 수를 입력하시오 : ').split())\n",
    "\n",
    "print('{}, {}, {}의 평균값은 : {}'.format(a, b, c, mean3(a, b, c)))\n",
    "print('{}, {}, {}의 최댓값은 : {}'.format(a, b, c, max3(a, b, c)))\n",
    "print('{}, {}, {}의 최솟값은 : {}'.format(a, b, c, min3(a, b, c)))"
   ]
  },
  {
   "cell_type": "markdown",
   "id": "ca1f9220-126a-481a-b371-d87a1113eea9",
   "metadata": {
    "jp-MarkdownHeadingCollapsed": true,
    "tags": []
   },
   "source": [
    "## p.269"
   ]
  },
  {
   "cell_type": "markdown",
   "id": "f4bf65c8-7ece-414c-b239-68f32f4556d0",
   "metadata": {
    "jp-MarkdownHeadingCollapsed": true,
    "tags": []
   },
   "source": [
    "### 4.23"
   ]
  },
  {
   "cell_type": "code",
   "execution_count": 32,
   "id": "b120064e-7c67-4fcb-b16d-bbb08a0532ae",
   "metadata": {},
   "outputs": [],
   "source": [
    "def area_and_circumference(r) :\n",
    "    import math\n",
    "    return math.pi*(r**2), 2*math.pi*r"
   ]
  },
  {
   "cell_type": "code",
   "execution_count": 33,
   "id": "688f6aac-3cc9-4008-85c0-35daf0d8d214",
   "metadata": {},
   "outputs": [
    {
     "name": "stdin",
     "output_type": "stream",
     "text": [
      "반지름을 입력하시오 :  6\n"
     ]
    },
    {
     "name": "stdout",
     "output_type": "stream",
     "text": [
      "넓이 : 113.097, 둘레 : 37.699\n",
      "\n"
     ]
    },
    {
     "name": "stdin",
     "output_type": "stream",
     "text": [
      "반지름을 입력하시오 :  22\n"
     ]
    },
    {
     "name": "stdout",
     "output_type": "stream",
     "text": [
      "넓이 : 1520.531, 둘레 : 138.230\n",
      "\n"
     ]
    },
    {
     "name": "stdin",
     "output_type": "stream",
     "text": [
      "반지름을 입력하시오 :  4\n"
     ]
    },
    {
     "name": "stdout",
     "output_type": "stream",
     "text": [
      "넓이 : 50.265, 둘레 : 25.133\n",
      "\n"
     ]
    },
    {
     "name": "stdin",
     "output_type": "stream",
     "text": [
      "반지름을 입력하시오 :  -1\n"
     ]
    },
    {
     "name": "stdout",
     "output_type": "stream",
     "text": [
      "프로그램을 종료하겠습니다.\n"
     ]
    }
   ],
   "source": [
    "while True :\n",
    "    r = int(input('반지름을 입력하시오 : '))\n",
    "    \n",
    "    if r == -1 :\n",
    "        print('프로그램을 종료하겠습니다.')\n",
    "        break\n",
    "    s, l = area_and_circumference(r)\n",
    "    print('넓이 : {:.3f}, 둘레 : {:.3f}\\n'.format(s, l))"
   ]
  },
  {
   "cell_type": "markdown",
   "id": "613ff656-2b45-4bdb-82d0-081982de5801",
   "metadata": {
    "jp-MarkdownHeadingCollapsed": true,
    "tags": []
   },
   "source": [
    "# 3. 실습 문제"
   ]
  },
  {
   "cell_type": "markdown",
   "id": "73a81d59-d55b-4dfd-9d27-9a29247e1267",
   "metadata": {
    "jp-MarkdownHeadingCollapsed": true,
    "tags": []
   },
   "source": [
    "## 2번 - def\n",
    "2부터 9까지의 수 중 하나를 입력받아 해당 숫자의 구구단을 출력하는 프로그램을 작성하세요.  \n",
    "이 프로그램은 무한 반복하여 사용자가 종료하기 전까지 계속해서 구구단을 출력합니다.  "
   ]
  },
  {
   "cell_type": "markdown",
   "id": "2d18c1c7-86b6-4c53-95d7-a9b307236af8",
   "metadata": {
    "jp-MarkdownHeadingCollapsed": true,
    "tags": []
   },
   "source": [
    "### 함수 활용 X"
   ]
  },
  {
   "cell_type": "code",
   "execution_count": 34,
   "id": "1737b62c-a6d4-4dfa-908f-66033b4b5312",
   "metadata": {},
   "outputs": [
    {
     "name": "stdin",
     "output_type": "stream",
     "text": [
      "\n",
      "단을 입력하시오 :  23\n"
     ]
    },
    {
     "name": "stdout",
     "output_type": "stream",
     "text": [
      "23 X 1 = 23\n",
      "23 X 2 = 46\n",
      "23 X 3 = 69\n",
      "23 X 4 = 92\n",
      "23 X 5 = 115\n",
      "23 X 6 = 138\n",
      "23 X 7 = 161\n",
      "23 X 8 = 184\n",
      "23 X 9 = 207\n"
     ]
    },
    {
     "name": "stdin",
     "output_type": "stream",
     "text": [
      "\n",
      "단을 입력하시오 :  2\n"
     ]
    },
    {
     "name": "stdout",
     "output_type": "stream",
     "text": [
      "2 X 1 = 2\n",
      "2 X 2 = 4\n",
      "2 X 3 = 6\n",
      "2 X 4 = 8\n",
      "2 X 5 = 10\n",
      "2 X 6 = 12\n",
      "2 X 7 = 14\n",
      "2 X 8 = 16\n",
      "2 X 9 = 18\n"
     ]
    },
    {
     "name": "stdin",
     "output_type": "stream",
     "text": [
      "\n",
      "단을 입력하시오 :  \n"
     ]
    },
    {
     "name": "stdout",
     "output_type": "stream",
     "text": [
      "프로그램을 종료합니다.\n"
     ]
    }
   ],
   "source": [
    "while True :\n",
    "    try :\n",
    "        n = int(input('\\n단을 입력하시오 : '))\n",
    "        for i in range(1,10) :\n",
    "            print('{} X {} = {}'.format(n, i, n*i))\n",
    "    except :\n",
    "        print('프로그램을 종료합니다.')\n",
    "        break"
   ]
  },
  {
   "cell_type": "markdown",
   "id": "e6d3a307-9d92-4817-9984-ff52df085431",
   "metadata": {
    "jp-MarkdownHeadingCollapsed": true,
    "tags": []
   },
   "source": [
    "### 함수 활용 O"
   ]
  },
  {
   "cell_type": "code",
   "execution_count": 35,
   "id": "fb13fceb-e97f-4976-b05e-af669444ac59",
   "metadata": {},
   "outputs": [],
   "source": [
    "def gugudan(num) :\n",
    "    for i in range(1,10) :\n",
    "        print('{} X {} = {:2}'.format(n, i, n*i))"
   ]
  },
  {
   "cell_type": "code",
   "execution_count": 37,
   "id": "6f11ec06-3b4d-4cca-9838-6e0c0a2f3208",
   "metadata": {},
   "outputs": [
    {
     "name": "stdin",
     "output_type": "stream",
     "text": [
      "\n",
      "단을 입력하시오 :  4\n"
     ]
    },
    {
     "name": "stdout",
     "output_type": "stream",
     "text": [
      "4 X 1 =  4\n",
      "4 X 2 =  8\n",
      "4 X 3 = 12\n",
      "4 X 4 = 16\n",
      "4 X 5 = 20\n",
      "4 X 6 = 24\n",
      "4 X 7 = 28\n",
      "4 X 8 = 32\n",
      "4 X 9 = 36\n"
     ]
    },
    {
     "name": "stdin",
     "output_type": "stream",
     "text": [
      "\n",
      "단을 입력하시오 :  2\n"
     ]
    },
    {
     "name": "stdout",
     "output_type": "stream",
     "text": [
      "2 X 1 =  2\n",
      "2 X 2 =  4\n",
      "2 X 3 =  6\n",
      "2 X 4 =  8\n",
      "2 X 5 = 10\n",
      "2 X 6 = 12\n",
      "2 X 7 = 14\n",
      "2 X 8 = 16\n",
      "2 X 9 = 18\n"
     ]
    },
    {
     "name": "stdin",
     "output_type": "stream",
     "text": [
      "\n",
      "단을 입력하시오 :  1\n"
     ]
    },
    {
     "name": "stdout",
     "output_type": "stream",
     "text": [
      "프로그램을 종료합니다.\n"
     ]
    }
   ],
   "source": [
    "while True :\n",
    "    n = int(input('\\n단을 입력하시오 : '))\n",
    "    \n",
    "    if n >= 2 and n <= 9 :\n",
    "        gugudan(n)        \n",
    "    else :\n",
    "        print('프로그램을 종료합니다.')\n",
    "        break"
   ]
  },
  {
   "cell_type": "code",
   "execution_count": null,
   "id": "c2c4630c-7fa4-4dd1-9df1-2d1d36f1d4b0",
   "metadata": {},
   "outputs": [],
   "source": []
  }
 ],
 "metadata": {
  "kernelspec": {
   "display_name": "Python 3 (ipykernel)",
   "language": "python",
   "name": "python3"
  },
  "language_info": {
   "codemirror_mode": {
    "name": "ipython",
    "version": 3
   },
   "file_extension": ".py",
   "mimetype": "text/x-python",
   "name": "python",
   "nbconvert_exporter": "python",
   "pygments_lexer": "ipython3",
   "version": "3.9.7"
  }
 },
 "nbformat": 4,
 "nbformat_minor": 5
}
