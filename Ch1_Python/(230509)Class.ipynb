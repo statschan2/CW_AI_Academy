{
 "cells": [
  {
   "cell_type": "markdown",
   "id": "512d4cbc-069c-42be-bbc5-c8870c8a5fee",
   "metadata": {
    "tags": []
   },
   "source": [
    "# Chapter 1. Python 기초 - 클래스와 객체\n",
    "* 교재 : 으뜸 파이썬(생능출판)\n",
    "* 출처 : https://www.booksr.co.kr/product/9788970503691/"
   ]
  },
  {
   "cell_type": "markdown",
   "id": "6dcc476e-69a2-49e8-bce8-1b7a1c04490d",
   "metadata": {
    "jp-MarkdownHeadingCollapsed": true,
    "tags": []
   },
   "source": [
    "# 1. 복습 문제"
   ]
  },
  {
   "cell_type": "markdown",
   "id": "b40a2795-7136-4138-aed2-e6cf81b763af",
   "metadata": {
    "jp-MarkdownHeadingCollapsed": true,
    "tags": []
   },
   "source": [
    "## 1번 - Def\n",
    "다음과 같은 리스트가 있습니다.\n",
    "my_list = [ 1, 2, 3, 4, 5, 6, 7, 8, 9, 10 ]  \n",
    "해당 리스트에서 홀수와 짝수를 찾아 각각의 리스트로 반환하는 함수를 작성하세요."
   ]
  },
  {
   "cell_type": "code",
   "execution_count": 3,
   "id": "918fc0a0-8649-4d5d-bc78-e23a8ee1068a",
   "metadata": {},
   "outputs": [
    {
     "data": {
      "text/plain": [
       "[1, 2, 3, 4, 5, 6, 7, 8, 9, 10]"
      ]
     },
     "execution_count": 3,
     "metadata": {},
     "output_type": "execute_result"
    }
   ],
   "source": [
    "m_l = list(range(1,11))\n",
    "m_l"
   ]
  },
  {
   "cell_type": "code",
   "execution_count": 5,
   "id": "dbf8d8b4-cfbd-4dce-a674-d759441a009c",
   "metadata": {},
   "outputs": [
    {
     "name": "stdout",
     "output_type": "stream",
     "text": [
      "홀수 : [1, 3, 5, 7, 9]\n",
      "짝수 : [2, 4, 6, 8, 10]\n"
     ]
    }
   ],
   "source": [
    "def od_nums(l) :  \n",
    "    return [i for i in l if i % 2 == 1]\n",
    "\n",
    "def ev_nums(l) :\n",
    "    return [i for i in l if i % 2 == 0]\n",
    "\n",
    "odd_list = od_nums(m_l)\n",
    "even_list = ev_nums(m_l)\n",
    "\n",
    "print('홀수 :',odd_list)\n",
    "print('짝수 :',even_list)"
   ]
  },
  {
   "cell_type": "markdown",
   "id": "e50fbd2a-098c-4a81-835e-3258c32f149a",
   "metadata": {
    "jp-MarkdownHeadingCollapsed": true,
    "tags": []
   },
   "source": [
    "## 2번 - Def\n",
    "다음과 같은 두 개의 리스트가 있습니다.  \n",
    "list01 = [ 0, 1, 2, 3, 4 ]  \n",
    "list02 = [ 3, 4, 5, 6, 7 ]  \n",
    "두 개의 리스트에 공통적으로 존재하는 요소를 제외한 나머지 요소들을 반환하는 함수를 작성하세요."
   ]
  },
  {
   "cell_type": "code",
   "execution_count": 6,
   "id": "137c90db-0f1d-4639-8ba0-9615b22ff7d4",
   "metadata": {},
   "outputs": [],
   "source": [
    "list01 = [0,1,2,3,4]\n",
    "list02 = [3,4,5,6,7]"
   ]
  },
  {
   "cell_type": "code",
   "execution_count": 7,
   "id": "64c18b7c-acdd-489a-b954-19a38f08b612",
   "metadata": {},
   "outputs": [
    {
     "data": {
      "text/plain": [
       "[3, 4]"
      ]
     },
     "execution_count": 7,
     "metadata": {},
     "output_type": "execute_result"
    }
   ],
   "source": [
    "def union_nums(l1,l2) :\n",
    "    return [i for i in l1 if i in l2]\n",
    "\n",
    "union_list = union_nums(list01, list02)\n",
    "union_list"
   ]
  },
  {
   "cell_type": "markdown",
   "id": "48f105e2-d734-4e0b-a12a-66dd2e2ca52c",
   "metadata": {
    "jp-MarkdownHeadingCollapsed": true,
    "tags": []
   },
   "source": [
    "# 2. Class(객체)\n",
    "## 절차적 프로그래밍 방식(Procedural Programming)\n",
    "* 데이터들이 많아지고, 함수가 많아진다면 매우 많은 화살표와 함수 호출 필요\n",
    "* 대규모 프로젝트에서는 어려움이 있음\n",
    "* 대표적인 언어 : C\n",
    "## 객체 지향 프로그래밍(OOP : Objected Oriented Programming)\n",
    "* 잘 설계된 클래스를 이용하여 객체를 생성\n",
    "* 클래스는 속성과 행위를 가지도록 설계하고 이 클래스를 이용하여 실제로 상호작용하는 객체를 만들어서 프로그램에 적용시키는 방법을 사용\n",
    "* 개발이나 소프트웨어 업데이트 시 유지보수 비용이 매우 적게 들기 때문에 최근 프로그래밍은 대부분 객체 지향 방식을 선호\n",
    "* 대표적인 언어 : Java, Python\n",
    "## Class(객체) 구성 요소\n",
    "* 속성 : 변수\n",
    "* 동작 : 함수\n",
    "(ex) Class SoccerPlayer :\n",
    ">속성(변수) : 이름, 나이, 포지션 etc\n",
    "동작(함수) : 뛴다, 걷는다, 점프한다 etc\n",
    "## Method(메서드), Member Function(멤버 함수)\n",
    "* 클래스 내부에서 정의되어 클래스나 클래스 인스턴스가 사용하는 함수\n",
    "* self는 자기 자신을 참조하는 변수이며 메서드의 첫 번째 매개변수로 반드시 들어가야 한다"
   ]
  },
  {
   "cell_type": "markdown",
   "id": "a454943c-3804-4a29-8837-0e95efae18e7",
   "metadata": {
    "jp-MarkdownHeadingCollapsed": true,
    "tags": []
   },
   "source": [
    "## p.531"
   ]
  },
  {
   "cell_type": "markdown",
   "id": "c59dcd3f-9065-40e4-86e6-6cb69e993c47",
   "metadata": {
    "jp-MarkdownHeadingCollapsed": true,
    "tags": []
   },
   "source": [
    "### 코드 9-2"
   ]
  },
  {
   "cell_type": "code",
   "execution_count": 1,
   "id": "9e16c425-6b94-423a-982d-e49f7037bf6e",
   "metadata": {},
   "outputs": [
    {
     "name": "stdout",
     "output_type": "stream",
     "text": [
      "야옹\n"
     ]
    }
   ],
   "source": [
    "class Cat :\n",
    "    def meow(self) :\n",
    "        print('야옹')\n",
    "        \n",
    "nabi = Cat()\n",
    "nabi.meow()"
   ]
  },
  {
   "cell_type": "markdown",
   "id": "e67dfc4d-a240-40aa-a4fb-a1f642ac2259",
   "metadata": {
    "jp-MarkdownHeadingCollapsed": true,
    "tags": []
   },
   "source": [
    "## p.532"
   ]
  },
  {
   "cell_type": "markdown",
   "id": "1d14b1ba-3881-4cff-847c-5d7e2d2b13e8",
   "metadata": {
    "jp-MarkdownHeadingCollapsed": true,
    "tags": []
   },
   "source": [
    "### 코드 9-3"
   ]
  },
  {
   "cell_type": "code",
   "execution_count": 2,
   "id": "1b3d71da-566e-4b93-ba3b-95cdb1833a47",
   "metadata": {},
   "outputs": [
    {
     "name": "stdout",
     "output_type": "stream",
     "text": [
      "야옹\n",
      "하악\n",
      "야옹\n",
      "야옹\n"
     ]
    }
   ],
   "source": [
    "class Cat :\n",
    "    def meow(self) :\n",
    "        print('야옹')\n",
    "    def haac(self) :\n",
    "        print('하악')\n",
    "        \n",
    "nabi = Cat()\n",
    "nabi.meow()\n",
    "nabi.haac()\n",
    "\n",
    "nero = Cat()\n",
    "nero.meow()\n",
    "\n",
    "mimi = Cat()\n",
    "mimi.meow()"
   ]
  },
  {
   "cell_type": "markdown",
   "id": "8efee3f5-3386-4c58-9c7b-67baf14aabbc",
   "metadata": {
    "jp-MarkdownHeadingCollapsed": true,
    "tags": []
   },
   "source": [
    "## p.533"
   ]
  },
  {
   "cell_type": "markdown",
   "id": "469a45dd-2527-4b4c-bbd6-88ca1d4bb74c",
   "metadata": {
    "jp-MarkdownHeadingCollapsed": true,
    "tags": []
   },
   "source": [
    "### LAB 9-4"
   ]
  },
  {
   "cell_type": "code",
   "execution_count": 3,
   "id": "279306ba-1749-40be-a8a6-17e07db1011e",
   "metadata": {},
   "outputs": [
    {
     "name": "stdout",
     "output_type": "stream",
     "text": [
      "멍멍\n"
     ]
    }
   ],
   "source": [
    "class Dog :\n",
    "    def bark(self) :\n",
    "        print('멍멍')\n",
    "        \n",
    "my_dog = Dog()\n",
    "my_dog.bark()"
   ]
  },
  {
   "cell_type": "markdown",
   "id": "b8a13c9d-1ea1-4e1f-b1ea-6a59a1a1c70c",
   "metadata": {
    "jp-MarkdownHeadingCollapsed": true,
    "tags": []
   },
   "source": [
    "## p.534"
   ]
  },
  {
   "cell_type": "markdown",
   "id": "2e5ffbe6-98c0-47e5-95d3-722f257e3f07",
   "metadata": {
    "jp-MarkdownHeadingCollapsed": true,
    "tags": []
   },
   "source": [
    "### 코드 9-4"
   ]
  },
  {
   "cell_type": "code",
   "execution_count": 4,
   "id": "7936b28b-7039-4879-8825-fa0054ae5451",
   "metadata": {},
   "outputs": [
    {
     "name": "stdout",
     "output_type": "stream",
     "text": [
      "우리집 고양이 이름은 나비, 색깔은 갈색, 야옹!\n"
     ]
    }
   ],
   "source": [
    "class Cat :\n",
    "    # 생성자 혹은 초기화 메소드\n",
    "    def __init__(self, name, color) :\n",
    "        self.name = name\n",
    "        self.color = color\n",
    "        \n",
    "    def meow(self) :\n",
    "        print('우리집 고양이 이름은 {}, 색깔은 {}, 야옹!'.format(self.name,self.color))\n",
    "        \n",
    "nabi = Cat('나비','갈색')\n",
    "nabi.meow()"
   ]
  },
  {
   "cell_type": "code",
   "execution_count": 5,
   "id": "5f032597-8d9a-407d-82e5-979e3b8f38c6",
   "metadata": {},
   "outputs": [
    {
     "name": "stdout",
     "output_type": "stream",
     "text": [
      "나비 갈색\n"
     ]
    }
   ],
   "source": [
    "print(nabi.name, nabi.color)"
   ]
  },
  {
   "cell_type": "markdown",
   "id": "efdae875-8770-4e84-80f5-b1c596c04e61",
   "metadata": {
    "jp-MarkdownHeadingCollapsed": true,
    "tags": []
   },
   "source": [
    "## p.537"
   ]
  },
  {
   "cell_type": "markdown",
   "id": "7dc3c30c-a452-40ce-8df2-14723de5ff58",
   "metadata": {
    "jp-MarkdownHeadingCollapsed": true,
    "tags": []
   },
   "source": [
    "### 코드 9-5"
   ]
  },
  {
   "cell_type": "code",
   "execution_count": 6,
   "id": "d5c6e00d-f69f-4485-98b9-7cdba9afa177",
   "metadata": {},
   "outputs": [
    {
     "name": "stdout",
     "output_type": "stream",
     "text": [
      "Cat(name = 나비, color = 갈색\n"
     ]
    }
   ],
   "source": [
    "class Cat :\n",
    "    # 생성자 혹은 초기화 메소드\n",
    "    def __init__(self, name, color) :\n",
    "        self.name = name\n",
    "        self.color = color\n",
    "        \n",
    "    # Cat 객체의 문자열 표현방식\n",
    "    def __str__(self) :\n",
    "        return 'Cat(name = {}, color = {}'.format(self.name, self.color)\n",
    "    \n",
    "nabi = Cat('나비','갈색')\n",
    "print(nabi)"
   ]
  },
  {
   "cell_type": "markdown",
   "id": "840b31de-403b-4471-baa6-9a8147371702",
   "metadata": {
    "jp-MarkdownHeadingCollapsed": true,
    "tags": []
   },
   "source": [
    "## p.548"
   ]
  },
  {
   "cell_type": "markdown",
   "id": "038429ba-3cea-41af-a125-ec29766f8e4a",
   "metadata": {
    "jp-MarkdownHeadingCollapsed": true,
    "tags": []
   },
   "source": [
    "### 코드 9-13"
   ]
  },
  {
   "cell_type": "code",
   "execution_count": 7,
   "id": "8b1a8c57-839d-49bc-96bc-041df7b3a6e0",
   "metadata": {},
   "outputs": [],
   "source": [
    "class Vector :\n",
    "    def __init__(self, x, y) :\n",
    "        self.x = x\n",
    "        self.y = y\n",
    "    \n",
    "    def __str__(self) :\n",
    "        return '{}, {}'.format(self.x, self.y)\n",
    "    \n",
    "    def __add__(self, other) :\n",
    "        return Vector(self.x + other.x, self.y + other.y)\n",
    "    \n",
    "    def __sub__(self, other) :\n",
    "        return Vector(self.x - other.x, self.y - other.y)"
   ]
  },
  {
   "cell_type": "code",
   "execution_count": 8,
   "id": "1c650e2a-b8b4-4ac9-9fed-935e1a08d763",
   "metadata": {},
   "outputs": [
    {
     "name": "stdout",
     "output_type": "stream",
     "text": [
      "40, 60\n",
      "20, 20\n"
     ]
    }
   ],
   "source": [
    "v1 = Vector(30, 40)\n",
    "v2 = Vector(10, 20)\n",
    "\n",
    "print(v1 + v2)\n",
    "print(v1 - v2)"
   ]
  },
  {
   "cell_type": "markdown",
   "id": "07aedef7-7755-4c1b-a6c3-d83cd520af36",
   "metadata": {
    "jp-MarkdownHeadingCollapsed": true,
    "tags": []
   },
   "source": [
    "## p.564"
   ]
  },
  {
   "cell_type": "markdown",
   "id": "a9cbe7b8-665d-4e78-9af8-8b9228b2a3e9",
   "metadata": {
    "jp-MarkdownHeadingCollapsed": true,
    "tags": []
   },
   "source": [
    "### 9.10"
   ]
  },
  {
   "cell_type": "code",
   "execution_count": 9,
   "id": "fa14cc5f-3e04-4412-9bfd-286cf04ca964",
   "metadata": {},
   "outputs": [],
   "source": [
    "class BankAccount :\n",
    "    \n",
    "    '''\n",
    "    -- 메서드 목록 --\n",
    "    deposit(self, money) : 입금\n",
    "    withdraw(self, money) : 출금\n",
    "    '''\n",
    "    \n",
    "    # 생성자\n",
    "    def __init__(self, name, acc_num, bal = 0) :\n",
    "        self.__name = name\n",
    "        self.__acc_num = acc_num\n",
    "        self.__bal = bal\n",
    "    # 출력\n",
    "    def __str__(self) :\n",
    "        return '{}님의 계좌 {}의 잔고는 {}원입니다.'.format(self.__name, self.__acc_num, self.__bal)\n",
    "    \n",
    "    # 이름\n",
    "    def get_name(self) :\n",
    "        return '계좌 주인의 이름은 {}입니다.'.format(self.__name)\n",
    "    \n",
    "    # 계좌번호\n",
    "    def get_account_num(self) :\n",
    "        return '계좌번호는 {}입니다.'.format(self.__acc_num)\n",
    "    \n",
    "    # 잔고\n",
    "    def get_balance(self) :\n",
    "        return '잔고는 {}원입니다.'.format(self.__bal)\n",
    "    \n",
    "    # 입급\n",
    "    def deposit(self, money) :\n",
    "        self.__bal += money\n",
    "        return '{}원이 입금되었습니다. 현재 잔고는 {}원입니다.'.format(money, self.__bal)\n",
    "    \n",
    "    # 출금\n",
    "    def withdraw(self, money) :\n",
    "        if self.__bal < money :\n",
    "            return '계좌 잔고는 {}원으로 인출 요구 금액 {}원보다 {}원 작습니다.'.format(self.__bal, money, money - self.__bal)\n",
    "        else :\n",
    "            self.__bal -= money\n",
    "            return '{}원이 출금되었습니다. 현재 잔고는 {}원입니다.'.format(money, self.__bal)"
   ]
  },
  {
   "cell_type": "code",
   "execution_count": 10,
   "id": "548fecf0-ac34-42bb-bd0e-5cf1609487de",
   "metadata": {},
   "outputs": [
    {
     "name": "stdout",
     "output_type": "stream",
     "text": [
      "홍길동님의 계좌 1234-0001의 잔고는 0원입니다.\n"
     ]
    }
   ],
   "source": [
    "account1 = BankAccount('홍길동','1234-0001')\n",
    "print(account1)"
   ]
  },
  {
   "cell_type": "code",
   "execution_count": 11,
   "id": "b6856ba6-6480-47cb-ac9f-a5054ebd3b08",
   "metadata": {},
   "outputs": [
    {
     "data": {
      "text/plain": [
       "'2000원이 입금되었습니다. 현재 잔고는 2000원입니다.'"
      ]
     },
     "execution_count": 11,
     "metadata": {},
     "output_type": "execute_result"
    }
   ],
   "source": [
    "account1.deposit(2000)"
   ]
  },
  {
   "cell_type": "code",
   "execution_count": 12,
   "id": "69ac6ef8-93d4-4728-ace2-24c5a23894d9",
   "metadata": {},
   "outputs": [
    {
     "name": "stdout",
     "output_type": "stream",
     "text": [
      "홍길동님의 계좌 1234-0001의 잔고는 2000원입니다.\n"
     ]
    }
   ],
   "source": [
    "print(account1)"
   ]
  },
  {
   "cell_type": "code",
   "execution_count": 13,
   "id": "4cd53109-ef87-41bb-8355-7f4129a29c3c",
   "metadata": {},
   "outputs": [
    {
     "data": {
      "text/plain": [
       "'500원이 출금되었습니다. 현재 잔고는 1500원입니다.'"
      ]
     },
     "execution_count": 13,
     "metadata": {},
     "output_type": "execute_result"
    }
   ],
   "source": [
    "account1.withdraw(500)"
   ]
  },
  {
   "cell_type": "code",
   "execution_count": 14,
   "id": "57d74b8a-486b-47bc-bc74-5a6ba9374ef1",
   "metadata": {},
   "outputs": [
    {
     "name": "stdout",
     "output_type": "stream",
     "text": [
      "홍길동님의 계좌 1234-0001의 잔고는 1500원입니다.\n"
     ]
    }
   ],
   "source": [
    "print(account1)"
   ]
  },
  {
   "cell_type": "code",
   "execution_count": 15,
   "id": "ea8b94fe-1641-45ce-af40-0c660f40602a",
   "metadata": {},
   "outputs": [
    {
     "data": {
      "text/plain": [
       "'계좌 잔고는 1500원으로 인출 요구 금액 5000원보다 3500원 작습니다.'"
      ]
     },
     "execution_count": 15,
     "metadata": {},
     "output_type": "execute_result"
    }
   ],
   "source": [
    "account1.withdraw(5000)"
   ]
  },
  {
   "cell_type": "code",
   "execution_count": 16,
   "id": "f3b1dab7-3dd8-43a2-bddc-e0a3a7589242",
   "metadata": {},
   "outputs": [
    {
     "name": "stdout",
     "output_type": "stream",
     "text": [
      "홍길동님의 계좌 1234-0001의 잔고는 1500원입니다.\n"
     ]
    }
   ],
   "source": [
    "print(account1)"
   ]
  },
  {
   "cell_type": "markdown",
   "id": "474166e8-156a-4a94-a29d-b590ba91f59f",
   "metadata": {
    "jp-MarkdownHeadingCollapsed": true,
    "tags": []
   },
   "source": [
    "# 3. Sort, Lambda"
   ]
  },
  {
   "cell_type": "markdown",
   "id": "cdd8199f-0fc8-45b5-949d-2c4c2ae9e540",
   "metadata": {
    "jp-MarkdownHeadingCollapsed": true,
    "tags": []
   },
   "source": [
    "## ex 1."
   ]
  },
  {
   "cell_type": "code",
   "execution_count": 33,
   "id": "defbf0d3-69b1-4b08-9a10-dd0080781d5d",
   "metadata": {},
   "outputs": [
    {
     "data": {
      "text/plain": [
       "[['춘향', 16], ['심청', 19], ['길동', 21]]"
      ]
     },
     "execution_count": 33,
     "metadata": {},
     "output_type": "execute_result"
    }
   ],
   "source": [
    "sorted([['길동',21],['춘향',16],['심청',19]], key = lambda x : x[1])"
   ]
  },
  {
   "cell_type": "markdown",
   "id": "833867f2-aea8-4283-950c-ccf6b0485c16",
   "metadata": {
    "jp-MarkdownHeadingCollapsed": true,
    "tags": []
   },
   "source": [
    "## ex 2."
   ]
  },
  {
   "cell_type": "code",
   "execution_count": 34,
   "id": "61cf32c7-3539-420b-9cb2-c5736782c47e",
   "metadata": {},
   "outputs": [
    {
     "data": {
      "text/plain": [
       "[['심청', 16], ['춘향', 16], ['길동', 21]]"
      ]
     },
     "execution_count": 34,
     "metadata": {},
     "output_type": "execute_result"
    }
   ],
   "source": [
    "sorted([['길동',21],['춘향',16],['심청',16]], key = lambda x : (x[1],x[0]))"
   ]
  },
  {
   "cell_type": "markdown",
   "id": "79f743c2-dd32-4463-950e-f57ac7117fbc",
   "metadata": {
    "jp-MarkdownHeadingCollapsed": true,
    "tags": []
   },
   "source": [
    "## p.618"
   ]
  },
  {
   "cell_type": "markdown",
   "id": "1ad63580-39a8-47e4-b0d3-47b2f2238e47",
   "metadata": {
    "jp-MarkdownHeadingCollapsed": true,
    "tags": []
   },
   "source": [
    "### 10.6 (2)"
   ]
  },
  {
   "cell_type": "code",
   "execution_count": 35,
   "id": "35d9dc14-f0fd-4588-9e91-745f804ce084",
   "metadata": {},
   "outputs": [
    {
     "data": {
      "text/plain": [
       "[24, 144]"
      ]
     },
     "execution_count": 35,
     "metadata": {},
     "output_type": "execute_result"
    }
   ],
   "source": [
    "my_list = [44,66,34,24,144,98,38,568,234,345]\n",
    "list(filter(lambda x : x % 12 == 0, my_list))"
   ]
  },
  {
   "cell_type": "markdown",
   "id": "98ec50a8-bbc8-4a73-ab8d-507a938adb84",
   "metadata": {
    "jp-MarkdownHeadingCollapsed": true,
    "tags": []
   },
   "source": [
    "## p.620"
   ]
  },
  {
   "cell_type": "markdown",
   "id": "47d190a1-ffea-4e4a-b051-02627369e472",
   "metadata": {
    "jp-MarkdownHeadingCollapsed": true,
    "tags": []
   },
   "source": [
    "### 10.12 (2)"
   ]
  },
  {
   "cell_type": "code",
   "execution_count": 36,
   "id": "b1275ffb-7dd6-44a5-b22a-2123e5102b9f",
   "metadata": {},
   "outputs": [
    {
     "data": {
      "text/plain": [
       "['SUN', 'MON', 'TUE', 'WED', 'THU', 'FRI', 'SAT']"
      ]
     },
     "execution_count": 36,
     "metadata": {},
     "output_type": "execute_result"
    }
   ],
   "source": [
    "day_list = ['sunday','monday','tuesday','wednesday','thursday','friday','saturday']\n",
    "list(map(lambda x : x.upper()[:3], day_list))"
   ]
  },
  {
   "cell_type": "markdown",
   "id": "24375806-8a33-4532-b2f6-b56b5bd1c81b",
   "metadata": {
    "jp-MarkdownHeadingCollapsed": true,
    "tags": []
   },
   "source": [
    "### 10.13 (1)"
   ]
  },
  {
   "cell_type": "code",
   "execution_count": 37,
   "id": "1d0bed2d-4c51-4a75-9a4a-f2e0e28f391f",
   "metadata": {},
   "outputs": [
    {
     "data": {
      "text/plain": [
       "[2004, 2008, 2012, 2016, 2020, 2024, 2028]"
      ]
     },
     "execution_count": 37,
     "metadata": {},
     "output_type": "execute_result"
    }
   ],
   "source": [
    "list(filter(lambda x : ((x % 4 == 0 and x % 100 != 0) or (x % 400 == 0)), range(2001,2031)))"
   ]
  },
  {
   "cell_type": "markdown",
   "id": "3315b241-37c2-4a7d-b316-6f76f2b1a767",
   "metadata": {
    "jp-MarkdownHeadingCollapsed": true,
    "tags": []
   },
   "source": [
    "# 4. 실습 문제"
   ]
  },
  {
   "cell_type": "markdown",
   "id": "f8119759-8444-4525-a342-efff73fea191",
   "metadata": {
    "jp-MarkdownHeadingCollapsed": true,
    "tags": []
   },
   "source": [
    "## 1번 - Class\n",
    "Calculator라는 이름의 클래스를 선언하세요.  \n",
    "이 클래스는 add() : 덧셈, subtract() : 뺄셈, multiple() : 곱셈, divide() : 나눗셈 네 가지 Member Functions을 가지고 있습니다."
   ]
  },
  {
   "cell_type": "markdown",
   "id": "6a27d803-181e-45b1-9c34-c50e8afb0767",
   "metadata": {
    "jp-MarkdownHeadingCollapsed": true,
    "tags": []
   },
   "source": [
    "### My Answer"
   ]
  },
  {
   "cell_type": "code",
   "execution_count": 17,
   "id": "37306c52-22ed-4225-aeee-f033c8e5d061",
   "metadata": {},
   "outputs": [],
   "source": [
    "class Calculator1 :\n",
    "    \n",
    "    # 생성자\n",
    "    def __init__(self, num1, num2) :\n",
    "        self.num1 = num1\n",
    "        self.num2 = num2\n",
    "    \n",
    "    # 덧셈\n",
    "    def add(self) :\n",
    "        return self.num1 + self.num2\n",
    "    \n",
    "    # 뺄셈\n",
    "    def subtract(self) :\n",
    "        return self.num1 - self.num2\n",
    "    \n",
    "    # 곱셈\n",
    "    def multiple(self) :\n",
    "        return self.num1 * self.num2\n",
    "    \n",
    "    # 나눗셈\n",
    "    def divide(self) :\n",
    "        return self.num1 / self.num2"
   ]
  },
  {
   "cell_type": "code",
   "execution_count": 19,
   "id": "b96495b4-9a43-40ec-94c9-d52b902fe4ed",
   "metadata": {},
   "outputs": [],
   "source": [
    "r = Calculator1(5,5)"
   ]
  },
  {
   "cell_type": "code",
   "execution_count": 20,
   "id": "10ab7f41-2d7d-4a1d-965f-5e80cf0efd72",
   "metadata": {},
   "outputs": [
    {
     "data": {
      "text/plain": [
       "10"
      ]
     },
     "execution_count": 20,
     "metadata": {},
     "output_type": "execute_result"
    }
   ],
   "source": [
    "r.add()"
   ]
  },
  {
   "cell_type": "code",
   "execution_count": 21,
   "id": "56206021-035f-49da-ab25-279972128fe7",
   "metadata": {},
   "outputs": [
    {
     "data": {
      "text/plain": [
       "0"
      ]
     },
     "execution_count": 21,
     "metadata": {},
     "output_type": "execute_result"
    }
   ],
   "source": [
    "r.subtract()"
   ]
  },
  {
   "cell_type": "code",
   "execution_count": 22,
   "id": "650cfbb2-8c6e-4743-b478-03db48e2db87",
   "metadata": {},
   "outputs": [
    {
     "data": {
      "text/plain": [
       "25"
      ]
     },
     "execution_count": 22,
     "metadata": {},
     "output_type": "execute_result"
    }
   ],
   "source": [
    "r.multiple()"
   ]
  },
  {
   "cell_type": "code",
   "execution_count": 23,
   "id": "b3d79f96-68ad-4d9b-b4f1-48b39913fb83",
   "metadata": {},
   "outputs": [
    {
     "data": {
      "text/plain": [
       "1.0"
      ]
     },
     "execution_count": 23,
     "metadata": {},
     "output_type": "execute_result"
    }
   ],
   "source": [
    "r.divide()"
   ]
  },
  {
   "cell_type": "markdown",
   "id": "17961a3c-0d95-4432-8a83-1cc72e2c2a03",
   "metadata": {
    "jp-MarkdownHeadingCollapsed": true,
    "tags": []
   },
   "source": [
    "### Answer"
   ]
  },
  {
   "cell_type": "code",
   "execution_count": 24,
   "id": "5f4250a6-ce7b-4477-8e50-c595cc697fb5",
   "metadata": {},
   "outputs": [],
   "source": [
    "class Calculator2 :\n",
    "    # 덧셈\n",
    "    def add(self, num1, num2) :\n",
    "        return num1 + num2\n",
    "    \n",
    "    # 뺄셈\n",
    "    def subtract(self, num1, num2) :\n",
    "        return num1 - num2\n",
    "    \n",
    "    # 곱셈\n",
    "    def multiple(self, num1, num2) :\n",
    "        return num1 * num2\n",
    "    \n",
    "    # 나눗셈\n",
    "    def divide(self, num1, num2) :\n",
    "        return num1 / num2"
   ]
  },
  {
   "cell_type": "code",
   "execution_count": 25,
   "id": "fc097f7f-9dfc-49fb-a48a-bc69a09590f9",
   "metadata": {},
   "outputs": [],
   "source": [
    "r = Calculator2()"
   ]
  },
  {
   "cell_type": "code",
   "execution_count": 26,
   "id": "c2bb3c4b-dfb5-44d7-b03c-1d65516faaad",
   "metadata": {},
   "outputs": [
    {
     "data": {
      "text/plain": [
       "10"
      ]
     },
     "execution_count": 26,
     "metadata": {},
     "output_type": "execute_result"
    }
   ],
   "source": [
    "r.add(5, 5)"
   ]
  },
  {
   "cell_type": "code",
   "execution_count": 27,
   "id": "2a4a3de0-60cc-4091-8f79-f9aa55e289d9",
   "metadata": {},
   "outputs": [
    {
     "data": {
      "text/plain": [
       "0"
      ]
     },
     "execution_count": 27,
     "metadata": {},
     "output_type": "execute_result"
    }
   ],
   "source": [
    "r.subtract(5,5)"
   ]
  },
  {
   "cell_type": "code",
   "execution_count": 28,
   "id": "5634b6b9-16be-4c67-9040-a1ae1a97299e",
   "metadata": {},
   "outputs": [
    {
     "data": {
      "text/plain": [
       "25"
      ]
     },
     "execution_count": 28,
     "metadata": {},
     "output_type": "execute_result"
    }
   ],
   "source": [
    "r.multiple(5,5)"
   ]
  },
  {
   "cell_type": "code",
   "execution_count": 29,
   "id": "535f19a0-64f3-4cc3-ab96-c4aab84e26c4",
   "metadata": {},
   "outputs": [
    {
     "data": {
      "text/plain": [
       "1.0"
      ]
     },
     "execution_count": 29,
     "metadata": {},
     "output_type": "execute_result"
    }
   ],
   "source": [
    "r.divide(5,5)"
   ]
  },
  {
   "cell_type": "markdown",
   "id": "4da9d1ec-9459-4a89-8174-e935599557dd",
   "metadata": {
    "jp-MarkdownHeadingCollapsed": true,
    "tags": []
   },
   "source": [
    "## 2번 - Class\n",
    "원의 넓이를 구하는 프로그램을 작성하세요.  \n",
    "원은 Circle 클래스를 설계하고, 넓이를 구하는 Member Function인 get_area()를 구현하세요."
   ]
  },
  {
   "cell_type": "code",
   "execution_count": 30,
   "id": "8f582433-8096-4207-a2f0-d3d6764cef8f",
   "metadata": {},
   "outputs": [],
   "source": [
    "class Circle :\n",
    "    \n",
    "    # 생성자\n",
    "    def __init__(self, r) :\n",
    "        self.r = r\n",
    "    \n",
    "    # 원의 넓이\n",
    "    def get_area(self) :\n",
    "        import math\n",
    "        return round(math.pi*(self.r**2),2)"
   ]
  },
  {
   "cell_type": "code",
   "execution_count": 31,
   "id": "14d86d22-72b9-462c-8416-3169ca3b8bdc",
   "metadata": {},
   "outputs": [],
   "source": [
    "c = Circle(5)"
   ]
  },
  {
   "cell_type": "code",
   "execution_count": 32,
   "id": "20620580-7f7a-4d06-b8f9-805770f0335a",
   "metadata": {},
   "outputs": [
    {
     "data": {
      "text/plain": [
       "78.54"
      ]
     },
     "execution_count": 32,
     "metadata": {},
     "output_type": "execute_result"
    }
   ],
   "source": [
    "c.get_area()"
   ]
  },
  {
   "cell_type": "markdown",
   "id": "a47bc857-8e1d-4dc8-9b63-327899927280",
   "metadata": {
    "jp-MarkdownHeadingCollapsed": true,
    "tags": []
   },
   "source": [
    "## 3번 - Sort, Lambda\n",
    "my_list = [ 3, 6, 3, 2, 4, 8, 23 ]을 홀수 -> 짝수 순으로 정렬하고 홀수는 홀수끼리, 짝수는 짝수끼리 오름차순으로 정렬하세요."
   ]
  },
  {
   "cell_type": "code",
   "execution_count": 41,
   "id": "3ebfa656-0a97-4cfe-847e-31c2fe714baf",
   "metadata": {},
   "outputs": [
    {
     "data": {
      "text/plain": [
       "[3, 6, 3, 2, 4, 8, 23]"
      ]
     },
     "execution_count": 41,
     "metadata": {},
     "output_type": "execute_result"
    }
   ],
   "source": [
    "m_l = [3,6,3,2,4,8,23]\n",
    "m_l"
   ]
  },
  {
   "cell_type": "code",
   "execution_count": 42,
   "id": "65ef9c12-2107-4fad-98c3-c62ef4d3735e",
   "metadata": {},
   "outputs": [
    {
     "data": {
      "text/plain": [
       "[3, 3, 23, 2, 4, 6, 8]"
      ]
     },
     "execution_count": 42,
     "metadata": {},
     "output_type": "execute_result"
    }
   ],
   "source": [
    "sorted(m_l, key = lambda x : (x % 2 == 0, x))"
   ]
  },
  {
   "cell_type": "code",
   "execution_count": null,
   "id": "aa95d1c5-ab90-4764-b041-293b7e4f49cc",
   "metadata": {},
   "outputs": [],
   "source": []
  }
 ],
 "metadata": {
  "kernelspec": {
   "display_name": "Python 3 (ipykernel)",
   "language": "python",
   "name": "python3"
  },
  "language_info": {
   "codemirror_mode": {
    "name": "ipython",
    "version": 3
   },
   "file_extension": ".py",
   "mimetype": "text/x-python",
   "name": "python",
   "nbconvert_exporter": "python",
   "pygments_lexer": "ipython3",
   "version": "3.9.7"
  }
 },
 "nbformat": 4,
 "nbformat_minor": 5
}
