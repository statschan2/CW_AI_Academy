{
 "cells": [
  {
   "cell_type": "markdown",
   "id": "05fe208f-1273-4579-89c5-6a2ffde90b7f",
   "metadata": {},
   "source": [
    "# Chapter 1. Python 기초 - 실습 문제"
   ]
  },
  {
   "cell_type": "markdown",
   "id": "7f61efe7-90ef-41f2-8735-54722a711aff",
   "metadata": {
    "jp-MarkdownHeadingCollapsed": true,
    "tags": []
   },
   "source": [
    "# 1번\n",
    "다음과 같이 두 개의 리스트가 있습니다.  \n",
    "두 개의 리스트를 입력받아 공통적으로 존재하는 요소를 제외한 나머지 요소들을 반환하는 함수를 작성하세요."
   ]
  },
  {
   "cell_type": "code",
   "execution_count": 1,
   "id": "e22a58c7-95ed-4ae1-88bf-0d97d2ba7838",
   "metadata": {},
   "outputs": [],
   "source": [
    "list01 = [0,1,2,3,4]\n",
    "list02 = [3,4,5,6,7]"
   ]
  },
  {
   "cell_type": "markdown",
   "id": "8a01aef0-d5eb-411d-a563-fc28a2f4d625",
   "metadata": {
    "jp-MarkdownHeadingCollapsed": true,
    "tags": []
   },
   "source": [
    "## My Answer"
   ]
  },
  {
   "cell_type": "code",
   "execution_count": 2,
   "id": "8da54118-c794-4a35-9c1d-eb5771ed6ae0",
   "metadata": {},
   "outputs": [
    {
     "data": {
      "text/plain": [
       "[0, 1, 2, 5, 6, 7]"
      ]
     },
     "execution_count": 2,
     "metadata": {},
     "output_type": "execute_result"
    }
   ],
   "source": [
    "def unique(l1, l2) :\n",
    "    return list((set(l1) | set(l2)) - (set(l1) & set(l2)))\n",
    "\n",
    "unique(list01, list02)"
   ]
  },
  {
   "cell_type": "markdown",
   "id": "a9ec695b-fb56-4121-9542-5c89f29a8078",
   "metadata": {
    "jp-MarkdownHeadingCollapsed": true,
    "tags": []
   },
   "source": [
    "## Answer 1 - for"
   ]
  },
  {
   "cell_type": "code",
   "execution_count": 3,
   "id": "b3ebc5c3-f045-4601-8fc9-bb3745aa7f03",
   "metadata": {},
   "outputs": [
    {
     "data": {
      "text/plain": [
       "[0, 1, 2, 5, 6, 7]"
      ]
     },
     "execution_count": 3,
     "metadata": {},
     "output_type": "execute_result"
    }
   ],
   "source": [
    "def unique_answer1(list1, list2) :\n",
    "    uniques = []\n",
    "    for i in list1 :\n",
    "        if i not in list2 :\n",
    "            uniques.append(i)\n",
    "    for i in list2 :\n",
    "        if i not in list1 :\n",
    "            uniques.append(i)\n",
    "    return uniques\n",
    "\n",
    "unique_answer1(list01, list02)"
   ]
  },
  {
   "cell_type": "markdown",
   "id": "1cf942ac-223e-4e28-a48b-12cb9adfac34",
   "metadata": {
    "jp-MarkdownHeadingCollapsed": true,
    "tags": []
   },
   "source": [
    "## Answer 2 - list, set"
   ]
  },
  {
   "cell_type": "code",
   "execution_count": 4,
   "id": "d2b31fce-528e-4076-8e43-da5ed80de19e",
   "metadata": {},
   "outputs": [
    {
     "data": {
      "text/plain": [
       "[0, 1, 2, 5, 6, 7]"
      ]
     },
     "execution_count": 4,
     "metadata": {},
     "output_type": "execute_result"
    }
   ],
   "source": [
    "def unique_answer2(list1, list2) :\n",
    "    return list(set(list1) ^ set(list2))\n",
    "\n",
    "unique_answer2(list01, list02)"
   ]
  },
  {
   "cell_type": "markdown",
   "id": "0f291533-5ee4-4685-a56c-66475c5c5243",
   "metadata": {
    "jp-MarkdownHeadingCollapsed": true,
    "tags": []
   },
   "source": [
    "# 2번\n",
    "다음과 같이 딕셔너리가 있습니다.  \n",
    "이 딕셔너리에서 80점 이상의 학생 이름을 출력하는 함수를 작성하세요."
   ]
  },
  {
   "cell_type": "code",
   "execution_count": 5,
   "id": "7309f2e8-56ee-490a-a26a-290a1a29bdca",
   "metadata": {},
   "outputs": [],
   "source": [
    "korean_scores = {'Alice' : 82, 'Bob' : 90, 'Charlie' : 75, 'David' : 67, 'Ethan' : 94}"
   ]
  },
  {
   "cell_type": "markdown",
   "id": "4494cb81-9aed-4ebe-b77b-d22509c14d8b",
   "metadata": {
    "jp-MarkdownHeadingCollapsed": true,
    "tags": []
   },
   "source": [
    "## My Asnwer"
   ]
  },
  {
   "cell_type": "code",
   "execution_count": 6,
   "id": "e15740fd-ceb8-45f7-adf5-50cf617d2095",
   "metadata": {},
   "outputs": [
    {
     "name": "stdout",
     "output_type": "stream",
     "text": [
      "Alice\tBob\tEthan\t"
     ]
    }
   ],
   "source": [
    "def over_80(data) :\n",
    "    for name, score in data.items() :\n",
    "        if score >= 80 :\n",
    "            print(name, end = '\\t')\n",
    "            \n",
    "over_80(korean_scores)"
   ]
  },
  {
   "cell_type": "markdown",
   "id": "b37e71b4-bbce-43c5-88f1-909d52bd34e2",
   "metadata": {
    "jp-MarkdownHeadingCollapsed": true,
    "tags": []
   },
   "source": [
    "## Answer"
   ]
  },
  {
   "cell_type": "code",
   "execution_count": 7,
   "id": "b7a7c3dd-30b4-4576-b6ac-61d90f83cb48",
   "metadata": {},
   "outputs": [
    {
     "name": "stdout",
     "output_type": "stream",
     "text": [
      "Alice\n",
      "Bob\n",
      "Ethan\n"
     ]
    }
   ],
   "source": [
    "def over80(score) :\n",
    "    for i in list(filter(lambda x : x[1] >= 80, korean_scores.items())) :\n",
    "        print(i[0])\n",
    "        \n",
    "over80(korean_scores)"
   ]
  },
  {
   "cell_type": "markdown",
   "id": "e8f8e970-b32f-451e-ba8f-fc0022070b6c",
   "metadata": {
    "jp-MarkdownHeadingCollapsed": true,
    "tags": []
   },
   "source": [
    "# 3번\n",
    "다음과 같이 리스트와 딕셔너리가 있습니다.  \n",
    "딕셔너리의 값(value)과 일치하는 리스트의 요소만 반환하는 함수를 작성하세요."
   ]
  },
  {
   "cell_type": "code",
   "execution_count": 8,
   "id": "baab694b-2b6b-4372-abc5-404db4343430",
   "metadata": {},
   "outputs": [],
   "source": [
    "f = ['apple','banana','cherry','durian']\n",
    "f_dict = {'a' : 'apple','b':'banana','c':'cherry'}"
   ]
  },
  {
   "cell_type": "markdown",
   "id": "478e08a4-c5ad-404d-82d5-7fd5c1e5ea5d",
   "metadata": {
    "jp-MarkdownHeadingCollapsed": true,
    "tags": []
   },
   "source": [
    "## My Answer"
   ]
  },
  {
   "cell_type": "code",
   "execution_count": 9,
   "id": "71fa7892-004b-433e-adc9-fc82cbb05fa1",
   "metadata": {},
   "outputs": [
    {
     "data": {
      "text/plain": [
       "['apple', 'banana', 'cherry']"
      ]
     },
     "execution_count": 9,
     "metadata": {},
     "output_type": "execute_result"
    }
   ],
   "source": [
    "def matching_fruit(fruits, fruits_dict) :\n",
    "    return [i for i in f if i in list(f_dict.values())]\n",
    "\n",
    "matching_fruit(f, f_dict)"
   ]
  },
  {
   "cell_type": "markdown",
   "id": "b2f8f423-a402-4a51-8f7b-663d2459de48",
   "metadata": {
    "jp-MarkdownHeadingCollapsed": true,
    "tags": []
   },
   "source": [
    "## Answer 1 - for"
   ]
  },
  {
   "cell_type": "code",
   "execution_count": 10,
   "id": "7bec9c67-f9cb-48a7-a7bd-b22373a2bf39",
   "metadata": {},
   "outputs": [
    {
     "data": {
      "text/plain": [
       "['apple', 'banana', 'cherry']"
      ]
     },
     "execution_count": 10,
     "metadata": {},
     "output_type": "execute_result"
    }
   ],
   "source": [
    "def matched_elements1(e_list, e_dict) :\n",
    "    elements = []\n",
    "    for i in e_list :\n",
    "        if i in e_dict.values() :\n",
    "            elements.append(i)\n",
    "    return elements\n",
    "\n",
    "matched_elements1(f, f_dict)"
   ]
  },
  {
   "cell_type": "markdown",
   "id": "e519285d-3a22-49f4-9530-39d227142437",
   "metadata": {
    "jp-MarkdownHeadingCollapsed": true,
    "tags": []
   },
   "source": [
    "## Answer 2 - filter, lambda"
   ]
  },
  {
   "cell_type": "code",
   "execution_count": 11,
   "id": "5c429856-e8cb-4772-b664-a9690ff4f5bb",
   "metadata": {},
   "outputs": [
    {
     "data": {
      "text/plain": [
       "['apple', 'banana', 'cherry']"
      ]
     },
     "execution_count": 11,
     "metadata": {},
     "output_type": "execute_result"
    }
   ],
   "source": [
    "def matched_elements2(e_list, e_dict) :\n",
    "    return list(filter(lambda x : x in e_dict.values(), e_list))\n",
    "\n",
    "matched_elements2(f, f_dict)"
   ]
  },
  {
   "cell_type": "markdown",
   "id": "bc182dd6-8bb0-47f7-b73b-ce325cbcae97",
   "metadata": {
    "jp-MarkdownHeadingCollapsed": true,
    "tags": []
   },
   "source": [
    "# 4번\n",
    "문자열을 입력받아 해당 문자열에 대문자, 소문자, 숫자가 각각 몇개씩 있는지 출력하는 함수를 작성하세요.  \n",
    "만약 입력된 문자열이 없으면 '문자열이 입력되지 않았습니다.'라는 문장을 출력하세요.  \n",
    "* isupper() : 해당 문자가 대문자인지 여부를 판별\n",
    "* islower() : 해당 문자가 소문자인지 여부를 판별\n",
    "* isdigit() : 해당 문자가 숫자인지 여부를 판별"
   ]
  },
  {
   "cell_type": "markdown",
   "id": "137ed72a-e91f-40d6-bc7f-c533db56db30",
   "metadata": {
    "jp-MarkdownHeadingCollapsed": true,
    "tags": []
   },
   "source": [
    "## My Answer"
   ]
  },
  {
   "cell_type": "code",
   "execution_count": 12,
   "id": "b11e47f7-7b13-4f23-a32b-ef32fadebbda",
   "metadata": {},
   "outputs": [
    {
     "name": "stdin",
     "output_type": "stream",
     "text": [
      "문자열을 입력하시오 :  LeeChan950402\n"
     ]
    },
    {
     "name": "stdout",
     "output_type": "stream",
     "text": [
      "대문자 : 2, 소문자 : 5, 숫자 : 6\n"
     ]
    }
   ],
   "source": [
    "def count_string(str) :\n",
    "    S = 0;s = 0;n = 0\n",
    "    for i in list(string) :\n",
    "        if i.isupper() == True :\n",
    "            S += 1\n",
    "        elif i.islower() == True :\n",
    "            s += 1\n",
    "        elif i.isdigit() == True :\n",
    "            n += 1\n",
    "    print('대문자 : {}, 소문자 : {}, 숫자 : {}'.format(S, s, n)) \n",
    "    \n",
    "string = input('문자열을 입력하시오 : ')\n",
    "count_string(string)"
   ]
  },
  {
   "cell_type": "markdown",
   "id": "56a8c381-4212-42ef-9b7e-55721c687ced",
   "metadata": {
    "jp-MarkdownHeadingCollapsed": true,
    "tags": []
   },
   "source": [
    "## Answer"
   ]
  },
  {
   "cell_type": "code",
   "execution_count": 13,
   "id": "564d3785-cd3c-4924-b0fe-e8a4fe2a319e",
   "metadata": {},
   "outputs": [
    {
     "name": "stdin",
     "output_type": "stream",
     "text": [
      "문자열을 입력하시오 :  LeeChan950402\n"
     ]
    },
    {
     "name": "stdout",
     "output_type": "stream",
     "text": [
      "대문자 : 2, 소문자 : 5, 숫자 : 6\n"
     ]
    }
   ],
   "source": [
    "def count_characters(c):\n",
    "    if string :\n",
    "        upper_count = 0\n",
    "        lower_count = 0\n",
    "        digit_count = 0\n",
    "        for c in string :\n",
    "            if c.isupper() :\n",
    "                upper_count += 1\n",
    "            elif c.islower() :\n",
    "                lower_count += 1\n",
    "            elif c.isdigit() :\n",
    "                digit_count += 1\n",
    "        print('대문자 : {}, 소문자 : {}, 숫자 : {}'.format(upper_count, lower_count, digit_count))\n",
    "    else :\n",
    "        print('문자열이 입력되지 않았습니다.')\n",
    "        \n",
    "string = input('문자열을 입력하시오 : ')\n",
    "count_characters(string)"
   ]
  },
  {
   "cell_type": "markdown",
   "id": "afe6fd86-5e90-4953-b642-c8557ede2887",
   "metadata": {
    "jp-MarkdownHeadingCollapsed": true,
    "tags": []
   },
   "source": [
    "# 5번\n",
    "아래 리스트에 존재하는 문자열 중에서 가장 긴 문자열을 찾는 프로그램을 작성하세요.  \n",
    "먼저 LongestStringFinder라는 클래스를 정의합니다.  \n",
    "이 클래스는 find_longest_string()이라는 멤버 함수를 가집니다.  \n",
    "이 함수가 반환하는 값이 바로 가장 큰 문자열입니다.  "
   ]
  },
  {
   "cell_type": "code",
   "execution_count": 14,
   "id": "633076c7-4400-4619-9fc5-63d91765759f",
   "metadata": {},
   "outputs": [],
   "source": [
    "str_list = ['apple','banana','orange','grapefruit','pear']"
   ]
  },
  {
   "cell_type": "markdown",
   "id": "a058ab5c-d7e0-4ed3-9ddf-5a15237d9da9",
   "metadata": {
    "jp-MarkdownHeadingCollapsed": true,
    "tags": []
   },
   "source": [
    "## My Answer"
   ]
  },
  {
   "cell_type": "code",
   "execution_count": 15,
   "id": "95a4c968-b9fd-4524-97aa-dace29893996",
   "metadata": {},
   "outputs": [
    {
     "data": {
      "text/plain": [
       "'grapefruit'"
      ]
     },
     "execution_count": 15,
     "metadata": {},
     "output_type": "execute_result"
    }
   ],
   "source": [
    "class LongestStringFinder :\n",
    "    def find_longest_string(self, string_list) :\n",
    "        return string_list[[len(i) for i in string_list].index(max([len(i) for i in string_list]))]\n",
    "\n",
    "model = LongestStringFinder()\n",
    "model.find_longest_string(str_list)"
   ]
  },
  {
   "cell_type": "markdown",
   "id": "73ecd0b1-4706-475e-bd3d-76a013e7a6b3",
   "metadata": {
    "jp-MarkdownHeadingCollapsed": true,
    "tags": []
   },
   "source": [
    "## Answer"
   ]
  },
  {
   "cell_type": "code",
   "execution_count": 16,
   "id": "9c3983e7-0208-46e9-97c2-6460bc7da531",
   "metadata": {},
   "outputs": [
    {
     "data": {
      "text/plain": [
       "'grapefruit'"
      ]
     },
     "execution_count": 16,
     "metadata": {},
     "output_type": "execute_result"
    }
   ],
   "source": [
    "class LongestStringFinder :\n",
    "    def find_longest_string(self, string_list) :\n",
    "        longest_string = ''\n",
    "        for string in string_list :\n",
    "            if len(string) > len(longest_string) :\n",
    "                longest_string = string\n",
    "        return longest_string\n",
    "    \n",
    "model = LongestStringFinder()\n",
    "model.find_longest_string(str_list)"
   ]
  },
  {
   "cell_type": "markdown",
   "id": "a39aad6c-acea-4309-a754-de7307ac09a3",
   "metadata": {
    "jp-MarkdownHeadingCollapsed": true,
    "tags": []
   },
   "source": [
    "# 6번\n",
    "계산기 클래스틑 정의하고, 이를 이용하여 계산기 프로그램을 작성하세요."
   ]
  },
  {
   "cell_type": "markdown",
   "id": "36fa6c5c-ebe7-435e-abad-5a541eb25595",
   "metadata": {
    "jp-MarkdownHeadingCollapsed": true,
    "tags": []
   },
   "source": [
    "## My Answer"
   ]
  },
  {
   "cell_type": "code",
   "execution_count": 17,
   "id": "b9525a99-8126-46cc-9940-f8a0ae03c152",
   "metadata": {},
   "outputs": [],
   "source": [
    "class Calculator :\n",
    "    \n",
    "    # 생성자\n",
    "    def __init__(self, result = 0) :\n",
    "        self.__result = result\n",
    "        \n",
    "    # 덧셈\n",
    "    def add(self, num) :\n",
    "        self.__result += num\n",
    "        print('결과 : {}'.format(self.__result))\n",
    "        return self.__result\n",
    "    \n",
    "    # 뺄셈\n",
    "    def subtract(self, num) :\n",
    "        self.__result -= num\n",
    "        print('결과 : {}'.format(self.__result))\n",
    "        return self.__result\n",
    "    \n",
    "    # 곱셈\n",
    "    def multiple(self, num) :\n",
    "        self.__result *= num\n",
    "        print('결과 : {}'.format(self.__result))\n",
    "        return self.__result\n",
    "    \n",
    "    # 나눗셈\n",
    "    def divide(self, num) :\n",
    "        self.__result /= num\n",
    "        print('결과 : {}'.format(self.__result))\n",
    "        return self.__result"
   ]
  },
  {
   "cell_type": "code",
   "execution_count": 19,
   "id": "67fc439b-c6ee-4576-aebb-5f18596f82b9",
   "metadata": {},
   "outputs": [
    {
     "name": "stdout",
     "output_type": "stream",
     "text": [
      "1. 덧셈\n",
      "2. 뺄셈\n",
      "3. 곱셈\n",
      "4. 나눗셈\n",
      "5. 종료\n"
     ]
    },
    {
     "name": "stdin",
     "output_type": "stream",
     "text": [
      "원하는 작업을 입력하시오 :  1\n",
      "숫자를 입력하시오 :  5\n"
     ]
    },
    {
     "name": "stdout",
     "output_type": "stream",
     "text": [
      "결과 : 5\n",
      "\n",
      "1. 덧셈\n",
      "2. 뺄셈\n",
      "3. 곱셈\n",
      "4. 나눗셈\n",
      "5. 종료\n"
     ]
    },
    {
     "name": "stdin",
     "output_type": "stream",
     "text": [
      "원하는 작업을 입력하시오 :  2\n",
      "숫자를 입력하시오 :  2\n"
     ]
    },
    {
     "name": "stdout",
     "output_type": "stream",
     "text": [
      "결과 : 3\n",
      "\n",
      "1. 덧셈\n",
      "2. 뺄셈\n",
      "3. 곱셈\n",
      "4. 나눗셈\n",
      "5. 종료\n"
     ]
    },
    {
     "name": "stdin",
     "output_type": "stream",
     "text": [
      "원하는 작업을 입력하시오 :  3\n",
      "숫자를 입력하시오 :  -1\n"
     ]
    },
    {
     "name": "stdout",
     "output_type": "stream",
     "text": [
      "결과 : -3\n",
      "\n",
      "1. 덧셈\n",
      "2. 뺄셈\n",
      "3. 곱셈\n",
      "4. 나눗셈\n",
      "5. 종료\n"
     ]
    },
    {
     "name": "stdin",
     "output_type": "stream",
     "text": [
      "원하는 작업을 입력하시오 :  22\n"
     ]
    },
    {
     "name": "stdout",
     "output_type": "stream",
     "text": [
      "다시 입력하시오.\n",
      "\n",
      "1. 덧셈\n",
      "2. 뺄셈\n",
      "3. 곱셈\n",
      "4. 나눗셈\n",
      "5. 종료\n"
     ]
    },
    {
     "name": "stdin",
     "output_type": "stream",
     "text": [
      "원하는 작업을 입력하시오 :  5\n"
     ]
    },
    {
     "name": "stdout",
     "output_type": "stream",
     "text": [
      "프로그램을 종료하겠습니다.\n"
     ]
    }
   ],
   "source": [
    "model = Calculator()\n",
    "\n",
    "while True :\n",
    "    print('1. 덧셈\\n2. 뺄셈\\n3. 곱셈\\n4. 나눗셈\\n5. 종료')\n",
    "    work = int(input('원하는 작업을 입력하시오 : '))\n",
    "    \n",
    "    if work == 5 :\n",
    "        print('프로그램을 종료하겠습니다.')\n",
    "        break\n",
    "    \n",
    "    elif work >= 1 and work <= 4 :\n",
    "        number = int(input('숫자를 입력하시오 : '))\n",
    "\n",
    "        if work == 1 :\n",
    "            model.add(number)\n",
    "        elif work == 2 :\n",
    "            model.subtract(number)\n",
    "        elif work == 3 :\n",
    "            model.multiple(number)\n",
    "        elif work == 4 :\n",
    "            model.divide(number)\n",
    "\n",
    "        print('')\n",
    "        \n",
    "    else :\n",
    "        print('다시 입력하시오.')\n",
    "        print('')\n",
    "        pass"
   ]
  },
  {
   "cell_type": "markdown",
   "id": "adfc967c-2fc5-4bec-9875-a2fe50232444",
   "metadata": {
    "jp-MarkdownHeadingCollapsed": true,
    "tags": []
   },
   "source": [
    "## Answer"
   ]
  },
  {
   "cell_type": "code",
   "execution_count": 20,
   "id": "d3c952fa-f694-416a-bbad-dfab8369dfeb",
   "metadata": {},
   "outputs": [],
   "source": [
    "class Calculator :\n",
    "    \n",
    "    # 생성자\n",
    "    def __init__(self, result = 0) :\n",
    "        self.__result = result\n",
    "        \n",
    "        while True :\n",
    "            print('1. 덧셈\\n2. 뺄셈\\n3. 곱셈\\n4. 나눗셈\\n5. 종료')\n",
    "            work = int(input('원하는 작업을 입력하시오 : '))\n",
    "\n",
    "            if work == 5 : \n",
    "                print('프로그램을 종료하겠습니다.')\n",
    "                break\n",
    "\n",
    "            elif work >= 1 and work <= 4 : \n",
    "                number = int(input('숫자를 입력하시오 : '))\n",
    "\n",
    "                if work == 1 : model.add(number)\n",
    "                elif work == 2 : model.subtract(number)\n",
    "                elif work == 3 : model.multiple(number)\n",
    "                elif work == 4 : model.divide(number)\n",
    "                print('')\n",
    "\n",
    "            else :\n",
    "                print('다시 입력하시오.')\n",
    "                print('')\n",
    "                pass\n",
    "        \n",
    "    # 덧셈\n",
    "    def add(self, num) :\n",
    "        self.__result += num\n",
    "        print('결과 : {}'.format(self.__result))\n",
    "        return self.__result\n",
    "    \n",
    "    # 뺄셈\n",
    "    def subtract(self, num) :\n",
    "        self.__result -= num\n",
    "        print('결과 : {}'.format(self.__result))\n",
    "        return self.__result\n",
    "    \n",
    "    # 곱셈\n",
    "    def multiple(self, num) :\n",
    "        self.__result *= num\n",
    "        print('결과 : {}'.format(self.__result))\n",
    "        return self.__result\n",
    "    \n",
    "    # 나눗셈\n",
    "    def divide(self, num) :\n",
    "        self.__result /= num\n",
    "        print('결과 : {}'.format(self.__result))\n",
    "        return self.__result"
   ]
  },
  {
   "cell_type": "code",
   "execution_count": 21,
   "id": "1c364755-a105-4ddb-b160-c4fdb80fdc4c",
   "metadata": {},
   "outputs": [
    {
     "name": "stdout",
     "output_type": "stream",
     "text": [
      "1. 덧셈\n",
      "2. 뺄셈\n",
      "3. 곱셈\n",
      "4. 나눗셈\n",
      "5. 종료\n"
     ]
    },
    {
     "name": "stdin",
     "output_type": "stream",
     "text": [
      "원하는 작업을 입력하시오 :  1\n",
      "숫자를 입력하시오 :  5\n"
     ]
    },
    {
     "name": "stdout",
     "output_type": "stream",
     "text": [
      "결과 : 2\n",
      "\n",
      "1. 덧셈\n",
      "2. 뺄셈\n",
      "3. 곱셈\n",
      "4. 나눗셈\n",
      "5. 종료\n"
     ]
    },
    {
     "name": "stdin",
     "output_type": "stream",
     "text": [
      "원하는 작업을 입력하시오 :  2\n",
      "숫자를 입력하시오 :  2\n"
     ]
    },
    {
     "name": "stdout",
     "output_type": "stream",
     "text": [
      "결과 : 0\n",
      "\n",
      "1. 덧셈\n",
      "2. 뺄셈\n",
      "3. 곱셈\n",
      "4. 나눗셈\n",
      "5. 종료\n"
     ]
    },
    {
     "name": "stdin",
     "output_type": "stream",
     "text": [
      "원하는 작업을 입력하시오 :  3\n",
      "숫자를 입력하시오 :  -1\n"
     ]
    },
    {
     "name": "stdout",
     "output_type": "stream",
     "text": [
      "결과 : 0\n",
      "\n",
      "1. 덧셈\n",
      "2. 뺄셈\n",
      "3. 곱셈\n",
      "4. 나눗셈\n",
      "5. 종료\n"
     ]
    },
    {
     "name": "stdin",
     "output_type": "stream",
     "text": [
      "원하는 작업을 입력하시오 :  22\n"
     ]
    },
    {
     "name": "stdout",
     "output_type": "stream",
     "text": [
      "다시 입력하시오.\n",
      "\n",
      "1. 덧셈\n",
      "2. 뺄셈\n",
      "3. 곱셈\n",
      "4. 나눗셈\n",
      "5. 종료\n"
     ]
    },
    {
     "name": "stdin",
     "output_type": "stream",
     "text": [
      "원하는 작업을 입력하시오 :  5\n"
     ]
    },
    {
     "name": "stdout",
     "output_type": "stream",
     "text": [
      "프로그램을 종료하겠습니다.\n"
     ]
    }
   ],
   "source": [
    "model = Calculator()"
   ]
  },
  {
   "cell_type": "code",
   "execution_count": null,
   "id": "93b0b986-72b2-4188-8115-2bd0c313600b",
   "metadata": {},
   "outputs": [],
   "source": []
  }
 ],
 "metadata": {
  "kernelspec": {
   "display_name": "Python 3 (ipykernel)",
   "language": "python",
   "name": "python3"
  },
  "language_info": {
   "codemirror_mode": {
    "name": "ipython",
    "version": 3
   },
   "file_extension": ".py",
   "mimetype": "text/x-python",
   "name": "python",
   "nbconvert_exporter": "python",
   "pygments_lexer": "ipython3",
   "version": "3.9.7"
  }
 },
 "nbformat": 4,
 "nbformat_minor": 5
}
