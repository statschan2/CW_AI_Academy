{
 "cells": [
  {
   "cell_type": "markdown",
   "id": "171f20e3-320f-4373-9ecf-ccceb2745f01",
   "metadata": {},
   "source": [
    "# Chapter 2. Numpy - 배열 조작과 인덱싱"
   ]
  },
  {
   "cell_type": "markdown",
   "id": "8eaa6a38-deb7-4830-96e9-680c6b2be803",
   "metadata": {
    "jp-MarkdownHeadingCollapsed": true,
    "tags": []
   },
   "source": [
    "# 1. Numpy 개요\n",
    "* Numpy는 대용량 배열과 행렬 연산에 대한 고속 연산을 지원하는 라이브러리\n",
    "* 딥러닝에 입력으로 들어가는 이미지는 4차원 데이터(Batch-size, 높이, 너비, 채널 수)\n",
    "* Numpy는 벡터화 계산으로 속도가 매우 빠르고, 시간을 많이 단축할 수 있어 대용량 데이터 처리에 유용하다."
   ]
  },
  {
   "cell_type": "code",
   "execution_count": 1,
   "id": "e5d6f997-490f-4448-9f25-3f7958bf8964",
   "metadata": {},
   "outputs": [],
   "source": [
    "import numpy as np"
   ]
  },
  {
   "cell_type": "markdown",
   "id": "6fd7a66f-80a8-47c0-b2bf-fb165f1b5d8c",
   "metadata": {
    "jp-MarkdownHeadingCollapsed": true,
    "tags": []
   },
   "source": [
    "## 예시"
   ]
  },
  {
   "cell_type": "code",
   "execution_count": 2,
   "id": "b6f8cb4d-908c-4387-8fa8-ad0dea9f6534",
   "metadata": {},
   "outputs": [],
   "source": [
    "import time"
   ]
  },
  {
   "cell_type": "markdown",
   "id": "c95856b0-0796-44a4-abd2-41aa3cbb90dd",
   "metadata": {
    "jp-MarkdownHeadingCollapsed": true,
    "tags": []
   },
   "source": [
    "### 반복문 연산 예시"
   ]
  },
  {
   "cell_type": "code",
   "execution_count": 3,
   "id": "74aaacc9-e6bc-411e-a5b5-d5c9ecbe61fa",
   "metadata": {},
   "outputs": [
    {
     "name": "stdout",
     "output_type": "stream",
     "text": [
      "0.2573378086090088\n"
     ]
    }
   ],
   "source": [
    "start_time = time.time()\n",
    "\n",
    "num = range(1,1000000)\n",
    "s = []\n",
    "\n",
    "for i in num :\n",
    "    s.append(i**2)\n",
    "    \n",
    "end_time = time.time()\n",
    "\n",
    "print(end_time - start_time)"
   ]
  },
  {
   "cell_type": "markdown",
   "id": "eb260b2d-85f2-43a7-a39a-f866793fb4ee",
   "metadata": {
    "jp-MarkdownHeadingCollapsed": true,
    "tags": []
   },
   "source": [
    "### Numpy 연산 예시"
   ]
  },
  {
   "cell_type": "code",
   "execution_count": 4,
   "id": "82122cf9-339c-4753-9adb-965f309e361d",
   "metadata": {},
   "outputs": [
    {
     "name": "stdout",
     "output_type": "stream",
     "text": [
      "0.00897669792175293\n"
     ]
    }
   ],
   "source": [
    "start_time = time.time()\n",
    "\n",
    "num = np.arange(1,1000000)\n",
    "s = np.square(num)\n",
    "\n",
    "end_time = time.time()\n",
    "\n",
    "print(end_time - start_time)"
   ]
  },
  {
   "cell_type": "markdown",
   "id": "93d53e7b-ece6-417c-bbaf-9cc8abed64f3",
   "metadata": {},
   "source": [
    "* 반복문 연산과 Numpy 연산의 속도에는 아주 큰 차이가 있는 것을 확인할 수 있다."
   ]
  },
  {
   "cell_type": "markdown",
   "id": "0be7aedd-d741-4513-9daa-142977722974",
   "metadata": {
    "jp-MarkdownHeadingCollapsed": true,
    "tags": []
   },
   "source": [
    "# 2. Dimension (차원)"
   ]
  },
  {
   "cell_type": "markdown",
   "id": "51c63d25-c34c-4484-a914-3a9ca717e106",
   "metadata": {
    "jp-MarkdownHeadingCollapsed": true,
    "tags": []
   },
   "source": [
    "## 1차원 배열"
   ]
  },
  {
   "cell_type": "code",
   "execution_count": 5,
   "id": "9d898b10-ffc1-4c5d-83f4-5829d6b70847",
   "metadata": {},
   "outputs": [
    {
     "data": {
      "text/plain": [
       "array([1, 2, 3, 4, 5])"
      ]
     },
     "execution_count": 5,
     "metadata": {},
     "output_type": "execute_result"
    }
   ],
   "source": [
    "arr1 = np.array([1,2,3,4,5])\n",
    "arr1"
   ]
  },
  {
   "cell_type": "code",
   "execution_count": 6,
   "id": "657af21e-98ab-44f0-b84d-7d4dde2df37e",
   "metadata": {},
   "outputs": [
    {
     "name": "stdout",
     "output_type": "stream",
     "text": [
      "배열 형태 : (5,)\n",
      "배열 차원 : 1\n",
      "배열 내부 원소의 자료형 : int32\n",
      "배열 내부 원소의 크기 : 4\n",
      "배열 내부 원소의 개수 : 5\n"
     ]
    }
   ],
   "source": [
    "print('배열 형태 :',arr1.shape)\n",
    "print('배열 차원 :',arr1.ndim)\n",
    "print('배열 내부 원소의 자료형 :',arr1.dtype)\n",
    "print('배열 내부 원소의 크기 :',arr1.itemsize)\n",
    "print('배열 내부 원소의 개수 :',arr1.size)"
   ]
  },
  {
   "cell_type": "markdown",
   "id": "c7e8b12e-8b07-4d85-82a7-67b29d2db953",
   "metadata": {
    "jp-MarkdownHeadingCollapsed": true,
    "tags": []
   },
   "source": [
    "## 2차원 배열 \n",
    "* np.array( [ [ ] ] ) : [ ] 괄호(대괄호)의 개수를 보고 차원을 알 수 있다."
   ]
  },
  {
   "cell_type": "code",
   "execution_count": 7,
   "id": "352590ab-2c26-4466-b19b-85d2a9ac1996",
   "metadata": {},
   "outputs": [
    {
     "data": {
      "text/plain": [
       "array([[1],\n",
       "       [2],\n",
       "       [3],\n",
       "       [4],\n",
       "       [5]])"
      ]
     },
     "execution_count": 7,
     "metadata": {},
     "output_type": "execute_result"
    }
   ],
   "source": [
    "arr2 = np.array([[1],[2],[3],[4],[5]])\n",
    "arr2"
   ]
  },
  {
   "cell_type": "code",
   "execution_count": 8,
   "id": "1141d36e-cf11-421c-af41-566197739f6d",
   "metadata": {},
   "outputs": [
    {
     "name": "stdout",
     "output_type": "stream",
     "text": [
      "배열 형태 : (5, 1)\n",
      "배열 차원 : 2\n",
      "배열 내부 원소의 자료형 : int32\n",
      "배열 내부 원소의 크기 : 4\n",
      "배열 내부 원소의 개수 : 5\n"
     ]
    }
   ],
   "source": [
    "print('배열 형태 :',arr2.shape)\n",
    "print('배열 차원 :',arr2.ndim)\n",
    "print('배열 내부 원소의 자료형 :',arr2.dtype)\n",
    "print('배열 내부 원소의 크기 :',arr2.itemsize)\n",
    "print('배열 내부 원소의 개수 :',arr2.size)"
   ]
  },
  {
   "cell_type": "markdown",
   "id": "e5700caf-4d93-45f8-b6cf-12d8324e0dfd",
   "metadata": {
    "jp-MarkdownHeadingCollapsed": true,
    "tags": []
   },
   "source": [
    "### 예제\n",
    "( 3, 3 ) 형태의 배열을 만들고 형태, 차원수, 내부 원소의 자료형, 원소의 크기, 내부 원소의 개수를 출력하는 코드를 작성하세요."
   ]
  },
  {
   "cell_type": "code",
   "execution_count": 9,
   "id": "168d4939-c372-4ded-b8dd-2edccb9010b9",
   "metadata": {
    "tags": []
   },
   "outputs": [
    {
     "name": "stdout",
     "output_type": "stream",
     "text": [
      "배열 형태 : (3, 3)\n",
      "배열 차원 : 2\n",
      "배열 내부 원소의 자료형 : int32\n",
      "배열 내부 원소의 크기 : 4\n",
      "배열 내부 원소의 개수 : 9\n"
     ]
    }
   ],
   "source": [
    "arr = np.array([[1, 2, 3],\n",
    "                [4, 5, 6],\n",
    "                [7, 8, 9]])\n",
    "\n",
    "print('배열 형태 :',arr.shape)\n",
    "print('배열 차원 :',arr.ndim)\n",
    "print('배열 내부 원소의 자료형 :',arr.dtype)\n",
    "print('배열 내부 원소의 크기 :',arr.itemsize)\n",
    "print('배열 내부 원소의 개수 :',arr.size)"
   ]
  },
  {
   "cell_type": "markdown",
   "id": "8f8ac224-ae98-4dbd-bfe7-04e9de42aee8",
   "metadata": {
    "jp-MarkdownHeadingCollapsed": true,
    "tags": []
   },
   "source": [
    "## 3차원 배열"
   ]
  },
  {
   "cell_type": "code",
   "execution_count": 10,
   "id": "0dc4f609-6232-4ec0-b322-f0a28ad14908",
   "metadata": {},
   "outputs": [
    {
     "data": {
      "text/plain": [
       "(2, 2, 2)"
      ]
     },
     "execution_count": 10,
     "metadata": {},
     "output_type": "execute_result"
    }
   ],
   "source": [
    "arr3 = np.array([[[1,2],[3,4]],\n",
    "                 [[5,6],[7,8]]])\n",
    "arr3.shape"
   ]
  },
  {
   "cell_type": "code",
   "execution_count": 11,
   "id": "5d8caa40-7032-404f-bac7-cb1c43c61269",
   "metadata": {},
   "outputs": [
    {
     "name": "stdout",
     "output_type": "stream",
     "text": [
      "배열 :\n",
      " [[[1 2]\n",
      "  [4 3]\n",
      "  [7 4]]\n",
      "\n",
      " [[2 3]\n",
      "  [9 0]\n",
      "  [7 5]]\n",
      "\n",
      " [[1 2]\n",
      "  [3 4]\n",
      "  [0 2]]\n",
      "\n",
      " [[9 0]\n",
      "  [6 7]\n",
      "  [9 8]]]\n",
      "\n",
      "배열 형태 : (4, 3, 2)\n",
      "배열 차원 : 3\n",
      "배열 내부 원소의 자료형 : int32\n",
      "배열 내부 원소의 크기 : 4\n",
      "배열 내부 원소의 개수 : 24\n"
     ]
    }
   ],
   "source": [
    "arr3 = np.array([[[1,2],[4,3],[7,4]],\n",
    "                 [[2,3],[9,0],[7,5]],\n",
    "                 [[1,2],[3,4],[0,2]],\n",
    "                 [[9,0],[6,7],[9,8]]])\n",
    "\n",
    "print('배열 :\\n', arr3)\n",
    "print('\\n배열 형태 :',arr3.shape)\n",
    "print('배열 차원 :',arr3.ndim)\n",
    "print('배열 내부 원소의 자료형 :',arr3.dtype)\n",
    "print('배열 내부 원소의 크기 :',arr3.itemsize)\n",
    "print('배열 내부 원소의 개수 :',arr3.size)"
   ]
  },
  {
   "cell_type": "markdown",
   "id": "ab97630f-f380-4f26-b994-3ae51562ce0d",
   "metadata": {
    "jp-MarkdownHeadingCollapsed": true,
    "tags": []
   },
   "source": [
    "# 3. Function 1 (함수)"
   ]
  },
  {
   "cell_type": "markdown",
   "id": "455a7d3f-524a-4017-b108-398e1b3bfbd1",
   "metadata": {
    "jp-MarkdownHeadingCollapsed": true,
    "tags": []
   },
   "source": [
    "## np.zero\n",
    "* 배열 전체를 0으로 채우기"
   ]
  },
  {
   "cell_type": "code",
   "execution_count": 12,
   "id": "9153b26a-4dcf-4353-95c6-1eabb43683c7",
   "metadata": {},
   "outputs": [
    {
     "data": {
      "text/plain": [
       "array([[[0, 0],\n",
       "        [0, 0],\n",
       "        [0, 0]],\n",
       "\n",
       "       [[0, 0],\n",
       "        [0, 0],\n",
       "        [0, 0]],\n",
       "\n",
       "       [[0, 0],\n",
       "        [0, 0],\n",
       "        [0, 0]],\n",
       "\n",
       "       [[0, 0],\n",
       "        [0, 0],\n",
       "        [0, 0]]])"
      ]
     },
     "execution_count": 12,
     "metadata": {},
     "output_type": "execute_result"
    }
   ],
   "source": [
    "arr_zero = np.zeros((4,3,2), dtype = int)\n",
    "arr_zero"
   ]
  },
  {
   "cell_type": "markdown",
   "id": "b0210477-efb6-44da-aa76-6b88c9ae51a9",
   "metadata": {},
   "source": [
    "* 1차원 내부 값 개수 : 2\n",
    "* 2차원 내부 값 개수 : 3\n",
    "* 3차원 내부 값 개수 : 4"
   ]
  },
  {
   "cell_type": "markdown",
   "id": "2add1968-09f1-4420-8e26-ed1ddcdb47cf",
   "metadata": {
    "jp-MarkdownHeadingCollapsed": true,
    "tags": []
   },
   "source": [
    "## np.ones\n",
    "* 배열 전체를 1으로 채우기"
   ]
  },
  {
   "cell_type": "code",
   "execution_count": 13,
   "id": "2c9daf20-8cf5-4766-98e0-e61ebfcbfdf1",
   "metadata": {},
   "outputs": [
    {
     "data": {
      "text/plain": [
       "array([[['1', '1', '1'],\n",
       "        ['1', '1', '1']],\n",
       "\n",
       "       [['1', '1', '1'],\n",
       "        ['1', '1', '1']]], dtype='<U1')"
      ]
     },
     "execution_count": 13,
     "metadata": {},
     "output_type": "execute_result"
    }
   ],
   "source": [
    "arr_ones = np.ones((2,2,3), dtype = str)\n",
    "arr_ones"
   ]
  },
  {
   "cell_type": "markdown",
   "id": "59355893-87db-4c7c-84aa-2c3db392601b",
   "metadata": {},
   "source": [
    "* 1차원 내부 값 개수 : 3\n",
    "* 2차원 내부 값 개수 : 2\n",
    "* 3차원 내부 값 개수 : 2"
   ]
  },
  {
   "cell_type": "markdown",
   "id": "7f1c6060-335e-4266-ae86-7e5195518ee3",
   "metadata": {
    "jp-MarkdownHeadingCollapsed": true,
    "tags": []
   },
   "source": [
    "## np.full\n",
    "* 배열 전체를 특정 값으로 채우기"
   ]
  },
  {
   "cell_type": "code",
   "execution_count": 14,
   "id": "f48d45bd-7618-4418-af3d-d20edb94a7a9",
   "metadata": {},
   "outputs": [
    {
     "data": {
      "text/plain": [
       "array([[[1, 1, 1],\n",
       "        [1, 1, 1],\n",
       "        [1, 1, 1]],\n",
       "\n",
       "       [[1, 1, 1],\n",
       "        [1, 1, 1],\n",
       "        [1, 1, 1]]])"
      ]
     },
     "execution_count": 14,
     "metadata": {},
     "output_type": "execute_result"
    }
   ],
   "source": [
    "# 배열 전체를 1으로 채우기\n",
    "arr_full = np.full((2,3,3),1)\n",
    "arr_full"
   ]
  },
  {
   "cell_type": "markdown",
   "id": "43c0cac4-2576-4230-9368-9ac986239f0d",
   "metadata": {},
   "source": [
    "* 1차원 내부 값 개수 : 3\n",
    "* 2차원 내부 값 개수 : 3\n",
    "* 3차원 내부 값 개수 : 2"
   ]
  },
  {
   "cell_type": "markdown",
   "id": "bff81f95-5cc9-4760-ab00-1970c1679596",
   "metadata": {
    "jp-MarkdownHeadingCollapsed": true,
    "tags": []
   },
   "source": [
    "## np.arange\n",
    "* 지정된 범위 내에서 지정된 간격으로 일정한 값의 배열을 생성\n",
    "* arange는 반드시 1차원 배열"
   ]
  },
  {
   "cell_type": "code",
   "execution_count": 15,
   "id": "a305d5ec-0e61-4192-92ee-600718a22f26",
   "metadata": {},
   "outputs": [
    {
     "data": {
      "text/plain": [
       "array([0, 1, 2, 3, 4, 5, 6, 7, 8, 9])"
      ]
     },
     "execution_count": 15,
     "metadata": {},
     "output_type": "execute_result"
    }
   ],
   "source": [
    "# 예시 1\n",
    "arr_arange1 = np.arange(10)\n",
    "arr_arange1"
   ]
  },
  {
   "cell_type": "code",
   "execution_count": 16,
   "id": "3f024c54-10a5-45e8-a973-496b7b65e321",
   "metadata": {},
   "outputs": [
    {
     "data": {
      "text/plain": [
       "array([1, 3, 5, 7, 9])"
      ]
     },
     "execution_count": 16,
     "metadata": {},
     "output_type": "execute_result"
    }
   ],
   "source": [
    "# 예시 2\n",
    "arr_arange2 = np.arange(1,10,2)\n",
    "arr_arange2"
   ]
  },
  {
   "cell_type": "markdown",
   "id": "bf5fe1ae-5b0e-403a-a4c1-f1f56a0a2971",
   "metadata": {
    "jp-MarkdownHeadingCollapsed": true,
    "tags": []
   },
   "source": [
    "## np.reshape\n",
    "* 배열의 형태를 변경\n",
    "* 각 차원의 수를 곱한 값은 항상 일정해야 함"
   ]
  },
  {
   "cell_type": "code",
   "execution_count": 17,
   "id": "1b44aadb-18a2-4cd8-a283-aecc7fed4d5a",
   "metadata": {},
   "outputs": [
    {
     "data": {
      "text/plain": [
       "array([[0, 1, 2, 3, 4],\n",
       "       [5, 6, 7, 8, 9]])"
      ]
     },
     "execution_count": 17,
     "metadata": {},
     "output_type": "execute_result"
    }
   ],
   "source": [
    "# 1차원 배열을 2차원 배열로 변경\n",
    "arr = np.array([0,1,2,3,4,5,6,7,8,9])\n",
    "\n",
    "arr_reshape = arr_arange1.reshape(2,5)\n",
    "arr_reshape"
   ]
  },
  {
   "cell_type": "markdown",
   "id": "bc098c11-fa8b-488c-b1a5-3cb784cd6cfe",
   "metadata": {
    "jp-MarkdownHeadingCollapsed": true,
    "tags": []
   },
   "source": [
    "## np.linspace\n",
    "* 지정된 범위에서 지정된 개수만큼 동일한 간격으로 일정한 값의 배열을 생성"
   ]
  },
  {
   "cell_type": "code",
   "execution_count": 18,
   "id": "3a5e62a6-8bf6-4da6-8cc5-422267aef785",
   "metadata": {},
   "outputs": [
    {
     "data": {
      "text/plain": [
       "array([0.  , 0.25, 0.5 , 0.75, 1.  ])"
      ]
     },
     "execution_count": 18,
     "metadata": {},
     "output_type": "execute_result"
    }
   ],
   "source": [
    "# 예시 1\n",
    "arr_linspace1 = np.linspace(0, 1, 5)\n",
    "arr_linspace1"
   ]
  },
  {
   "cell_type": "code",
   "execution_count": 19,
   "id": "876bfe0a-2bdd-4081-a278-53bf9fbc4d26",
   "metadata": {},
   "outputs": [
    {
     "data": {
      "text/plain": [
       "array([0.        , 0.6981317 , 1.3962634 , 2.0943951 , 2.7925268 ,\n",
       "       3.4906585 , 4.1887902 , 4.88692191, 5.58505361, 6.28318531])"
      ]
     },
     "execution_count": 19,
     "metadata": {},
     "output_type": "execute_result"
    }
   ],
   "source": [
    "# 예시 2\n",
    "arr_linspace2 = np.linspace(0, 2*np.pi, 10)\n",
    "arr_linspace2"
   ]
  },
  {
   "cell_type": "markdown",
   "id": "fef9d9db-5895-45d9-a160-8787dd3afce0",
   "metadata": {
    "jp-MarkdownHeadingCollapsed": true,
    "tags": []
   },
   "source": [
    "# 4. Calculate (연산)"
   ]
  },
  {
   "cell_type": "markdown",
   "id": "33ac325c-6bb9-4223-96bf-c8da6d26959f",
   "metadata": {
    "jp-MarkdownHeadingCollapsed": true,
    "tags": []
   },
   "source": [
    "## 1차원 배열"
   ]
  },
  {
   "cell_type": "code",
   "execution_count": 20,
   "id": "b0f7fd5c-5076-4308-a7b7-02b19752f673",
   "metadata": {},
   "outputs": [],
   "source": [
    "v1 = np.array([1,2,3])\n",
    "v2 = np.array([4,5,6])"
   ]
  },
  {
   "cell_type": "markdown",
   "id": "ffee71f6-98fa-4ffd-957b-694e93b56419",
   "metadata": {
    "jp-MarkdownHeadingCollapsed": true,
    "tags": []
   },
   "source": [
    "### v1 + v2"
   ]
  },
  {
   "cell_type": "code",
   "execution_count": 21,
   "id": "d39e798c-3576-4581-83cb-8a51d42d87e2",
   "metadata": {},
   "outputs": [
    {
     "data": {
      "text/plain": [
       "array([5, 7, 9])"
      ]
     },
     "execution_count": 21,
     "metadata": {},
     "output_type": "execute_result"
    }
   ],
   "source": [
    "v1 + v2"
   ]
  },
  {
   "cell_type": "markdown",
   "id": "f3363648-dbc2-4804-adfa-b27ce898ea73",
   "metadata": {
    "jp-MarkdownHeadingCollapsed": true,
    "tags": []
   },
   "source": [
    "### v1 + 상수"
   ]
  },
  {
   "cell_type": "code",
   "execution_count": 22,
   "id": "957b6890-e57f-4bf3-821e-03cebe59b4a0",
   "metadata": {},
   "outputs": [
    {
     "data": {
      "text/plain": [
       "array([11, 12, 13])"
      ]
     },
     "execution_count": 22,
     "metadata": {},
     "output_type": "execute_result"
    }
   ],
   "source": [
    "v1 + 10"
   ]
  },
  {
   "cell_type": "markdown",
   "id": "cf07c65b-55c5-4c61-aff3-0cd67cf73119",
   "metadata": {
    "jp-MarkdownHeadingCollapsed": true,
    "tags": []
   },
   "source": [
    "### v1 * v2"
   ]
  },
  {
   "cell_type": "code",
   "execution_count": 23,
   "id": "7eaf2bc9-2e6d-44ea-82da-f3ebeca1cf3b",
   "metadata": {},
   "outputs": [
    {
     "data": {
      "text/plain": [
       "array([ 4, 10, 18])"
      ]
     },
     "execution_count": 23,
     "metadata": {},
     "output_type": "execute_result"
    }
   ],
   "source": [
    "v1 * v2"
   ]
  },
  {
   "cell_type": "markdown",
   "id": "1184a992-5031-40bf-9abc-69b485742e00",
   "metadata": {
    "jp-MarkdownHeadingCollapsed": true,
    "tags": []
   },
   "source": [
    "### v1 ** v2"
   ]
  },
  {
   "cell_type": "code",
   "execution_count": 24,
   "id": "20a0080f-39c1-4793-9465-76d0e0e519f1",
   "metadata": {},
   "outputs": [
    {
     "data": {
      "text/plain": [
       "array([  1,  32, 729])"
      ]
     },
     "execution_count": 24,
     "metadata": {},
     "output_type": "execute_result"
    }
   ],
   "source": [
    "v1 ** v2"
   ]
  },
  {
   "cell_type": "markdown",
   "id": "3c458cbf-59d1-4511-b56d-df52d21229ef",
   "metadata": {
    "jp-MarkdownHeadingCollapsed": true,
    "tags": []
   },
   "source": [
    "## 2차원 배열"
   ]
  },
  {
   "cell_type": "code",
   "execution_count": 25,
   "id": "a214e023-c663-4336-a86e-066f0e0f7208",
   "metadata": {},
   "outputs": [],
   "source": [
    "v1 = np.array([[1,2],[3,4]])\n",
    "v2 = np.array([[5,6],[7,8]])"
   ]
  },
  {
   "cell_type": "markdown",
   "id": "63fc74c3-427f-4295-be09-e240702062f7",
   "metadata": {
    "jp-MarkdownHeadingCollapsed": true,
    "tags": []
   },
   "source": [
    "### v1 + v2"
   ]
  },
  {
   "cell_type": "code",
   "execution_count": 26,
   "id": "fb8af854-4b04-483c-9b63-5b12ff2a24ae",
   "metadata": {},
   "outputs": [
    {
     "data": {
      "text/plain": [
       "array([[ 6,  8],\n",
       "       [10, 12]])"
      ]
     },
     "execution_count": 26,
     "metadata": {},
     "output_type": "execute_result"
    }
   ],
   "source": [
    "v1 + v2"
   ]
  },
  {
   "cell_type": "markdown",
   "id": "fd418a13-e5cd-4a0d-9ad4-496117781966",
   "metadata": {
    "jp-MarkdownHeadingCollapsed": true,
    "tags": []
   },
   "source": [
    "### v1 + np.array"
   ]
  },
  {
   "cell_type": "code",
   "execution_count": 27,
   "id": "d502ec65-14d9-4091-a10a-6eb44b722c75",
   "metadata": {},
   "outputs": [
    {
     "data": {
      "text/plain": [
       "array([[ 11,  12],\n",
       "       [103, 104]])"
      ]
     },
     "execution_count": 27,
     "metadata": {},
     "output_type": "execute_result"
    }
   ],
   "source": [
    "v1 + np.array([[10],[100]])"
   ]
  },
  {
   "cell_type": "markdown",
   "id": "b8f79065-c13a-48a9-bb4b-bd50f31e49a2",
   "metadata": {
    "jp-MarkdownHeadingCollapsed": true,
    "tags": []
   },
   "source": [
    "### Boolean"
   ]
  },
  {
   "cell_type": "code",
   "execution_count": 28,
   "id": "bc1a487d-e973-4f77-b13d-cc6d21084f88",
   "metadata": {},
   "outputs": [
    {
     "data": {
      "text/plain": [
       "array([[False,  True],\n",
       "       [ True,  True]])"
      ]
     },
     "execution_count": 28,
     "metadata": {},
     "output_type": "execute_result"
    }
   ],
   "source": [
    "v1 > 1"
   ]
  },
  {
   "cell_type": "code",
   "execution_count": 29,
   "id": "93ddb465-3914-47d6-9518-d39848d212ec",
   "metadata": {},
   "outputs": [
    {
     "data": {
      "text/plain": [
       "array([[False, False],\n",
       "       [False, False]])"
      ]
     },
     "execution_count": 29,
     "metadata": {},
     "output_type": "execute_result"
    }
   ],
   "source": [
    "v1 > v2"
   ]
  },
  {
   "cell_type": "code",
   "execution_count": 30,
   "id": "8f627a59-9f61-469a-87c1-342443eb074c",
   "metadata": {},
   "outputs": [
    {
     "data": {
      "text/plain": [
       "array([[ True,  True],\n",
       "       [False,  True]])"
      ]
     },
     "execution_count": 30,
     "metadata": {},
     "output_type": "execute_result"
    }
   ],
   "source": [
    "v1 != 3"
   ]
  },
  {
   "cell_type": "code",
   "execution_count": 31,
   "id": "34e9145e-fa7e-4386-a0b0-360aa43f33b3",
   "metadata": {},
   "outputs": [
    {
     "data": {
      "text/plain": [
       "array([[1, 0],\n",
       "       [1, 0]], dtype=int32)"
      ]
     },
     "execution_count": 31,
     "metadata": {},
     "output_type": "execute_result"
    }
   ],
   "source": [
    "v1 % 2"
   ]
  },
  {
   "cell_type": "code",
   "execution_count": 32,
   "id": "525cbcd2-84ae-4180-93a4-004a54d2ded4",
   "metadata": {},
   "outputs": [
    {
     "data": {
      "text/plain": [
       "array([[False,  True],\n",
       "       [False,  True]])"
      ]
     },
     "execution_count": 32,
     "metadata": {},
     "output_type": "execute_result"
    }
   ],
   "source": [
    "v1 % 2 == 0"
   ]
  },
  {
   "cell_type": "markdown",
   "id": "1fcd1609-c2e6-45ff-8a5d-fd3271e10ab9",
   "metadata": {
    "jp-MarkdownHeadingCollapsed": true,
    "tags": []
   },
   "source": [
    "# 5. Slicing (슬라이싱)"
   ]
  },
  {
   "cell_type": "code",
   "execution_count": 33,
   "id": "426b917b-65bb-4969-9508-6dd4e9afbbdc",
   "metadata": {},
   "outputs": [
    {
     "data": {
      "text/plain": [
       "array([1, 2, 3, 4, 5])"
      ]
     },
     "execution_count": 33,
     "metadata": {},
     "output_type": "execute_result"
    }
   ],
   "source": [
    "v1 = np.array([1,2,3,4,5])\n",
    "v1"
   ]
  },
  {
   "cell_type": "code",
   "execution_count": 34,
   "id": "bcdb92f8-c5a6-4c53-9196-6e49a6ddc099",
   "metadata": {},
   "outputs": [
    {
     "data": {
      "text/plain": [
       "array([2, 3, 4, 5])"
      ]
     },
     "execution_count": 34,
     "metadata": {},
     "output_type": "execute_result"
    }
   ],
   "source": [
    "v1[1:]"
   ]
  },
  {
   "cell_type": "code",
   "execution_count": 35,
   "id": "39e45fc3-fea1-47e4-b617-acd466f7be86",
   "metadata": {},
   "outputs": [
    {
     "data": {
      "text/plain": [
       "array([1, 2, 3, 4])"
      ]
     },
     "execution_count": 35,
     "metadata": {},
     "output_type": "execute_result"
    }
   ],
   "source": [
    "v1[:-1]"
   ]
  },
  {
   "cell_type": "code",
   "execution_count": 36,
   "id": "5fc75565-2c29-4573-a39f-88630aaf7451",
   "metadata": {},
   "outputs": [
    {
     "data": {
      "text/plain": [
       "1"
      ]
     },
     "execution_count": 36,
     "metadata": {},
     "output_type": "execute_result"
    }
   ],
   "source": [
    "v1[0]"
   ]
  },
  {
   "cell_type": "code",
   "execution_count": 37,
   "id": "899fd569-15f9-427b-83ee-c0fd0a8c72c1",
   "metadata": {},
   "outputs": [
    {
     "data": {
      "text/plain": [
       "2"
      ]
     },
     "execution_count": 37,
     "metadata": {},
     "output_type": "execute_result"
    }
   ],
   "source": [
    "v1[1]"
   ]
  },
  {
   "cell_type": "code",
   "execution_count": 38,
   "id": "d3097f91-dc81-4cbf-b7b6-e1deb6d14e12",
   "metadata": {},
   "outputs": [
    {
     "data": {
      "text/plain": [
       "array([[1, 2],\n",
       "       [3, 4]])"
      ]
     },
     "execution_count": 38,
     "metadata": {},
     "output_type": "execute_result"
    }
   ],
   "source": [
    "v2 = np.array([[1,2],[3,4]])\n",
    "v2"
   ]
  },
  {
   "cell_type": "code",
   "execution_count": 39,
   "id": "d886135e-94dc-4d28-9361-61e7fb31a416",
   "metadata": {},
   "outputs": [
    {
     "data": {
      "text/plain": [
       "array([3, 4])"
      ]
     },
     "execution_count": 39,
     "metadata": {},
     "output_type": "execute_result"
    }
   ],
   "source": [
    "v2[1]"
   ]
  },
  {
   "cell_type": "code",
   "execution_count": 40,
   "id": "a594bf1e-69d3-4c65-9aca-f815d570f523",
   "metadata": {},
   "outputs": [
    {
     "data": {
      "text/plain": [
       "2"
      ]
     },
     "execution_count": 40,
     "metadata": {},
     "output_type": "execute_result"
    }
   ],
   "source": [
    "v2[0][1]"
   ]
  },
  {
   "cell_type": "code",
   "execution_count": 41,
   "id": "c81097c8-592f-4da7-8017-db02aa7f11df",
   "metadata": {},
   "outputs": [
    {
     "data": {
      "text/plain": [
       "2"
      ]
     },
     "execution_count": 41,
     "metadata": {},
     "output_type": "execute_result"
    }
   ],
   "source": [
    "v2[0,1]"
   ]
  },
  {
   "cell_type": "code",
   "execution_count": 42,
   "id": "e7b346a7-661d-4479-b854-19c77d7babb4",
   "metadata": {},
   "outputs": [
    {
     "data": {
      "text/plain": [
       "array([[0, 1],\n",
       "       [0, 1]])"
      ]
     },
     "execution_count": 42,
     "metadata": {},
     "output_type": "execute_result"
    }
   ],
   "source": [
    "v2[:] = [0,1]\n",
    "v2"
   ]
  },
  {
   "cell_type": "code",
   "execution_count": 43,
   "id": "69ed4395-577d-4671-af79-cc1fd233a5dd",
   "metadata": {},
   "outputs": [
    {
     "data": {
      "text/plain": [
       "array([[100, 100],\n",
       "       [200, 200]])"
      ]
     },
     "execution_count": 43,
     "metadata": {},
     "output_type": "execute_result"
    }
   ],
   "source": [
    "v2[:] = [[100],[200]]\n",
    "v2"
   ]
  },
  {
   "cell_type": "markdown",
   "id": "fa6d422e-da7c-4244-8dee-7d322a20aa24",
   "metadata": {
    "jp-MarkdownHeadingCollapsed": true,
    "tags": []
   },
   "source": [
    "## 예제\n",
    "* 1차원 내부 값 개수 : 5개\n",
    "* 2차원 내부 값 개수 : 4개\n",
    "* 3차원 내부 값 개수 : 3개\n",
    "* 4차원 내부 값 개수 : 2개"
   ]
  },
  {
   "cell_type": "code",
   "execution_count": 44,
   "id": "52ce143a-3e77-4a0b-94c5-756a6cc6686c",
   "metadata": {},
   "outputs": [
    {
     "data": {
      "text/plain": [
       "array([[[[0., 0., 0., 0., 0.],\n",
       "         [0., 0., 0., 0., 0.],\n",
       "         [0., 0., 0., 0., 0.],\n",
       "         [0., 0., 0., 0., 0.]],\n",
       "\n",
       "        [[0., 0., 0., 0., 0.],\n",
       "         [0., 0., 0., 0., 0.],\n",
       "         [0., 0., 0., 0., 0.],\n",
       "         [0., 0., 0., 0., 0.]],\n",
       "\n",
       "        [[0., 0., 0., 0., 0.],\n",
       "         [0., 0., 0., 0., 0.],\n",
       "         [0., 0., 0., 0., 0.],\n",
       "         [0., 0., 0., 0., 0.]]],\n",
       "\n",
       "\n",
       "       [[[0., 0., 0., 0., 0.],\n",
       "         [0., 0., 0., 0., 0.],\n",
       "         [0., 0., 0., 0., 0.],\n",
       "         [0., 0., 0., 0., 0.]],\n",
       "\n",
       "        [[0., 0., 0., 0., 0.],\n",
       "         [0., 0., 0., 0., 0.],\n",
       "         [0., 0., 0., 0., 0.],\n",
       "         [0., 0., 0., 0., 0.]],\n",
       "\n",
       "        [[0., 0., 0., 0., 0.],\n",
       "         [0., 0., 0., 0., 0.],\n",
       "         [0., 0., 0., 0., 0.],\n",
       "         [0., 0., 0., 0., 0.]]]])"
      ]
     },
     "execution_count": 44,
     "metadata": {},
     "output_type": "execute_result"
    }
   ],
   "source": [
    "zero = np.zeros((2,3,4,5))\n",
    "zero"
   ]
  },
  {
   "cell_type": "markdown",
   "id": "5aab8b8e-8cc0-45ab-81b0-ab91ea2ab113",
   "metadata": {
    "jp-MarkdownHeadingCollapsed": true,
    "tags": []
   },
   "source": [
    "### 1번\n",
    "4차원 첫 번째, 3차원 세 번째, 2차원 세 번째의 1차원 배열 전체를 1로 변경"
   ]
  },
  {
   "cell_type": "code",
   "execution_count": 45,
   "id": "3925e2c6-8dfb-4b61-8346-08f970b48d0a",
   "metadata": {},
   "outputs": [
    {
     "data": {
      "text/plain": [
       "array([[[[0., 0., 0., 0., 0.],\n",
       "         [0., 0., 0., 0., 0.],\n",
       "         [0., 0., 0., 0., 0.],\n",
       "         [0., 0., 0., 0., 0.]],\n",
       "\n",
       "        [[0., 0., 0., 0., 0.],\n",
       "         [0., 0., 0., 0., 0.],\n",
       "         [0., 0., 0., 0., 0.],\n",
       "         [0., 0., 0., 0., 0.]],\n",
       "\n",
       "        [[0., 0., 0., 0., 0.],\n",
       "         [0., 0., 0., 0., 0.],\n",
       "         [1., 1., 1., 1., 1.],\n",
       "         [0., 0., 0., 0., 0.]]],\n",
       "\n",
       "\n",
       "       [[[0., 0., 0., 0., 0.],\n",
       "         [0., 0., 0., 0., 0.],\n",
       "         [0., 0., 0., 0., 0.],\n",
       "         [0., 0., 0., 0., 0.]],\n",
       "\n",
       "        [[0., 0., 0., 0., 0.],\n",
       "         [0., 0., 0., 0., 0.],\n",
       "         [0., 0., 0., 0., 0.],\n",
       "         [0., 0., 0., 0., 0.]],\n",
       "\n",
       "        [[0., 0., 0., 0., 0.],\n",
       "         [0., 0., 0., 0., 0.],\n",
       "         [0., 0., 0., 0., 0.],\n",
       "         [0., 0., 0., 0., 0.]]]])"
      ]
     },
     "execution_count": 45,
     "metadata": {},
     "output_type": "execute_result"
    }
   ],
   "source": [
    "zero = np.zeros((2,3,4,5))\n",
    "zero[0,2,2] = 1\n",
    "zero"
   ]
  },
  {
   "cell_type": "markdown",
   "id": "e46f0bc7-0ce0-4f7b-9288-da875830fcc3",
   "metadata": {
    "jp-MarkdownHeadingCollapsed": true,
    "tags": []
   },
   "source": [
    "### 2번\n",
    "4차원 첫 번째의 인덱스 1번 전체를 1로 변경"
   ]
  },
  {
   "cell_type": "code",
   "execution_count": 46,
   "id": "0415b11f-026e-4ca8-ab14-b629ea95260c",
   "metadata": {},
   "outputs": [
    {
     "data": {
      "text/plain": [
       "array([[[[0., 1., 0., 0., 0.],\n",
       "         [0., 1., 0., 0., 0.],\n",
       "         [0., 1., 0., 0., 0.],\n",
       "         [0., 1., 0., 0., 0.]],\n",
       "\n",
       "        [[0., 1., 0., 0., 0.],\n",
       "         [0., 1., 0., 0., 0.],\n",
       "         [0., 1., 0., 0., 0.],\n",
       "         [0., 1., 0., 0., 0.]],\n",
       "\n",
       "        [[0., 1., 0., 0., 0.],\n",
       "         [0., 1., 0., 0., 0.],\n",
       "         [0., 1., 0., 0., 0.],\n",
       "         [0., 1., 0., 0., 0.]]],\n",
       "\n",
       "\n",
       "       [[[0., 0., 0., 0., 0.],\n",
       "         [0., 0., 0., 0., 0.],\n",
       "         [0., 0., 0., 0., 0.],\n",
       "         [0., 0., 0., 0., 0.]],\n",
       "\n",
       "        [[0., 0., 0., 0., 0.],\n",
       "         [0., 0., 0., 0., 0.],\n",
       "         [0., 0., 0., 0., 0.],\n",
       "         [0., 0., 0., 0., 0.]],\n",
       "\n",
       "        [[0., 0., 0., 0., 0.],\n",
       "         [0., 0., 0., 0., 0.],\n",
       "         [0., 0., 0., 0., 0.],\n",
       "         [0., 0., 0., 0., 0.]]]])"
      ]
     },
     "execution_count": 46,
     "metadata": {},
     "output_type": "execute_result"
    }
   ],
   "source": [
    "zero = np.zeros((2,3,4,5))\n",
    "zero[0,:,:,1] = 1\n",
    "zero"
   ]
  },
  {
   "cell_type": "markdown",
   "id": "56ec5db2-89c3-4f55-b174-0acde4ebbbf7",
   "metadata": {
    "jp-MarkdownHeadingCollapsed": true,
    "tags": []
   },
   "source": [
    "### 3번\n",
    "4차원 첫 번째, 3차원 두 번째 이후의 모든 배열 전체를 1로 변경"
   ]
  },
  {
   "cell_type": "code",
   "execution_count": 47,
   "id": "1fb70928-3267-4747-a8a4-62e562d2a965",
   "metadata": {},
   "outputs": [
    {
     "data": {
      "text/plain": [
       "array([[[[0., 0., 0., 0., 0.],\n",
       "         [0., 0., 0., 0., 0.],\n",
       "         [0., 0., 0., 0., 0.],\n",
       "         [0., 0., 0., 0., 0.]],\n",
       "\n",
       "        [[1., 1., 1., 1., 1.],\n",
       "         [1., 1., 1., 1., 1.],\n",
       "         [1., 1., 1., 1., 1.],\n",
       "         [1., 1., 1., 1., 1.]],\n",
       "\n",
       "        [[1., 1., 1., 1., 1.],\n",
       "         [1., 1., 1., 1., 1.],\n",
       "         [1., 1., 1., 1., 1.],\n",
       "         [1., 1., 1., 1., 1.]]],\n",
       "\n",
       "\n",
       "       [[[0., 0., 0., 0., 0.],\n",
       "         [0., 0., 0., 0., 0.],\n",
       "         [0., 0., 0., 0., 0.],\n",
       "         [0., 0., 0., 0., 0.]],\n",
       "\n",
       "        [[0., 0., 0., 0., 0.],\n",
       "         [0., 0., 0., 0., 0.],\n",
       "         [0., 0., 0., 0., 0.],\n",
       "         [0., 0., 0., 0., 0.]],\n",
       "\n",
       "        [[0., 0., 0., 0., 0.],\n",
       "         [0., 0., 0., 0., 0.],\n",
       "         [0., 0., 0., 0., 0.],\n",
       "         [0., 0., 0., 0., 0.]]]])"
      ]
     },
     "execution_count": 47,
     "metadata": {},
     "output_type": "execute_result"
    }
   ],
   "source": [
    "zero = np.zeros((2,3,4,5))\n",
    "zero[0,1:,:,:] = 1\n",
    "zero"
   ]
  },
  {
   "cell_type": "markdown",
   "id": "55b712d0-415f-4393-a4bf-1d61ee6eb785",
   "metadata": {
    "jp-MarkdownHeadingCollapsed": true,
    "tags": []
   },
   "source": [
    "# 6. 실습 문제"
   ]
  },
  {
   "cell_type": "markdown",
   "id": "5f212004-3340-4267-96c9-54e410a84f51",
   "metadata": {
    "jp-MarkdownHeadingCollapsed": true,
    "tags": []
   },
   "source": [
    "## 1번\n",
    "Numpy 배열을 생성하고, 아래의 문제를 해결하세요."
   ]
  },
  {
   "cell_type": "markdown",
   "id": "e8eb2f76-57a6-45de-9ab8-e6c069d8f641",
   "metadata": {
    "jp-MarkdownHeadingCollapsed": true,
    "tags": []
   },
   "source": [
    "### 1).\n",
    "3, 3 크기의 2차원 배열을 생성하고, 모든 요소를 0으로 초기화하세요."
   ]
  },
  {
   "cell_type": "code",
   "execution_count": 48,
   "id": "617f85df-3a82-4608-898a-4dbc758f78fe",
   "metadata": {},
   "outputs": [
    {
     "data": {
      "text/plain": [
       "array([[0, 0, 0],\n",
       "       [0, 0, 0],\n",
       "       [0, 0, 0]])"
      ]
     },
     "execution_count": 48,
     "metadata": {},
     "output_type": "execute_result"
    }
   ],
   "source": [
    "arr = np.zeros((3,3), dtype = int)\n",
    "arr"
   ]
  },
  {
   "cell_type": "markdown",
   "id": "44812c96-440a-4578-a73c-66abb454d85e",
   "metadata": {
    "jp-MarkdownHeadingCollapsed": true,
    "tags": []
   },
   "source": [
    "### 2).\n",
    "5개의 랜덤 정수로 이루어진 1차원 Numpy 배열을 생성하세요.  \n",
    "이 때, 각 요소의 값은 0이상 9이하의 정수 중에서 무작위로 선택되어야 합니다."
   ]
  },
  {
   "cell_type": "code",
   "execution_count": 49,
   "id": "42ef57c0-1ccb-4a82-a87f-1fa8cb902a5d",
   "metadata": {},
   "outputs": [
    {
     "data": {
      "text/plain": [
       "array([6, 7, 7, 2, 8])"
      ]
     },
     "execution_count": 49,
     "metadata": {},
     "output_type": "execute_result"
    }
   ],
   "source": [
    "arr = np.random.randint(low = 2, high = 9, size = 5)\n",
    "arr"
   ]
  },
  {
   "cell_type": "markdown",
   "id": "8a103693-05d4-4e72-bc38-7927426d85f5",
   "metadata": {
    "jp-MarkdownHeadingCollapsed": true,
    "tags": []
   },
   "source": [
    "### 3).\n",
    "2, 3, 4 크기의 3차원 Numpy 배열을 생성하고, 모든 요소의 값을 1로 설정하세요."
   ]
  },
  {
   "cell_type": "code",
   "execution_count": 50,
   "id": "660be361-e07e-4032-ad81-4a4252f6eb47",
   "metadata": {},
   "outputs": [
    {
     "data": {
      "text/plain": [
       "array([[[1, 1, 1, 1],\n",
       "        [1, 1, 1, 1],\n",
       "        [1, 1, 1, 1]],\n",
       "\n",
       "       [[1, 1, 1, 1],\n",
       "        [1, 1, 1, 1],\n",
       "        [1, 1, 1, 1]]])"
      ]
     },
     "execution_count": 50,
     "metadata": {},
     "output_type": "execute_result"
    }
   ],
   "source": [
    "arr = np.ones((2,3,4), dtype = int)\n",
    "arr"
   ]
  },
  {
   "cell_type": "markdown",
   "id": "10bc422d-b291-4eec-b9b0-7363afeb7402",
   "metadata": {
    "jp-MarkdownHeadingCollapsed": true,
    "tags": []
   },
   "source": [
    "## 2번\n",
    "Numpy 배열을 생성하고, 아래의 문제를 해결하세요."
   ]
  },
  {
   "cell_type": "code",
   "execution_count": 51,
   "id": "3b3d6406-355e-4be6-8bf0-d2c160be9f7b",
   "metadata": {},
   "outputs": [
    {
     "data": {
      "text/plain": [
       "array([[1, 2, 3],\n",
       "       [4, 5, 6]])"
      ]
     },
     "execution_count": 51,
     "metadata": {},
     "output_type": "execute_result"
    }
   ],
   "source": [
    "arr = np.array([[1,2,3],[4,5,6]])\n",
    "arr"
   ]
  },
  {
   "cell_type": "markdown",
   "id": "3cfc1239-b8bf-4950-8d4b-a3d2ce2f989e",
   "metadata": {
    "jp-MarkdownHeadingCollapsed": true,
    "tags": []
   },
   "source": [
    "### 1).\n",
    "크기 확인"
   ]
  },
  {
   "cell_type": "code",
   "execution_count": 52,
   "id": "ccf73267-0367-4433-be66-b3934d835779",
   "metadata": {},
   "outputs": [
    {
     "data": {
      "text/plain": [
       "(2, 3)"
      ]
     },
     "execution_count": 52,
     "metadata": {},
     "output_type": "execute_result"
    }
   ],
   "source": [
    "arr.shape"
   ]
  },
  {
   "cell_type": "markdown",
   "id": "7f8171cb-b2b9-4828-97bc-fe50ce8326cf",
   "metadata": {
    "jp-MarkdownHeadingCollapsed": true,
    "tags": []
   },
   "source": [
    "### 2).\n",
    "요소 개수 확인"
   ]
  },
  {
   "cell_type": "code",
   "execution_count": 53,
   "id": "a1cd144c-ca5a-4b8d-bce3-23015cf13f8a",
   "metadata": {},
   "outputs": [
    {
     "data": {
      "text/plain": [
       "6"
      ]
     },
     "execution_count": 53,
     "metadata": {},
     "output_type": "execute_result"
    }
   ],
   "source": [
    "arr.size"
   ]
  },
  {
   "cell_type": "markdown",
   "id": "e5e24bbe-497e-4c4f-a3e2-72baf8fb4c71",
   "metadata": {
    "jp-MarkdownHeadingCollapsed": true,
    "tags": []
   },
   "source": [
    "### 3).\n",
    "데이터 타입 확인"
   ]
  },
  {
   "cell_type": "code",
   "execution_count": 54,
   "id": "eb30c982-a240-459f-88df-43e87a4f011a",
   "metadata": {},
   "outputs": [
    {
     "data": {
      "text/plain": [
       "dtype('int32')"
      ]
     },
     "execution_count": 54,
     "metadata": {},
     "output_type": "execute_result"
    }
   ],
   "source": [
    "arr.dtype"
   ]
  },
  {
   "cell_type": "markdown",
   "id": "e377d5ab-7bea-4489-a19e-8a8562de2c78",
   "metadata": {
    "jp-MarkdownHeadingCollapsed": true,
    "tags": []
   },
   "source": [
    "## 3번\n",
    "다음과 같이 두 개의 Numpy 배열이 있다고 가정하고, 아래의 문제를 해결하세요."
   ]
  },
  {
   "cell_type": "code",
   "execution_count": 55,
   "id": "3be62afb-0305-44ef-8086-d94e4848ddc4",
   "metadata": {},
   "outputs": [],
   "source": [
    "arr1 = np.array([1,2,3])\n",
    "arr2 = np.array([4,5,6])"
   ]
  },
  {
   "cell_type": "markdown",
   "id": "4acd65e6-e146-4db4-b30c-5e694ccf4871",
   "metadata": {
    "jp-MarkdownHeadingCollapsed": true,
    "tags": []
   },
   "source": [
    "### 1).\n",
    "두 배열을 더하기"
   ]
  },
  {
   "cell_type": "code",
   "execution_count": 56,
   "id": "76c51c43-0a7c-4109-bc70-589af307c5cb",
   "metadata": {},
   "outputs": [
    {
     "data": {
      "text/plain": [
       "array([5, 7, 9])"
      ]
     },
     "execution_count": 56,
     "metadata": {},
     "output_type": "execute_result"
    }
   ],
   "source": [
    "arr1 + arr2"
   ]
  },
  {
   "cell_type": "markdown",
   "id": "74d3e8f2-a824-4c30-a13f-7a8e1260cdce",
   "metadata": {
    "jp-MarkdownHeadingCollapsed": true,
    "tags": []
   },
   "source": [
    "### 2).\n",
    "두 배열을 빼기"
   ]
  },
  {
   "cell_type": "code",
   "execution_count": 57,
   "id": "7239f269-15e8-46c4-a3a5-cc695a4d0c67",
   "metadata": {},
   "outputs": [
    {
     "data": {
      "text/plain": [
       "array([-3, -3, -3])"
      ]
     },
     "execution_count": 57,
     "metadata": {},
     "output_type": "execute_result"
    }
   ],
   "source": [
    "arr1 - arr2"
   ]
  },
  {
   "cell_type": "markdown",
   "id": "c1e3bec9-63f1-4b05-9f8f-10224eb3a981",
   "metadata": {
    "jp-MarkdownHeadingCollapsed": true,
    "tags": []
   },
   "source": [
    "### 3).\n",
    "두 배열을 곱하기"
   ]
  },
  {
   "cell_type": "code",
   "execution_count": 58,
   "id": "aa88cea1-ec00-4e8a-a9b9-8cee4799d57c",
   "metadata": {},
   "outputs": [
    {
     "data": {
      "text/plain": [
       "array([ 4, 10, 18])"
      ]
     },
     "execution_count": 58,
     "metadata": {},
     "output_type": "execute_result"
    }
   ],
   "source": [
    "arr1 * arr2"
   ]
  },
  {
   "cell_type": "markdown",
   "id": "7de60500-cf26-4b60-aa17-aef494d999e0",
   "metadata": {
    "jp-MarkdownHeadingCollapsed": true,
    "tags": []
   },
   "source": [
    "### 4).\n",
    "두 배열을 나누기"
   ]
  },
  {
   "cell_type": "code",
   "execution_count": 59,
   "id": "ec176c12-3339-42f1-aebc-124c1055c828",
   "metadata": {},
   "outputs": [
    {
     "data": {
      "text/plain": [
       "array([0.25, 0.4 , 0.5 ])"
      ]
     },
     "execution_count": 59,
     "metadata": {},
     "output_type": "execute_result"
    }
   ],
   "source": [
    "arr1 / arr2"
   ]
  },
  {
   "cell_type": "markdown",
   "id": "7fb0f78c-d435-4800-823c-fa9b7da6a14f",
   "metadata": {
    "jp-MarkdownHeadingCollapsed": true,
    "tags": []
   },
   "source": [
    "### 5).\n",
    "첫 번째 배열을 제곱하기"
   ]
  },
  {
   "cell_type": "code",
   "execution_count": 60,
   "id": "f0be8ba2-372b-475e-8f9c-089b153cfd2a",
   "metadata": {},
   "outputs": [
    {
     "data": {
      "text/plain": [
       "array([1, 4, 9])"
      ]
     },
     "execution_count": 60,
     "metadata": {},
     "output_type": "execute_result"
    }
   ],
   "source": [
    "arr1 ** 2"
   ]
  },
  {
   "cell_type": "markdown",
   "id": "abb23ab9-e1dc-45cc-b31a-4b9a8dbb7df8",
   "metadata": {
    "jp-MarkdownHeadingCollapsed": true,
    "tags": []
   },
   "source": [
    "### 6).\n",
    "두 배열 각각의 평균 구하기"
   ]
  },
  {
   "cell_type": "code",
   "execution_count": 61,
   "id": "33d39a29-4ae1-4bc3-8adf-c51e2b8493d4",
   "metadata": {},
   "outputs": [
    {
     "data": {
      "text/plain": [
       "array([2.5, 3.5, 4.5])"
      ]
     },
     "execution_count": 61,
     "metadata": {},
     "output_type": "execute_result"
    }
   ],
   "source": [
    "(arr1 + arr2) / 2"
   ]
  },
  {
   "cell_type": "markdown",
   "id": "6725f57e-e0ec-487a-b74a-0a664b9c7a66",
   "metadata": {
    "jp-MarkdownHeadingCollapsed": true,
    "tags": []
   },
   "source": [
    "## 4번\n",
    "모든 요소가 0인 5, 5 크기의 Numpy 배열을 만든 후, 모든 요소의 값을 5로 변경하세요."
   ]
  },
  {
   "cell_type": "code",
   "execution_count": 62,
   "id": "d83b73f7-4303-40c0-9d04-e9aa02bcf680",
   "metadata": {},
   "outputs": [
    {
     "data": {
      "text/plain": [
       "array([[5., 5., 5., 5., 5.],\n",
       "       [5., 5., 5., 5., 5.],\n",
       "       [5., 5., 5., 5., 5.],\n",
       "       [5., 5., 5., 5., 5.],\n",
       "       [5., 5., 5., 5., 5.]])"
      ]
     },
     "execution_count": 62,
     "metadata": {},
     "output_type": "execute_result"
    }
   ],
   "source": [
    "arr = np.zeros((5,5))\n",
    "arr += 5\n",
    "arr"
   ]
  },
  {
   "cell_type": "markdown",
   "id": "a035a92b-d41a-498c-a48a-f3bb6f0559b1",
   "metadata": {
    "jp-MarkdownHeadingCollapsed": true,
    "tags": []
   },
   "source": [
    "## 5번\n",
    "Numpy 배열 arr = np.array( [ 1, 2, 3, 4, 5, 6 ] )이 있습니다.  \n",
    "Boolean Indexing을 활용하여 [ 1, 3, 5 ]를 출력하세요."
   ]
  },
  {
   "cell_type": "code",
   "execution_count": 63,
   "id": "dfa019c6-49fa-4d75-bf08-c235a28b3c43",
   "metadata": {},
   "outputs": [
    {
     "data": {
      "text/plain": [
       "array([1, 3, 5])"
      ]
     },
     "execution_count": 63,
     "metadata": {},
     "output_type": "execute_result"
    }
   ],
   "source": [
    "arr = np.array([1,2,3,4,5,6])\n",
    "arr[arr % 2 != 0]"
   ]
  },
  {
   "cell_type": "markdown",
   "id": "bc7a1dd0-366e-4f6b-9b68-c6b682e0aca1",
   "metadata": {
    "jp-MarkdownHeadingCollapsed": true,
    "tags": []
   },
   "source": [
    "## 6번\n",
    "Numpy 배열 arr = np.array( [ 1, 2, 3, 4, 5, 6 ] )이 있습니다.  \n",
    "Fancy Indexing을 활용하여 [ 1, 3, 5 ]를 출력하세요."
   ]
  },
  {
   "cell_type": "code",
   "execution_count": 64,
   "id": "5f53f1ff-123d-422e-a82c-181e5e00f25e",
   "metadata": {},
   "outputs": [
    {
     "data": {
      "text/plain": [
       "array([1, 3, 5])"
      ]
     },
     "execution_count": 64,
     "metadata": {},
     "output_type": "execute_result"
    }
   ],
   "source": [
    "arr = np.array([1,2,3,4,5,6])\n",
    "arr[[0,2,4]]"
   ]
  },
  {
   "cell_type": "code",
   "execution_count": null,
   "id": "b6349039-0d1c-4b1e-835f-7682a649bcb3",
   "metadata": {},
   "outputs": [],
   "source": []
  }
 ],
 "metadata": {
  "kernelspec": {
   "display_name": "Python 3 (ipykernel)",
   "language": "python",
   "name": "python3"
  },
  "language_info": {
   "codemirror_mode": {
    "name": "ipython",
    "version": 3
   },
   "file_extension": ".py",
   "mimetype": "text/x-python",
   "name": "python",
   "nbconvert_exporter": "python",
   "pygments_lexer": "ipython3",
   "version": "3.10.11"
  }
 },
 "nbformat": 4,
 "nbformat_minor": 5
}
